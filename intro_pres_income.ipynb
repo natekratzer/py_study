{
 "cells": [
  {
   "cell_type": "markdown",
   "metadata": {},
   "source": [
    "## Presidents and Income\n",
    "### An intro to python\n",
    "In this notebook we'll use historical data to look at the relationships between presidential parties and income growth."
   ]
  },
  {
   "cell_type": "markdown",
   "metadata": {},
   "source": [
    "The first step is to import the libraries we need for the analysis."
   ]
  },
  {
   "cell_type": "code",
   "execution_count": 1,
   "metadata": {},
   "outputs": [],
   "source": [
    "import pandas as pd #data science library for dataframes and data manipulation\n",
    "import os #operating system library to set the working directory"
   ]
  },
  {
   "cell_type": "code",
   "execution_count": 2,
   "metadata": {},
   "outputs": [],
   "source": [
    "os.chdir(\"/Users/bi6fgjk/Downloads/hist_income_by_quintile-main/\") "
   ]
  },
  {
   "cell_type": "markdown",
   "metadata": {},
   "source": [
    "Pandas has a read_csv function that can read files directly from Github. This is convenient since it saves people from needing to download the files in order to follow along. \n",
    "\n",
    "I made a csv of table F-1: https://www.census.gov/data/tables/time-series/demo/income-poverty/historical-income-families.html and saved it to Github to make it available for download. \n",
    "\n",
    "All values are in 2019 dollars as provided by the Census"
   ]
  },
  {
   "cell_type": "code",
   "execution_count": 9,
   "metadata": {},
   "outputs": [
    {
     "data": {
      "text/html": [
       "<div>\n",
       "<style scoped>\n",
       "    .dataframe tbody tr th:only-of-type {\n",
       "        vertical-align: middle;\n",
       "    }\n",
       "\n",
       "    .dataframe tbody tr th {\n",
       "        vertical-align: top;\n",
       "    }\n",
       "\n",
       "    .dataframe thead th {\n",
       "        text-align: right;\n",
       "    }\n",
       "</style>\n",
       "<table border=\"1\" class=\"dataframe\">\n",
       "  <thead>\n",
       "    <tr style=\"text-align: right;\">\n",
       "      <th></th>\n",
       "      <th>Year</th>\n",
       "      <th>20</th>\n",
       "      <th>40</th>\n",
       "      <th>60</th>\n",
       "      <th>80</th>\n",
       "      <th>95</th>\n",
       "    </tr>\n",
       "  </thead>\n",
       "  <tbody>\n",
       "    <tr>\n",
       "      <td>67</td>\n",
       "      <td>1954</td>\n",
       "      <td>16,759</td>\n",
       "      <td>29,479</td>\n",
       "      <td>39,907</td>\n",
       "      <td>54,676</td>\n",
       "      <td>86,645</td>\n",
       "    </tr>\n",
       "    <tr>\n",
       "      <td>68</td>\n",
       "      <td>1953</td>\n",
       "      <td>17,976</td>\n",
       "      <td>30,507</td>\n",
       "      <td>40,936</td>\n",
       "      <td>55,130</td>\n",
       "      <td>85,738</td>\n",
       "    </tr>\n",
       "    <tr>\n",
       "      <td>69</td>\n",
       "      <td>1952 (7)</td>\n",
       "      <td>17,370</td>\n",
       "      <td>28,098</td>\n",
       "      <td>38,014</td>\n",
       "      <td>51,416</td>\n",
       "      <td>79,996</td>\n",
       "    </tr>\n",
       "    <tr>\n",
       "      <td>70</td>\n",
       "      <td>1951</td>\n",
       "      <td>16,826</td>\n",
       "      <td>27,432</td>\n",
       "      <td>36,289</td>\n",
       "      <td>49,548</td>\n",
       "      <td>77,652</td>\n",
       "    </tr>\n",
       "    <tr>\n",
       "      <td>71</td>\n",
       "      <td>1950</td>\n",
       "      <td>15,441</td>\n",
       "      <td>26,550</td>\n",
       "      <td>35,335</td>\n",
       "      <td>49,112</td>\n",
       "      <td>80,088</td>\n",
       "    </tr>\n",
       "    <tr>\n",
       "      <td>72</td>\n",
       "      <td>1949 (6)</td>\n",
       "      <td>14,523</td>\n",
       "      <td>24,811</td>\n",
       "      <td>33,471</td>\n",
       "      <td>47,298</td>\n",
       "      <td>75,921</td>\n",
       "    </tr>\n",
       "    <tr>\n",
       "      <td>73</td>\n",
       "      <td>1948</td>\n",
       "      <td>15,385</td>\n",
       "      <td>25,295</td>\n",
       "      <td>33,773</td>\n",
       "      <td>47,114</td>\n",
       "      <td>76,722</td>\n",
       "    </tr>\n",
       "    <tr>\n",
       "      <td>74</td>\n",
       "      <td>1947 (5)</td>\n",
       "      <td>15,903</td>\n",
       "      <td>25,662</td>\n",
       "      <td>34,799</td>\n",
       "      <td>49,377</td>\n",
       "      <td>81,043</td>\n",
       "    </tr>\n",
       "  </tbody>\n",
       "</table>\n",
       "</div>"
      ],
      "text/plain": [
       "        Year      20      40      60      80      95\n",
       "67      1954  16,759  29,479  39,907  54,676  86,645\n",
       "68      1953  17,976  30,507  40,936  55,130  85,738\n",
       "69  1952 (7)  17,370  28,098  38,014  51,416  79,996\n",
       "70      1951  16,826  27,432  36,289  49,548  77,652\n",
       "71      1950  15,441  26,550  35,335  49,112  80,088\n",
       "72  1949 (6)  14,523  24,811  33,471  47,298  75,921\n",
       "73      1948  15,385  25,295  33,773  47,114  76,722\n",
       "74  1947 (5)  15,903  25,662  34,799  49,377  81,043"
      ]
     },
     "execution_count": 9,
     "metadata": {},
     "output_type": "execute_result"
    }
   ],
   "source": [
    "hist_df = pd.read_csv(\"https://raw.githubusercontent.com/natekratzer/hist_income_by_quintile/main/hist_income47.csv\")\n",
    "hist_df.tail(8)"
   ]
  }
 ],
 "metadata": {
  "kernelspec": {
   "display_name": "Python 3",
   "language": "python",
   "name": "python3"
  },
  "language_info": {
   "codemirror_mode": {
    "name": "ipython",
    "version": 3
   },
   "file_extension": ".py",
   "mimetype": "text/x-python",
   "name": "python",
   "nbconvert_exporter": "python",
   "pygments_lexer": "ipython3",
   "version": "3.7.4"
  }
 },
 "nbformat": 4,
 "nbformat_minor": 4
}
