{
 "cells": [
  {
   "cell_type": "markdown",
   "metadata": {},
   "source": [
    "## Presidents and Income\n",
    "### An intro to python\n",
    "In this notebook we'll use historical data to look at the relationships between presidential parties and income growth."
   ]
  },
  {
   "cell_type": "markdown",
   "metadata": {},
   "source": [
    "The first step is to import the libraries we need for the analysis."
   ]
  },
  {
   "cell_type": "code",
   "execution_count": 1,
   "metadata": {},
   "outputs": [],
   "source": [
    "import numpy as np #a numerical python library for working with arrays\n",
    "import pandas as pd # data science library for dataframes and data manipulation\n",
    "import altair as alt # a graphing library\n",
    "import os #operating system library to set the working directory"
   ]
  },
  {
   "cell_type": "code",
   "execution_count": 2,
   "metadata": {},
   "outputs": [],
   "source": [
    "# setting the working directory locally. This is a step you need to change\n",
    "# os.chdir(\"/Users/bi6fgjk/Documents/pers/py_study\") "
   ]
  },
  {
   "cell_type": "markdown",
   "metadata": {},
   "source": [
    "# First Data Source: Income"
   ]
  },
  {
   "cell_type": "markdown",
   "metadata": {},
   "source": [
    "Pandas has a read_csv function that can read files directly from Github. This is convenient since it saves people from needing to download the files in order to follow along. \n",
    "\n",
    "I made a csv of table F-1: https://www.census.gov/data/tables/time-series/demo/income-poverty/historical-income-families.html and saved it to Github to make it available for download. \n",
    "\n",
    "All values are in 2019 dollars as provided by the Census.\n",
    "\n",
    "Footnotes to the data are available here: https://www.census.gov/topics/income-poverty/income/guidance/cps-historic-footnotes.html"
   ]
  },
  {
   "cell_type": "code",
   "execution_count": 3,
   "metadata": {},
   "outputs": [
    {
     "data": {
      "text/html": [
       "<div>\n",
       "<style scoped>\n",
       "    .dataframe tbody tr th:only-of-type {\n",
       "        vertical-align: middle;\n",
       "    }\n",
       "\n",
       "    .dataframe tbody tr th {\n",
       "        vertical-align: top;\n",
       "    }\n",
       "\n",
       "    .dataframe thead th {\n",
       "        text-align: right;\n",
       "    }\n",
       "</style>\n",
       "<table border=\"1\" class=\"dataframe\">\n",
       "  <thead>\n",
       "    <tr style=\"text-align: right;\">\n",
       "      <th></th>\n",
       "      <th>Year</th>\n",
       "      <th>20</th>\n",
       "      <th>40</th>\n",
       "      <th>60</th>\n",
       "      <th>80</th>\n",
       "      <th>95</th>\n",
       "    </tr>\n",
       "  </thead>\n",
       "  <tbody>\n",
       "    <tr>\n",
       "      <th>67</th>\n",
       "      <td>1954</td>\n",
       "      <td>16,759</td>\n",
       "      <td>29,479</td>\n",
       "      <td>39,907</td>\n",
       "      <td>54,676</td>\n",
       "      <td>86,645</td>\n",
       "    </tr>\n",
       "    <tr>\n",
       "      <th>68</th>\n",
       "      <td>1953</td>\n",
       "      <td>17,976</td>\n",
       "      <td>30,507</td>\n",
       "      <td>40,936</td>\n",
       "      <td>55,130</td>\n",
       "      <td>85,738</td>\n",
       "    </tr>\n",
       "    <tr>\n",
       "      <th>69</th>\n",
       "      <td>1952 (7)</td>\n",
       "      <td>17,370</td>\n",
       "      <td>28,098</td>\n",
       "      <td>38,014</td>\n",
       "      <td>51,416</td>\n",
       "      <td>79,996</td>\n",
       "    </tr>\n",
       "    <tr>\n",
       "      <th>70</th>\n",
       "      <td>1951</td>\n",
       "      <td>16,826</td>\n",
       "      <td>27,432</td>\n",
       "      <td>36,289</td>\n",
       "      <td>49,548</td>\n",
       "      <td>77,652</td>\n",
       "    </tr>\n",
       "    <tr>\n",
       "      <th>71</th>\n",
       "      <td>1950</td>\n",
       "      <td>15,441</td>\n",
       "      <td>26,550</td>\n",
       "      <td>35,335</td>\n",
       "      <td>49,112</td>\n",
       "      <td>80,088</td>\n",
       "    </tr>\n",
       "    <tr>\n",
       "      <th>72</th>\n",
       "      <td>1949 (6)</td>\n",
       "      <td>14,523</td>\n",
       "      <td>24,811</td>\n",
       "      <td>33,471</td>\n",
       "      <td>47,298</td>\n",
       "      <td>75,921</td>\n",
       "    </tr>\n",
       "    <tr>\n",
       "      <th>73</th>\n",
       "      <td>1948</td>\n",
       "      <td>15,385</td>\n",
       "      <td>25,295</td>\n",
       "      <td>33,773</td>\n",
       "      <td>47,114</td>\n",
       "      <td>76,722</td>\n",
       "    </tr>\n",
       "    <tr>\n",
       "      <th>74</th>\n",
       "      <td>1947 (5)</td>\n",
       "      <td>15,903</td>\n",
       "      <td>25,662</td>\n",
       "      <td>34,799</td>\n",
       "      <td>49,377</td>\n",
       "      <td>81,043</td>\n",
       "    </tr>\n",
       "  </tbody>\n",
       "</table>\n",
       "</div>"
      ],
      "text/plain": [
       "        Year      20      40      60      80      95\n",
       "67      1954  16,759  29,479  39,907  54,676  86,645\n",
       "68      1953  17,976  30,507  40,936  55,130  85,738\n",
       "69  1952 (7)  17,370  28,098  38,014  51,416  79,996\n",
       "70      1951  16,826  27,432  36,289  49,548  77,652\n",
       "71      1950  15,441  26,550  35,335  49,112  80,088\n",
       "72  1949 (6)  14,523  24,811  33,471  47,298  75,921\n",
       "73      1948  15,385  25,295  33,773  47,114  76,722\n",
       "74  1947 (5)  15,903  25,662  34,799  49,377  81,043"
      ]
     },
     "execution_count": 3,
     "metadata": {},
     "output_type": "execute_result"
    }
   ],
   "source": [
    "hist_df = pd.read_csv(\"https://raw.githubusercontent.com/natekratzer/hist_income_by_quintile/main/hist_income47.csv\")\n",
    "hist_df.tail(8) #checking the last 8 rows"
   ]
  },
  {
   "cell_type": "code",
   "execution_count": 4,
   "metadata": {},
   "outputs": [],
   "source": [
    "# suppose I want to inspect the data more\n",
    "# an easy way is to write a quick .csv file and then open it still in Jupyter Lab\n",
    "hist_df.to_csv(\"explore_my_data.csv\")"
   ]
  },
  {
   "cell_type": "markdown",
   "metadata": {},
   "source": [
    "The year column has footnotes in it that are marked off with parentheses.\n",
    "So I googled 'Regular Expression to remove everything in parentheses'. "
   ]
  },
  {
   "cell_type": "code",
   "execution_count": 5,
   "metadata": {},
   "outputs": [
    {
     "name": "stderr",
     "output_type": "stream",
     "text": [
      "/tmp/ipykernel_7682/2993922613.py:1: FutureWarning: The default value of regex will change from True to False in a future version.\n",
      "  hist_df['Year'] = hist_df['Year'].str.replace(r\"\\(.*\\)\", \"\")\n"
     ]
    },
    {
     "data": {
      "text/html": [
       "<div>\n",
       "<style scoped>\n",
       "    .dataframe tbody tr th:only-of-type {\n",
       "        vertical-align: middle;\n",
       "    }\n",
       "\n",
       "    .dataframe tbody tr th {\n",
       "        vertical-align: top;\n",
       "    }\n",
       "\n",
       "    .dataframe thead th {\n",
       "        text-align: right;\n",
       "    }\n",
       "</style>\n",
       "<table border=\"1\" class=\"dataframe\">\n",
       "  <thead>\n",
       "    <tr style=\"text-align: right;\">\n",
       "      <th></th>\n",
       "      <th>Year</th>\n",
       "      <th>20</th>\n",
       "      <th>40</th>\n",
       "      <th>60</th>\n",
       "      <th>80</th>\n",
       "      <th>95</th>\n",
       "    </tr>\n",
       "  </thead>\n",
       "  <tbody>\n",
       "    <tr>\n",
       "      <th>0</th>\n",
       "      <td>2019</td>\n",
       "      <td>40,000</td>\n",
       "      <td>69,000</td>\n",
       "      <td>105,038</td>\n",
       "      <td>164,930</td>\n",
       "      <td>304,153</td>\n",
       "    </tr>\n",
       "    <tr>\n",
       "      <th>1</th>\n",
       "      <td>2018</td>\n",
       "      <td>36,514</td>\n",
       "      <td>64,165</td>\n",
       "      <td>98,085</td>\n",
       "      <td>152,837</td>\n",
       "      <td>284,299</td>\n",
       "    </tr>\n",
       "    <tr>\n",
       "      <th>2</th>\n",
       "      <td>2017</td>\n",
       "      <td>35,252</td>\n",
       "      <td>62,960</td>\n",
       "      <td>97,523</td>\n",
       "      <td>153,979</td>\n",
       "      <td>284,244</td>\n",
       "    </tr>\n",
       "    <tr>\n",
       "      <th>3</th>\n",
       "      <td>2017</td>\n",
       "      <td>34,992</td>\n",
       "      <td>62,610</td>\n",
       "      <td>96,324</td>\n",
       "      <td>151,622</td>\n",
       "      <td>272,736</td>\n",
       "    </tr>\n",
       "    <tr>\n",
       "      <th>4</th>\n",
       "      <td>2016</td>\n",
       "      <td>34,518</td>\n",
       "      <td>61,732</td>\n",
       "      <td>95,637</td>\n",
       "      <td>148,691</td>\n",
       "      <td>267,602</td>\n",
       "    </tr>\n",
       "  </tbody>\n",
       "</table>\n",
       "</div>"
      ],
      "text/plain": [
       "    Year      20      40       60       80       95\n",
       "0   2019  40,000  69,000  105,038  164,930  304,153\n",
       "1   2018  36,514  64,165   98,085  152,837  284,299\n",
       "2  2017   35,252  62,960   97,523  153,979  284,244\n",
       "3   2017  34,992  62,610   96,324  151,622  272,736\n",
       "4   2016  34,518  61,732   95,637  148,691  267,602"
      ]
     },
     "execution_count": 5,
     "metadata": {},
     "output_type": "execute_result"
    }
   ],
   "source": [
    "hist_df['Year'] = hist_df['Year'].str.replace(r\"\\(.*\\)\", \"\")\n",
    "hist_df.head()"
   ]
  },
  {
   "cell_type": "markdown",
   "metadata": {},
   "source": [
    "Here I'm going to define a function for the first time. This is a function to replace all commas with nothing at all (i.e. to remove commas). "
   ]
  },
  {
   "cell_type": "code",
   "execution_count": 6,
   "metadata": {},
   "outputs": [],
   "source": [
    "def comma_replace(x):\n",
    "    x = x.str.replace(',', '')\n",
    "    return x"
   ]
  },
  {
   "cell_type": "markdown",
   "metadata": {},
   "source": [
    "Next I'm using the apply command to apply the function to every column in my dataframe. "
   ]
  },
  {
   "cell_type": "code",
   "execution_count": 7,
   "metadata": {},
   "outputs": [
    {
     "data": {
      "text/html": [
       "<div>\n",
       "<style scoped>\n",
       "    .dataframe tbody tr th:only-of-type {\n",
       "        vertical-align: middle;\n",
       "    }\n",
       "\n",
       "    .dataframe tbody tr th {\n",
       "        vertical-align: top;\n",
       "    }\n",
       "\n",
       "    .dataframe thead th {\n",
       "        text-align: right;\n",
       "    }\n",
       "</style>\n",
       "<table border=\"1\" class=\"dataframe\">\n",
       "  <thead>\n",
       "    <tr style=\"text-align: right;\">\n",
       "      <th></th>\n",
       "      <th>Year</th>\n",
       "      <th>20</th>\n",
       "      <th>40</th>\n",
       "      <th>60</th>\n",
       "      <th>80</th>\n",
       "      <th>95</th>\n",
       "    </tr>\n",
       "  </thead>\n",
       "  <tbody>\n",
       "    <tr>\n",
       "      <th>0</th>\n",
       "      <td>2019</td>\n",
       "      <td>40000</td>\n",
       "      <td>69000</td>\n",
       "      <td>105038</td>\n",
       "      <td>164930</td>\n",
       "      <td>304153</td>\n",
       "    </tr>\n",
       "    <tr>\n",
       "      <th>1</th>\n",
       "      <td>2018</td>\n",
       "      <td>36514</td>\n",
       "      <td>64165</td>\n",
       "      <td>98085</td>\n",
       "      <td>152837</td>\n",
       "      <td>284299</td>\n",
       "    </tr>\n",
       "    <tr>\n",
       "      <th>2</th>\n",
       "      <td>2017</td>\n",
       "      <td>35252</td>\n",
       "      <td>62960</td>\n",
       "      <td>97523</td>\n",
       "      <td>153979</td>\n",
       "      <td>284244</td>\n",
       "    </tr>\n",
       "    <tr>\n",
       "      <th>3</th>\n",
       "      <td>2017</td>\n",
       "      <td>34992</td>\n",
       "      <td>62610</td>\n",
       "      <td>96324</td>\n",
       "      <td>151622</td>\n",
       "      <td>272736</td>\n",
       "    </tr>\n",
       "    <tr>\n",
       "      <th>4</th>\n",
       "      <td>2016</td>\n",
       "      <td>34518</td>\n",
       "      <td>61732</td>\n",
       "      <td>95637</td>\n",
       "      <td>148691</td>\n",
       "      <td>267602</td>\n",
       "    </tr>\n",
       "  </tbody>\n",
       "</table>\n",
       "</div>"
      ],
      "text/plain": [
       "    Year     20     40      60      80      95\n",
       "0   2019  40000  69000  105038  164930  304153\n",
       "1   2018  36514  64165   98085  152837  284299\n",
       "2  2017   35252  62960   97523  153979  284244\n",
       "3   2017  34992  62610   96324  151622  272736\n",
       "4   2016  34518  61732   95637  148691  267602"
      ]
     },
     "execution_count": 7,
     "metadata": {},
     "output_type": "execute_result"
    }
   ],
   "source": [
    "hist_df = hist_df.apply(comma_replace)\n",
    "hist_df.head()"
   ]
  },
  {
   "cell_type": "markdown",
   "metadata": {},
   "source": [
    "Dictionaries are a core Python type, and they are used here to map each column name onto the type of data in that column. "
   ]
  },
  {
   "cell_type": "code",
   "execution_count": 8,
   "metadata": {},
   "outputs": [],
   "source": [
    "type_dict = {\n",
    "    'Year' : 'datetime64[ns]',\n",
    "    '20'   : 'int32',\n",
    "    '40'   : 'int32',\n",
    "    '60'   : 'int32',\n",
    "    '80'   : 'int32',\n",
    "    '95'   : 'int32'\n",
    "}"
   ]
  },
  {
   "cell_type": "code",
   "execution_count": 9,
   "metadata": {},
   "outputs": [
    {
     "data": {
      "text/plain": [
       "{'Year': 'datetime64[ns]',\n",
       " '20': 'int32',\n",
       " '40': 'int32',\n",
       " '60': 'int32',\n",
       " '80': 'int32',\n",
       " '95': 'int32'}"
      ]
     },
     "execution_count": 9,
     "metadata": {},
     "output_type": "execute_result"
    }
   ],
   "source": [
    "type_dict"
   ]
  },
  {
   "cell_type": "markdown",
   "metadata": {},
   "source": [
    "Now I'm changing the types of all my columns using the dictionary created above. Just to demonstrate and check that things worked, I'm adding two columns together. It doesn't really make sense to do this for the analysis, but it gives us a chance to show to drop columns in the next code chunk."
   ]
  },
  {
   "cell_type": "code",
   "execution_count": 10,
   "metadata": {},
   "outputs": [
    {
     "data": {
      "text/html": [
       "<div>\n",
       "<style scoped>\n",
       "    .dataframe tbody tr th:only-of-type {\n",
       "        vertical-align: middle;\n",
       "    }\n",
       "\n",
       "    .dataframe tbody tr th {\n",
       "        vertical-align: top;\n",
       "    }\n",
       "\n",
       "    .dataframe thead th {\n",
       "        text-align: right;\n",
       "    }\n",
       "</style>\n",
       "<table border=\"1\" class=\"dataframe\">\n",
       "  <thead>\n",
       "    <tr style=\"text-align: right;\">\n",
       "      <th></th>\n",
       "      <th>Year</th>\n",
       "      <th>20</th>\n",
       "      <th>40</th>\n",
       "      <th>60</th>\n",
       "      <th>80</th>\n",
       "      <th>95</th>\n",
       "      <th>add 20 and 40</th>\n",
       "    </tr>\n",
       "  </thead>\n",
       "  <tbody>\n",
       "    <tr>\n",
       "      <th>0</th>\n",
       "      <td>2019-01-01</td>\n",
       "      <td>40000</td>\n",
       "      <td>69000</td>\n",
       "      <td>105038</td>\n",
       "      <td>164930</td>\n",
       "      <td>304153</td>\n",
       "      <td>109000</td>\n",
       "    </tr>\n",
       "    <tr>\n",
       "      <th>1</th>\n",
       "      <td>2018-01-01</td>\n",
       "      <td>36514</td>\n",
       "      <td>64165</td>\n",
       "      <td>98085</td>\n",
       "      <td>152837</td>\n",
       "      <td>284299</td>\n",
       "      <td>100679</td>\n",
       "    </tr>\n",
       "    <tr>\n",
       "      <th>2</th>\n",
       "      <td>2017-01-01</td>\n",
       "      <td>35252</td>\n",
       "      <td>62960</td>\n",
       "      <td>97523</td>\n",
       "      <td>153979</td>\n",
       "      <td>284244</td>\n",
       "      <td>98212</td>\n",
       "    </tr>\n",
       "    <tr>\n",
       "      <th>3</th>\n",
       "      <td>2017-01-01</td>\n",
       "      <td>34992</td>\n",
       "      <td>62610</td>\n",
       "      <td>96324</td>\n",
       "      <td>151622</td>\n",
       "      <td>272736</td>\n",
       "      <td>97602</td>\n",
       "    </tr>\n",
       "    <tr>\n",
       "      <th>4</th>\n",
       "      <td>2016-01-01</td>\n",
       "      <td>34518</td>\n",
       "      <td>61732</td>\n",
       "      <td>95637</td>\n",
       "      <td>148691</td>\n",
       "      <td>267602</td>\n",
       "      <td>96250</td>\n",
       "    </tr>\n",
       "  </tbody>\n",
       "</table>\n",
       "</div>"
      ],
      "text/plain": [
       "        Year     20     40      60      80      95  add 20 and 40\n",
       "0 2019-01-01  40000  69000  105038  164930  304153         109000\n",
       "1 2018-01-01  36514  64165   98085  152837  284299         100679\n",
       "2 2017-01-01  35252  62960   97523  153979  284244          98212\n",
       "3 2017-01-01  34992  62610   96324  151622  272736          97602\n",
       "4 2016-01-01  34518  61732   95637  148691  267602          96250"
      ]
     },
     "execution_count": 10,
     "metadata": {},
     "output_type": "execute_result"
    }
   ],
   "source": [
    "hist_df = hist_df.astype(type_dict)\n",
    "hist_df['add 20 and 40'] = hist_df['20'] + hist_df['40'] #to show it's numeric\n",
    "hist_df.head()"
   ]
  },
  {
   "cell_type": "code",
   "execution_count": 11,
   "metadata": {},
   "outputs": [
    {
     "data": {
      "text/html": [
       "<div>\n",
       "<style scoped>\n",
       "    .dataframe tbody tr th:only-of-type {\n",
       "        vertical-align: middle;\n",
       "    }\n",
       "\n",
       "    .dataframe tbody tr th {\n",
       "        vertical-align: top;\n",
       "    }\n",
       "\n",
       "    .dataframe thead th {\n",
       "        text-align: right;\n",
       "    }\n",
       "</style>\n",
       "<table border=\"1\" class=\"dataframe\">\n",
       "  <thead>\n",
       "    <tr style=\"text-align: right;\">\n",
       "      <th></th>\n",
       "      <th>Year</th>\n",
       "      <th>20</th>\n",
       "      <th>40</th>\n",
       "      <th>60</th>\n",
       "      <th>80</th>\n",
       "      <th>95</th>\n",
       "    </tr>\n",
       "  </thead>\n",
       "  <tbody>\n",
       "    <tr>\n",
       "      <th>0</th>\n",
       "      <td>2019-01-01</td>\n",
       "      <td>40000</td>\n",
       "      <td>69000</td>\n",
       "      <td>105038</td>\n",
       "      <td>164930</td>\n",
       "      <td>304153</td>\n",
       "    </tr>\n",
       "    <tr>\n",
       "      <th>1</th>\n",
       "      <td>2018-01-01</td>\n",
       "      <td>36514</td>\n",
       "      <td>64165</td>\n",
       "      <td>98085</td>\n",
       "      <td>152837</td>\n",
       "      <td>284299</td>\n",
       "    </tr>\n",
       "    <tr>\n",
       "      <th>2</th>\n",
       "      <td>2017-01-01</td>\n",
       "      <td>35252</td>\n",
       "      <td>62960</td>\n",
       "      <td>97523</td>\n",
       "      <td>153979</td>\n",
       "      <td>284244</td>\n",
       "    </tr>\n",
       "    <tr>\n",
       "      <th>3</th>\n",
       "      <td>2017-01-01</td>\n",
       "      <td>34992</td>\n",
       "      <td>62610</td>\n",
       "      <td>96324</td>\n",
       "      <td>151622</td>\n",
       "      <td>272736</td>\n",
       "    </tr>\n",
       "    <tr>\n",
       "      <th>4</th>\n",
       "      <td>2016-01-01</td>\n",
       "      <td>34518</td>\n",
       "      <td>61732</td>\n",
       "      <td>95637</td>\n",
       "      <td>148691</td>\n",
       "      <td>267602</td>\n",
       "    </tr>\n",
       "  </tbody>\n",
       "</table>\n",
       "</div>"
      ],
      "text/plain": [
       "        Year     20     40      60      80      95\n",
       "0 2019-01-01  40000  69000  105038  164930  304153\n",
       "1 2018-01-01  36514  64165   98085  152837  284299\n",
       "2 2017-01-01  35252  62960   97523  153979  284244\n",
       "3 2017-01-01  34992  62610   96324  151622  272736\n",
       "4 2016-01-01  34518  61732   95637  148691  267602"
      ]
     },
     "execution_count": 11,
     "metadata": {},
     "output_type": "execute_result"
    }
   ],
   "source": [
    "hist_df = hist_df.drop(columns = ['add 20 and 40'])\n",
    "hist_df.head()"
   ]
  },
  {
   "cell_type": "markdown",
   "metadata": {},
   "source": [
    "You may have noticed that 2017 shows up twice above. They're very similar values, and you can explore the footnotes linked above if you really want to know the Census bureau is reporting two different measurements. For our purposes here though, we're going to take the mean of each year so we have one observation per year.\n",
    "\n",
    "We're going to do that by grouping the data by year and then calling the mean function, so it'll take the mean within each year. When we do this, year is going to move into the index column for pandas. The index is sometimes a bit strange to get used to, but pandas was initially designed around time series data, and having a time dimension as the index is a pretty natural fit for the way pandas works. Among other things, it's going to make calculating percent change much easier. \n",
    "\n",
    "The index does wind up rearranging the dataframe a bit from what we're used to though, so I'm going to call .tail() instead of .head() to see the most recent years. "
   ]
  },
  {
   "cell_type": "code",
   "execution_count": 12,
   "metadata": {},
   "outputs": [
    {
     "data": {
      "text/html": [
       "<div>\n",
       "<style scoped>\n",
       "    .dataframe tbody tr th:only-of-type {\n",
       "        vertical-align: middle;\n",
       "    }\n",
       "\n",
       "    .dataframe tbody tr th {\n",
       "        vertical-align: top;\n",
       "    }\n",
       "\n",
       "    .dataframe thead th {\n",
       "        text-align: right;\n",
       "    }\n",
       "</style>\n",
       "<table border=\"1\" class=\"dataframe\">\n",
       "  <thead>\n",
       "    <tr style=\"text-align: right;\">\n",
       "      <th></th>\n",
       "      <th>20</th>\n",
       "      <th>40</th>\n",
       "      <th>60</th>\n",
       "      <th>80</th>\n",
       "      <th>95</th>\n",
       "    </tr>\n",
       "    <tr>\n",
       "      <th>Year</th>\n",
       "      <th></th>\n",
       "      <th></th>\n",
       "      <th></th>\n",
       "      <th></th>\n",
       "      <th></th>\n",
       "    </tr>\n",
       "  </thead>\n",
       "  <tbody>\n",
       "    <tr>\n",
       "      <th>2015-01-01</th>\n",
       "      <td>0.039833</td>\n",
       "      <td>0.049031</td>\n",
       "      <td>0.050342</td>\n",
       "      <td>0.033252</td>\n",
       "      <td>0.038025</td>\n",
       "    </tr>\n",
       "    <tr>\n",
       "      <th>2016-01-01</th>\n",
       "      <td>0.055306</td>\n",
       "      <td>0.033051</td>\n",
       "      <td>0.026831</td>\n",
       "      <td>0.031946</td>\n",
       "      <td>0.036779</td>\n",
       "    </tr>\n",
       "    <tr>\n",
       "      <th>2017-01-01</th>\n",
       "      <td>0.017498</td>\n",
       "      <td>0.017058</td>\n",
       "      <td>0.013452</td>\n",
       "      <td>0.027638</td>\n",
       "      <td>0.040687</td>\n",
       "    </tr>\n",
       "    <tr>\n",
       "      <th>2018-01-01</th>\n",
       "      <td>0.039633</td>\n",
       "      <td>0.021980</td>\n",
       "      <td>0.011984</td>\n",
       "      <td>0.000239</td>\n",
       "      <td>0.020859</td>\n",
       "    </tr>\n",
       "    <tr>\n",
       "      <th>2019-01-01</th>\n",
       "      <td>0.095470</td>\n",
       "      <td>0.075353</td>\n",
       "      <td>0.070887</td>\n",
       "      <td>0.079124</td>\n",
       "      <td>0.069835</td>\n",
       "    </tr>\n",
       "  </tbody>\n",
       "</table>\n",
       "</div>"
      ],
      "text/plain": [
       "                  20        40        60        80        95\n",
       "Year                                                        \n",
       "2015-01-01  0.039833  0.049031  0.050342  0.033252  0.038025\n",
       "2016-01-01  0.055306  0.033051  0.026831  0.031946  0.036779\n",
       "2017-01-01  0.017498  0.017058  0.013452  0.027638  0.040687\n",
       "2018-01-01  0.039633  0.021980  0.011984  0.000239  0.020859\n",
       "2019-01-01  0.095470  0.075353  0.070887  0.079124  0.069835"
      ]
     },
     "execution_count": 12,
     "metadata": {},
     "output_type": "execute_result"
    }
   ],
   "source": [
    "hist_df = hist_df.groupby(['Year']).mean() #have to call mean before taking percent change, not sure why?\n",
    "hist_df = hist_df.pct_change()\n",
    "hist_df.tail()"
   ]
  },
  {
   "cell_type": "code",
   "execution_count": 13,
   "metadata": {},
   "outputs": [
    {
     "data": {
      "text/html": [
       "<div>\n",
       "<style scoped>\n",
       "    .dataframe tbody tr th:only-of-type {\n",
       "        vertical-align: middle;\n",
       "    }\n",
       "\n",
       "    .dataframe tbody tr th {\n",
       "        vertical-align: top;\n",
       "    }\n",
       "\n",
       "    .dataframe thead th {\n",
       "        text-align: right;\n",
       "    }\n",
       "</style>\n",
       "<table border=\"1\" class=\"dataframe\">\n",
       "  <thead>\n",
       "    <tr style=\"text-align: right;\">\n",
       "      <th></th>\n",
       "      <th>20</th>\n",
       "      <th>40</th>\n",
       "      <th>60</th>\n",
       "      <th>80</th>\n",
       "      <th>95</th>\n",
       "    </tr>\n",
       "    <tr>\n",
       "      <th>Year</th>\n",
       "      <th></th>\n",
       "      <th></th>\n",
       "      <th></th>\n",
       "      <th></th>\n",
       "      <th></th>\n",
       "    </tr>\n",
       "  </thead>\n",
       "  <tbody>\n",
       "    <tr>\n",
       "      <th>1947-01-01</th>\n",
       "      <td>NaN</td>\n",
       "      <td>NaN</td>\n",
       "      <td>NaN</td>\n",
       "      <td>NaN</td>\n",
       "      <td>NaN</td>\n",
       "    </tr>\n",
       "    <tr>\n",
       "      <th>1948-01-01</th>\n",
       "      <td>-0.032572</td>\n",
       "      <td>-0.014301</td>\n",
       "      <td>-0.029484</td>\n",
       "      <td>-0.045831</td>\n",
       "      <td>-0.053317</td>\n",
       "    </tr>\n",
       "    <tr>\n",
       "      <th>1949-01-01</th>\n",
       "      <td>-0.056029</td>\n",
       "      <td>-0.019134</td>\n",
       "      <td>-0.008942</td>\n",
       "      <td>0.003905</td>\n",
       "      <td>-0.010440</td>\n",
       "    </tr>\n",
       "    <tr>\n",
       "      <th>1950-01-01</th>\n",
       "      <td>0.063210</td>\n",
       "      <td>0.070090</td>\n",
       "      <td>0.055690</td>\n",
       "      <td>0.038353</td>\n",
       "      <td>0.054886</td>\n",
       "    </tr>\n",
       "    <tr>\n",
       "      <th>1951-01-01</th>\n",
       "      <td>0.089696</td>\n",
       "      <td>0.033220</td>\n",
       "      <td>0.026999</td>\n",
       "      <td>0.008878</td>\n",
       "      <td>-0.030417</td>\n",
       "    </tr>\n",
       "  </tbody>\n",
       "</table>\n",
       "</div>"
      ],
      "text/plain": [
       "                  20        40        60        80        95\n",
       "Year                                                        \n",
       "1947-01-01       NaN       NaN       NaN       NaN       NaN\n",
       "1948-01-01 -0.032572 -0.014301 -0.029484 -0.045831 -0.053317\n",
       "1949-01-01 -0.056029 -0.019134 -0.008942  0.003905 -0.010440\n",
       "1950-01-01  0.063210  0.070090  0.055690  0.038353  0.054886\n",
       "1951-01-01  0.089696  0.033220  0.026999  0.008878 -0.030417"
      ]
     },
     "execution_count": 13,
     "metadata": {},
     "output_type": "execute_result"
    }
   ],
   "source": [
    "hist_df.head()"
   ]
  },
  {
   "cell_type": "markdown",
   "metadata": {},
   "source": [
    "Notice that we have some NAs, and also that percent is scaled from 0 to 1 and not 0 to 100. Let's drop the NA row we created by calculating percent change and rescale everything to 100. This is another chance to create and apply a simple function. "
   ]
  },
  {
   "cell_type": "code",
   "execution_count": 14,
   "metadata": {},
   "outputs": [
    {
     "data": {
      "text/html": [
       "<div>\n",
       "<style scoped>\n",
       "    .dataframe tbody tr th:only-of-type {\n",
       "        vertical-align: middle;\n",
       "    }\n",
       "\n",
       "    .dataframe tbody tr th {\n",
       "        vertical-align: top;\n",
       "    }\n",
       "\n",
       "    .dataframe thead th {\n",
       "        text-align: right;\n",
       "    }\n",
       "</style>\n",
       "<table border=\"1\" class=\"dataframe\">\n",
       "  <thead>\n",
       "    <tr style=\"text-align: right;\">\n",
       "      <th></th>\n",
       "      <th>20</th>\n",
       "      <th>40</th>\n",
       "      <th>60</th>\n",
       "      <th>80</th>\n",
       "      <th>95</th>\n",
       "    </tr>\n",
       "    <tr>\n",
       "      <th>Year</th>\n",
       "      <th></th>\n",
       "      <th></th>\n",
       "      <th></th>\n",
       "      <th></th>\n",
       "      <th></th>\n",
       "    </tr>\n",
       "  </thead>\n",
       "  <tbody>\n",
       "    <tr>\n",
       "      <th>2015-01-01</th>\n",
       "      <td>3.983342</td>\n",
       "      <td>4.903097</td>\n",
       "      <td>5.034170</td>\n",
       "      <td>3.325182</td>\n",
       "      <td>3.802473</td>\n",
       "    </tr>\n",
       "    <tr>\n",
       "      <th>2016-01-01</th>\n",
       "      <td>5.530588</td>\n",
       "      <td>3.305052</td>\n",
       "      <td>2.683115</td>\n",
       "      <td>3.194576</td>\n",
       "      <td>3.677904</td>\n",
       "    </tr>\n",
       "    <tr>\n",
       "      <th>2017-01-01</th>\n",
       "      <td>1.749812</td>\n",
       "      <td>1.705760</td>\n",
       "      <td>1.345191</td>\n",
       "      <td>2.763785</td>\n",
       "      <td>4.068729</td>\n",
       "    </tr>\n",
       "    <tr>\n",
       "      <th>2018-01-01</th>\n",
       "      <td>3.963328</td>\n",
       "      <td>2.197977</td>\n",
       "      <td>1.198368</td>\n",
       "      <td>0.023887</td>\n",
       "      <td>2.085892</td>\n",
       "    </tr>\n",
       "    <tr>\n",
       "      <th>2019-01-01</th>\n",
       "      <td>9.547023</td>\n",
       "      <td>7.535261</td>\n",
       "      <td>7.088750</td>\n",
       "      <td>7.912351</td>\n",
       "      <td>6.983493</td>\n",
       "    </tr>\n",
       "  </tbody>\n",
       "</table>\n",
       "</div>"
      ],
      "text/plain": [
       "                  20        40        60        80        95\n",
       "Year                                                        \n",
       "2015-01-01  3.983342  4.903097  5.034170  3.325182  3.802473\n",
       "2016-01-01  5.530588  3.305052  2.683115  3.194576  3.677904\n",
       "2017-01-01  1.749812  1.705760  1.345191  2.763785  4.068729\n",
       "2018-01-01  3.963328  2.197977  1.198368  0.023887  2.085892\n",
       "2019-01-01  9.547023  7.535261  7.088750  7.912351  6.983493"
      ]
     },
     "execution_count": 14,
     "metadata": {},
     "output_type": "execute_result"
    }
   ],
   "source": [
    "hist_df = hist_df.dropna()\n",
    "\n",
    "def mult100(x):\n",
    "    x = x * 100\n",
    "    return x\n",
    "\n",
    "# hist_df = hist_df.apply(lambda x: x * 100)\n",
    "hist_df = hist_df.apply(mult100)\n",
    "hist_df.tail()"
   ]
  },
  {
   "cell_type": "markdown",
   "metadata": {},
   "source": [
    "# Second Data Source: Presidents"
   ]
  },
  {
   "cell_type": "markdown",
   "metadata": {},
   "source": [
    "Now we're ready to pull in some additional data. Like the data above we're also going to change the types of the data and set the index to year."
   ]
  },
  {
   "cell_type": "code",
   "execution_count": 15,
   "metadata": {},
   "outputs": [
    {
     "data": {
      "text/html": [
       "<div>\n",
       "<style scoped>\n",
       "    .dataframe tbody tr th:only-of-type {\n",
       "        vertical-align: middle;\n",
       "    }\n",
       "\n",
       "    .dataframe tbody tr th {\n",
       "        vertical-align: top;\n",
       "    }\n",
       "\n",
       "    .dataframe thead th {\n",
       "        text-align: right;\n",
       "    }\n",
       "</style>\n",
       "<table border=\"1\" class=\"dataframe\">\n",
       "  <thead>\n",
       "    <tr style=\"text-align: right;\">\n",
       "      <th></th>\n",
       "      <th>President</th>\n",
       "      <th>Term</th>\n",
       "      <th>Democrat</th>\n",
       "      <th>Second Term</th>\n",
       "    </tr>\n",
       "    <tr>\n",
       "      <th>Year</th>\n",
       "      <th></th>\n",
       "      <th></th>\n",
       "      <th></th>\n",
       "      <th></th>\n",
       "    </tr>\n",
       "  </thead>\n",
       "  <tbody>\n",
       "    <tr>\n",
       "      <th>2019-01-01</th>\n",
       "      <td>Trump</td>\n",
       "      <td>Trump 1</td>\n",
       "      <td>False</td>\n",
       "      <td>False</td>\n",
       "    </tr>\n",
       "    <tr>\n",
       "      <th>2018-01-01</th>\n",
       "      <td>Trump</td>\n",
       "      <td>Trump 1</td>\n",
       "      <td>False</td>\n",
       "      <td>False</td>\n",
       "    </tr>\n",
       "    <tr>\n",
       "      <th>2017-01-01</th>\n",
       "      <td>Trump</td>\n",
       "      <td>Trump 1</td>\n",
       "      <td>False</td>\n",
       "      <td>False</td>\n",
       "    </tr>\n",
       "    <tr>\n",
       "      <th>2016-01-01</th>\n",
       "      <td>Obama</td>\n",
       "      <td>Obama 2</td>\n",
       "      <td>True</td>\n",
       "      <td>True</td>\n",
       "    </tr>\n",
       "    <tr>\n",
       "      <th>2015-01-01</th>\n",
       "      <td>Obama</td>\n",
       "      <td>Obama 2</td>\n",
       "      <td>True</td>\n",
       "      <td>True</td>\n",
       "    </tr>\n",
       "  </tbody>\n",
       "</table>\n",
       "</div>"
      ],
      "text/plain": [
       "           President     Term  Democrat  Second Term\n",
       "Year                                                \n",
       "2019-01-01     Trump  Trump 1     False        False\n",
       "2018-01-01     Trump  Trump 1     False        False\n",
       "2017-01-01     Trump  Trump 1     False        False\n",
       "2016-01-01     Obama  Obama 2      True         True\n",
       "2015-01-01     Obama  Obama 2      True         True"
      ]
     },
     "execution_count": 15,
     "metadata": {},
     "output_type": "execute_result"
    }
   ],
   "source": [
    "# Read in .csv file hosted on Github\n",
    "pres_df = pd.read_csv(\"https://raw.githubusercontent.com/natekratzer/hist_income_by_quintile/main/pres_year.csv\")\n",
    "\n",
    "# Manually convert year to datetime to specify format\n",
    "pres_df[\"Year\"] = pd.to_datetime(pres_df[\"Year\"], format = \"%Y\")\n",
    "\n",
    "# Dictionary to retype columns\n",
    "type_dict_pres = {\n",
    "    \"Year\"        : \"datetime64[ns]\", \n",
    "    \"President\"   : \"string\",\n",
    "    \"Term\"        : \"string\",\n",
    "    \"Democrat\"    : \"bool\",\n",
    "    \"Second Term\" : \"bool\"\n",
    "}\n",
    "\n",
    "# Change data types\n",
    "pres_df = pres_df.astype(type_dict_pres)\n",
    "\n",
    "# Set year as index\n",
    "pres_df = pres_df.set_index(\"Year\")\n",
    "\n",
    "pres_df.head()"
   ]
  },
  {
   "cell_type": "markdown",
   "metadata": {},
   "source": [
    "Now we're going to join the files. Having them set to the same index makes this easier. The new data we've read in tells us who was president that year, which term it was for them, if they are a Democrat or not, and if it was the second term of the presidency or not. "
   ]
  },
  {
   "cell_type": "code",
   "execution_count": 16,
   "metadata": {},
   "outputs": [
    {
     "data": {
      "text/html": [
       "<div>\n",
       "<style scoped>\n",
       "    .dataframe tbody tr th:only-of-type {\n",
       "        vertical-align: middle;\n",
       "    }\n",
       "\n",
       "    .dataframe tbody tr th {\n",
       "        vertical-align: top;\n",
       "    }\n",
       "\n",
       "    .dataframe thead th {\n",
       "        text-align: right;\n",
       "    }\n",
       "</style>\n",
       "<table border=\"1\" class=\"dataframe\">\n",
       "  <thead>\n",
       "    <tr style=\"text-align: right;\">\n",
       "      <th></th>\n",
       "      <th>President</th>\n",
       "      <th>Term</th>\n",
       "      <th>Democrat</th>\n",
       "      <th>Second Term</th>\n",
       "      <th>20</th>\n",
       "      <th>40</th>\n",
       "      <th>60</th>\n",
       "      <th>80</th>\n",
       "      <th>95</th>\n",
       "    </tr>\n",
       "    <tr>\n",
       "      <th>Year</th>\n",
       "      <th></th>\n",
       "      <th></th>\n",
       "      <th></th>\n",
       "      <th></th>\n",
       "      <th></th>\n",
       "      <th></th>\n",
       "      <th></th>\n",
       "      <th></th>\n",
       "      <th></th>\n",
       "    </tr>\n",
       "  </thead>\n",
       "  <tbody>\n",
       "    <tr>\n",
       "      <th>2019-01-01</th>\n",
       "      <td>Trump</td>\n",
       "      <td>Trump 1</td>\n",
       "      <td>False</td>\n",
       "      <td>False</td>\n",
       "      <td>9.547023</td>\n",
       "      <td>7.535261</td>\n",
       "      <td>7.088750</td>\n",
       "      <td>7.912351</td>\n",
       "      <td>6.983493</td>\n",
       "    </tr>\n",
       "    <tr>\n",
       "      <th>2018-01-01</th>\n",
       "      <td>Trump</td>\n",
       "      <td>Trump 1</td>\n",
       "      <td>False</td>\n",
       "      <td>False</td>\n",
       "      <td>3.963328</td>\n",
       "      <td>2.197977</td>\n",
       "      <td>1.198368</td>\n",
       "      <td>0.023887</td>\n",
       "      <td>2.085892</td>\n",
       "    </tr>\n",
       "    <tr>\n",
       "      <th>2017-01-01</th>\n",
       "      <td>Trump</td>\n",
       "      <td>Trump 1</td>\n",
       "      <td>False</td>\n",
       "      <td>False</td>\n",
       "      <td>1.749812</td>\n",
       "      <td>1.705760</td>\n",
       "      <td>1.345191</td>\n",
       "      <td>2.763785</td>\n",
       "      <td>4.068729</td>\n",
       "    </tr>\n",
       "    <tr>\n",
       "      <th>2016-01-01</th>\n",
       "      <td>Obama</td>\n",
       "      <td>Obama 2</td>\n",
       "      <td>True</td>\n",
       "      <td>True</td>\n",
       "      <td>5.530588</td>\n",
       "      <td>3.305052</td>\n",
       "      <td>2.683115</td>\n",
       "      <td>3.194576</td>\n",
       "      <td>3.677904</td>\n",
       "    </tr>\n",
       "    <tr>\n",
       "      <th>2015-01-01</th>\n",
       "      <td>Obama</td>\n",
       "      <td>Obama 2</td>\n",
       "      <td>True</td>\n",
       "      <td>True</td>\n",
       "      <td>3.983342</td>\n",
       "      <td>4.903097</td>\n",
       "      <td>5.034170</td>\n",
       "      <td>3.325182</td>\n",
       "      <td>3.802473</td>\n",
       "    </tr>\n",
       "  </tbody>\n",
       "</table>\n",
       "</div>"
      ],
      "text/plain": [
       "           President     Term  Democrat  Second Term        20        40  \\\n",
       "Year                                                                       \n",
       "2019-01-01     Trump  Trump 1     False        False  9.547023  7.535261   \n",
       "2018-01-01     Trump  Trump 1     False        False  3.963328  2.197977   \n",
       "2017-01-01     Trump  Trump 1     False        False  1.749812  1.705760   \n",
       "2016-01-01     Obama  Obama 2      True         True  5.530588  3.305052   \n",
       "2015-01-01     Obama  Obama 2      True         True  3.983342  4.903097   \n",
       "\n",
       "                  60        80        95  \n",
       "Year                                      \n",
       "2019-01-01  7.088750  7.912351  6.983493  \n",
       "2018-01-01  1.198368  0.023887  2.085892  \n",
       "2017-01-01  1.345191  2.763785  4.068729  \n",
       "2016-01-01  2.683115  3.194576  3.677904  \n",
       "2015-01-01  5.034170  3.325182  3.802473  "
      ]
     },
     "execution_count": 16,
     "metadata": {},
     "output_type": "execute_result"
    }
   ],
   "source": [
    "df = pres_df.join(hist_df) # join is for joining on an index, if you need to combine datasets not using the index then 'merge' is the pandas command to use\n",
    "df.head()"
   ]
  },
  {
   "cell_type": "markdown",
   "metadata": {},
   "source": [
    "A president's policies don't go into effect the day they come into office. So we'll look at this data both as is, and with a one year lag. To do that, we'll lag the presidents dataframe and then join it with the historical data and call that dataframe df_lag"
   ]
  },
  {
   "cell_type": "code",
   "execution_count": 17,
   "metadata": {},
   "outputs": [],
   "source": [
    "pres_lag_df = pres_df.shift(periods = -1)\n",
    "df_lag = pres_lag_df.join(hist_df)"
   ]
  },
  {
   "cell_type": "markdown",
   "metadata": {},
   "source": [
    "# Graphing with Altair"
   ]
  },
  {
   "cell_type": "markdown",
   "metadata": {},
   "source": [
    "I'm going to transform the data from wide to long in order to prepare to graph it in altair. In pandas, this is accomplished with the melt function. For the analysis I'm trying to graph the rate of growth at each Percentile and compare that to whether or not the president at the time was a Democrat. "
   ]
  },
  {
   "cell_type": "code",
   "execution_count": 18,
   "metadata": {},
   "outputs": [
    {
     "data": {
      "text/html": [
       "<div>\n",
       "<style scoped>\n",
       "    .dataframe tbody tr th:only-of-type {\n",
       "        vertical-align: middle;\n",
       "    }\n",
       "\n",
       "    .dataframe tbody tr th {\n",
       "        vertical-align: top;\n",
       "    }\n",
       "\n",
       "    .dataframe thead th {\n",
       "        text-align: right;\n",
       "    }\n",
       "</style>\n",
       "<table border=\"1\" class=\"dataframe\">\n",
       "  <thead>\n",
       "    <tr style=\"text-align: right;\">\n",
       "      <th></th>\n",
       "      <th>Democrat</th>\n",
       "      <th>Percentile</th>\n",
       "      <th>Growth</th>\n",
       "    </tr>\n",
       "    <tr>\n",
       "      <th>Year</th>\n",
       "      <th></th>\n",
       "      <th></th>\n",
       "      <th></th>\n",
       "    </tr>\n",
       "  </thead>\n",
       "  <tbody>\n",
       "    <tr>\n",
       "      <th>2019-01-01</th>\n",
       "      <td>False</td>\n",
       "      <td>20</td>\n",
       "      <td>9.547023</td>\n",
       "    </tr>\n",
       "    <tr>\n",
       "      <th>2018-01-01</th>\n",
       "      <td>False</td>\n",
       "      <td>20</td>\n",
       "      <td>3.963328</td>\n",
       "    </tr>\n",
       "    <tr>\n",
       "      <th>2017-01-01</th>\n",
       "      <td>False</td>\n",
       "      <td>20</td>\n",
       "      <td>1.749812</td>\n",
       "    </tr>\n",
       "    <tr>\n",
       "      <th>2016-01-01</th>\n",
       "      <td>True</td>\n",
       "      <td>20</td>\n",
       "      <td>5.530588</td>\n",
       "    </tr>\n",
       "    <tr>\n",
       "      <th>2015-01-01</th>\n",
       "      <td>True</td>\n",
       "      <td>20</td>\n",
       "      <td>3.983342</td>\n",
       "    </tr>\n",
       "  </tbody>\n",
       "</table>\n",
       "</div>"
      ],
      "text/plain": [
       "            Democrat Percentile    Growth\n",
       "Year                                     \n",
       "2019-01-01     False         20  9.547023\n",
       "2018-01-01     False         20  3.963328\n",
       "2017-01-01     False         20  1.749812\n",
       "2016-01-01      True         20  5.530588\n",
       "2015-01-01      True         20  3.983342"
      ]
     },
     "execution_count": 18,
     "metadata": {},
     "output_type": "execute_result"
    }
   ],
   "source": [
    "df = pd.melt(df, id_vars = ['Democrat'], value_vars =['20', '40', '60', '80', '95'], ignore_index = False, var_name = \"Percentile\", value_name = \"Growth\")\n",
    "df_lag = pd.melt(df_lag, id_vars = ['Democrat'], value_vars =['20', '40', '60', '80', '95'], ignore_index = False, var_name = \"Percentile\", value_name = \"Growth\")\n",
    "df.head()"
   ]
  },
  {
   "cell_type": "markdown",
   "metadata": {},
   "source": [
    "I'm also going to change the true/false labels to something more human readable and assign colors for the chart. "
   ]
  },
  {
   "cell_type": "code",
   "execution_count": 19,
   "metadata": {},
   "outputs": [],
   "source": [
    "# np.where is like and if_else statement for recoding an entire column\n",
    "df['Party'] = np.where(df['Democrat']== True, 'Dem', 'Rep')\n",
    "df_lag['Party'] = np.where(df_lag['Democrat']== True, 'Dem', 'Rep')\n",
    "\n",
    "#set up for colors\n",
    "domain = ['Dem', 'Rep']\n",
    "range_ = ['blue', 'red']"
   ]
  },
  {
   "cell_type": "markdown",
   "metadata": {},
   "source": [
    "Finally I can graph. I pretty much just followed an example from the altair documentation here: https://altair-viz.github.io/"
   ]
  },
  {
   "cell_type": "code",
   "execution_count": 20,
   "metadata": {},
   "outputs": [
    {
     "data": {
      "text/html": [
       "\n",
       "<div id=\"altair-viz-0aeffad5d793404b91d2540c6fbd0b62\"></div>\n",
       "<script type=\"text/javascript\">\n",
       "  (function(spec, embedOpt){\n",
       "    let outputDiv = document.currentScript.previousElementSibling;\n",
       "    if (outputDiv.id !== \"altair-viz-0aeffad5d793404b91d2540c6fbd0b62\") {\n",
       "      outputDiv = document.getElementById(\"altair-viz-0aeffad5d793404b91d2540c6fbd0b62\");\n",
       "    }\n",
       "    const paths = {\n",
       "      \"vega\": \"https://cdn.jsdelivr.net/npm//vega@5?noext\",\n",
       "      \"vega-lib\": \"https://cdn.jsdelivr.net/npm//vega-lib?noext\",\n",
       "      \"vega-lite\": \"https://cdn.jsdelivr.net/npm//vega-lite@4.8.1?noext\",\n",
       "      \"vega-embed\": \"https://cdn.jsdelivr.net/npm//vega-embed@6?noext\",\n",
       "    };\n",
       "\n",
       "    function loadScript(lib) {\n",
       "      return new Promise(function(resolve, reject) {\n",
       "        var s = document.createElement('script');\n",
       "        s.src = paths[lib];\n",
       "        s.async = true;\n",
       "        s.onload = () => resolve(paths[lib]);\n",
       "        s.onerror = () => reject(`Error loading script: ${paths[lib]}`);\n",
       "        document.getElementsByTagName(\"head\")[0].appendChild(s);\n",
       "      });\n",
       "    }\n",
       "\n",
       "    function showError(err) {\n",
       "      outputDiv.innerHTML = `<div class=\"error\" style=\"color:red;\">${err}</div>`;\n",
       "      throw err;\n",
       "    }\n",
       "\n",
       "    function displayChart(vegaEmbed) {\n",
       "      vegaEmbed(outputDiv, spec, embedOpt)\n",
       "        .catch(err => showError(`Javascript Error: ${err.message}<br>This usually means there's a typo in your chart specification. See the javascript console for the full traceback.`));\n",
       "    }\n",
       "\n",
       "    if(typeof define === \"function\" && define.amd) {\n",
       "      requirejs.config({paths});\n",
       "      require([\"vega-embed\"], displayChart, err => showError(`Error loading script: ${err.message}`));\n",
       "    } else if (typeof vegaEmbed === \"function\") {\n",
       "      displayChart(vegaEmbed);\n",
       "    } else {\n",
       "      loadScript(\"vega\")\n",
       "        .then(() => loadScript(\"vega-lite\"))\n",
       "        .then(() => loadScript(\"vega-embed\"))\n",
       "        .catch(showError)\n",
       "        .then(() => displayChart(vegaEmbed));\n",
       "    }\n",
       "  })({\"config\": {\"view\": {\"continuousWidth\": 400, \"continuousHeight\": 300}}, \"data\": {\"name\": \"data-773ad878ad83ca4769344d10aed13684\"}, \"mark\": \"bar\", \"encoding\": {\"color\": {\"type\": \"nominal\", \"field\": \"Party\", \"scale\": {\"domain\": [\"Dem\", \"Rep\"], \"range\": [\"blue\", \"red\"]}}, \"column\": {\"type\": \"nominal\", \"field\": \"Percentile\"}, \"x\": {\"type\": \"nominal\", \"field\": \"Party\", \"title\": \"\"}, \"y\": {\"type\": \"quantitative\", \"aggregate\": \"mean\", \"field\": \"Growth\", \"title\": \"Percent Growth\"}}, \"title\": \"Avg Annual Income Growth, 1947-2019\", \"$schema\": \"https://vega.github.io/schema/vega-lite/v4.8.1.json\", \"datasets\": {\"data-773ad878ad83ca4769344d10aed13684\": [{\"Democrat\": false, \"Percentile\": \"20\", \"Growth\": 9.547023059648364, \"Party\": \"Rep\"}, {\"Democrat\": false, \"Percentile\": \"20\", \"Growth\": 3.9633278287113383, \"Party\": \"Rep\"}, {\"Democrat\": false, \"Percentile\": \"20\", \"Growth\": 1.7498116924503204, \"Party\": \"Rep\"}, {\"Democrat\": true, \"Percentile\": \"20\", \"Growth\": 5.530587911583962, \"Party\": \"Dem\"}, {\"Democrat\": true, \"Percentile\": \"20\", \"Growth\": 3.983341810783325, \"Party\": \"Dem\"}, {\"Democrat\": true, \"Percentile\": \"20\", \"Growth\": -0.8713464114078584, \"Party\": \"Dem\"}, {\"Democrat\": true, \"Percentile\": \"20\", \"Growth\": 2.3430948848609967, \"Party\": \"Dem\"}, {\"Democrat\": true, \"Percentile\": \"20\", \"Growth\": 0.0, \"Party\": \"Dem\"}, {\"Democrat\": true, \"Percentile\": \"20\", \"Growth\": -0.5038025864005369, \"Party\": \"Dem\"}, {\"Democrat\": true, \"Percentile\": \"20\", \"Growth\": -3.136267561855033, \"Party\": \"Dem\"}, {\"Democrat\": true, \"Percentile\": \"20\", \"Growth\": -2.7771901725544668, \"Party\": \"Dem\"}, {\"Democrat\": false, \"Percentile\": \"20\", \"Growth\": -3.919746813391012, \"Party\": \"Rep\"}, {\"Democrat\": false, \"Percentile\": \"20\", \"Growth\": 0.3525641025641013, \"Party\": \"Rep\"}, {\"Democrat\": false, \"Percentile\": \"20\", \"Growth\": 2.0942408376963373, \"Party\": \"Rep\"}, {\"Democrat\": false, \"Percentile\": \"20\", \"Growth\": 0.017851829812554065, \"Party\": \"Rep\"}, {\"Democrat\": false, \"Percentile\": \"20\", \"Growth\": 0.014878738282986248, \"Party\": \"Rep\"}, {\"Democrat\": false, \"Percentile\": \"20\", \"Growth\": -1.7426391041197586, \"Party\": \"Rep\"}, {\"Democrat\": false, \"Percentile\": \"20\", \"Growth\": -1.5515256188831317, \"Party\": \"Rep\"}, {\"Democrat\": false, \"Percentile\": \"20\", \"Growth\": -2.7707808564231717, \"Party\": \"Rep\"}, {\"Democrat\": true, \"Percentile\": \"20\", \"Growth\": 1.8267833224087315, \"Party\": \"Dem\"}, {\"Democrat\": true, \"Percentile\": \"20\", \"Growth\": 3.336670985981849, \"Party\": \"Dem\"}, {\"Democrat\": true, \"Percentile\": \"20\", \"Growth\": 3.524390243902431, \"Party\": \"Dem\"}, {\"Democrat\": true, \"Percentile\": \"20\", \"Growth\": 2.3912093400761725, \"Party\": \"Dem\"}, {\"Democrat\": true, \"Percentile\": \"20\", \"Growth\": 0.5208987071670723, \"Party\": \"Dem\"}, {\"Democrat\": true, \"Percentile\": \"20\", \"Growth\": 3.7977981890430668, \"Party\": \"Dem\"}, {\"Democrat\": true, \"Percentile\": \"20\", \"Growth\": 3.5550458715596367, \"Party\": \"Dem\"}, {\"Democrat\": true, \"Percentile\": \"20\", \"Growth\": -0.9620523784072743, \"Party\": \"Dem\"}, {\"Democrat\": false, \"Percentile\": \"20\", \"Growth\": -4.072804178549683, \"Party\": \"Rep\"}, {\"Democrat\": false, \"Percentile\": \"20\", \"Growth\": -2.6272270585665725, \"Party\": \"Rep\"}, {\"Democrat\": false, \"Percentile\": \"20\", \"Growth\": 0.31927880552165, \"Party\": \"Rep\"}, {\"Democrat\": false, \"Percentile\": \"20\", \"Growth\": 1.52863408123054, \"Party\": \"Rep\"}, {\"Democrat\": false, \"Percentile\": \"20\", \"Growth\": -0.1554815167380652, \"Party\": \"Rep\"}, {\"Democrat\": false, \"Percentile\": \"20\", \"Growth\": 0.8060646770943203, \"Party\": \"Rep\"}, {\"Democrat\": false, \"Percentile\": \"20\", \"Growth\": 3.5678791492745, \"Party\": \"Rep\"}, {\"Democrat\": false, \"Percentile\": \"20\", \"Growth\": 2.1384584151045605, \"Party\": \"Rep\"}, {\"Democrat\": false, \"Percentile\": \"20\", \"Growth\": 2.008836117630808, \"Party\": \"Rep\"}, {\"Democrat\": false, \"Percentile\": \"20\", \"Growth\": -0.42617541930162206, \"Party\": \"Rep\"}, {\"Democrat\": false, \"Percentile\": \"20\", \"Growth\": -2.408264573690211, \"Party\": \"Rep\"}, {\"Democrat\": false, \"Percentile\": \"20\", \"Growth\": -3.223293407342487, \"Party\": \"Rep\"}, {\"Democrat\": true, \"Percentile\": \"20\", \"Growth\": -5.156702173511485, \"Party\": \"Dem\"}, {\"Democrat\": true, \"Percentile\": \"20\", \"Growth\": 2.2604206019392947, \"Party\": \"Dem\"}, {\"Democrat\": true, \"Percentile\": \"20\", \"Growth\": 3.0328586720295814, \"Party\": \"Dem\"}, {\"Democrat\": true, \"Percentile\": \"20\", \"Growth\": 0.26669268546524183, \"Party\": \"Dem\"}, {\"Democrat\": false, \"Percentile\": \"20\", \"Growth\": 1.569106765327688, \"Party\": \"Rep\"}, {\"Democrat\": false, \"Percentile\": \"20\", \"Growth\": -3.7364454478964637, \"Party\": \"Rep\"}, {\"Democrat\": false, \"Percentile\": \"20\", \"Growth\": 0.267831521219275, \"Party\": \"Rep\"}, {\"Democrat\": false, \"Percentile\": \"20\", \"Growth\": 1.9735986474183953, \"Party\": \"Rep\"}, {\"Democrat\": false, \"Percentile\": \"20\", \"Growth\": 4.562453253552734, \"Party\": \"Rep\"}, {\"Democrat\": false, \"Percentile\": \"20\", \"Growth\": -2.1132150820326823, \"Party\": \"Rep\"}, {\"Democrat\": false, \"Percentile\": \"20\", \"Growth\": -2.7886512891850845, \"Party\": \"Rep\"}, {\"Democrat\": false, \"Percentile\": \"20\", \"Growth\": 5.336513886522409, \"Party\": \"Rep\"}, {\"Democrat\": true, \"Percentile\": \"20\", \"Growth\": 6.414998549463302, \"Party\": \"Dem\"}, {\"Democrat\": true, \"Percentile\": \"20\", \"Growth\": 1.2557832121612655, \"Party\": \"Dem\"}, {\"Democrat\": true, \"Percentile\": \"20\", \"Growth\": 9.329586511441178, \"Party\": \"Dem\"}, {\"Democrat\": true, \"Percentile\": \"20\", \"Growth\": 6.0631865792387, \"Party\": \"Dem\"}, {\"Democrat\": true, \"Percentile\": \"20\", \"Growth\": 3.5629244201428767, \"Party\": \"Dem\"}, {\"Democrat\": true, \"Percentile\": \"20\", \"Growth\": 1.7954933117874106, \"Party\": \"Dem\"}, {\"Democrat\": true, \"Percentile\": \"20\", \"Growth\": 6.085714285714294, \"Party\": \"Dem\"}, {\"Democrat\": true, \"Percentile\": \"20\", \"Growth\": -0.4267425320056861, \"Party\": \"Dem\"}, {\"Democrat\": false, \"Percentile\": \"20\", \"Growth\": 2.3240017466401364, \"Party\": \"Rep\"}, {\"Democrat\": false, \"Percentile\": \"20\", \"Growth\": 4.9439918533604965, \"Party\": \"Rep\"}, {\"Democrat\": false, \"Percentile\": \"20\", \"Growth\": -1.037992542577848, \"Party\": \"Rep\"}, {\"Democrat\": false, \"Percentile\": \"20\", \"Growth\": -1.1899427433407994, \"Party\": \"Rep\"}, {\"Democrat\": false, \"Percentile\": \"20\", \"Growth\": 8.08847271553117, \"Party\": \"Rep\"}, {\"Democrat\": false, \"Percentile\": \"20\", \"Growth\": 10.877737335163197, \"Party\": \"Rep\"}, {\"Democrat\": false, \"Percentile\": \"20\", \"Growth\": -6.770137961726752, \"Party\": \"Rep\"}, {\"Democrat\": false, \"Percentile\": \"20\", \"Growth\": 3.488773747841112, \"Party\": \"Rep\"}, {\"Democrat\": true, \"Percentile\": \"20\", \"Growth\": 3.233091643884456, \"Party\": \"Dem\"}, {\"Democrat\": true, \"Percentile\": \"20\", \"Growth\": 8.969626319538882, \"Party\": \"Dem\"}, {\"Democrat\": true, \"Percentile\": \"20\", \"Growth\": 6.321008056186739, \"Party\": \"Dem\"}, {\"Democrat\": true, \"Percentile\": \"20\", \"Growth\": -5.6028599285017915, \"Party\": \"Dem\"}, {\"Democrat\": true, \"Percentile\": \"20\", \"Growth\": -3.2572470603030923, \"Party\": \"Dem\"}, {\"Democrat\": true, \"Percentile\": \"20\", \"Growth\": null, \"Party\": \"Dem\"}, {\"Democrat\": false, \"Percentile\": \"40\", \"Growth\": 7.5352606561209345, \"Party\": \"Rep\"}, {\"Democrat\": false, \"Percentile\": \"40\", \"Growth\": 2.1979772238591933, \"Party\": \"Rep\"}, {\"Democrat\": false, \"Percentile\": \"40\", \"Growth\": 1.705760383593602, \"Party\": \"Rep\"}, {\"Democrat\": true, \"Percentile\": \"40\", \"Growth\": 3.3050521277842027, \"Party\": \"Dem\"}, {\"Democrat\": true, \"Percentile\": \"40\", \"Growth\": 4.90309669264799, \"Party\": \"Dem\"}, {\"Democrat\": true, \"Percentile\": \"40\", \"Growth\": 1.051959340795805, \"Party\": \"Dem\"}, {\"Democrat\": true, \"Percentile\": \"40\", \"Growth\": 1.4943915305810185, \"Party\": \"Dem\"}, {\"Democrat\": true, \"Percentile\": \"40\", \"Growth\": 0.5212386657738044, \"Party\": \"Dem\"}, {\"Democrat\": true, \"Percentile\": \"40\", \"Growth\": -2.0406354159279494, \"Party\": \"Dem\"}, {\"Democrat\": true, \"Percentile\": \"40\", \"Growth\": -1.4467430807939663, \"Party\": \"Dem\"}, {\"Democrat\": true, \"Percentile\": \"40\", \"Growth\": -2.522439664128895, \"Party\": \"Dem\"}, {\"Democrat\": false, \"Percentile\": \"40\", \"Growth\": -4.0590225011029935, \"Party\": \"Rep\"}, {\"Democrat\": false, \"Percentile\": \"40\", \"Growth\": 2.4354725318871173, \"Party\": \"Rep\"}, {\"Democrat\": false, \"Percentile\": \"40\", \"Growth\": 1.1188029992721837, \"Party\": \"Rep\"}, {\"Democrat\": false, \"Percentile\": \"40\", \"Growth\": 0.3362600410984573, \"Party\": \"Rep\"}, {\"Democrat\": false, \"Percentile\": \"40\", \"Growth\": 0.47779123935633994, \"Party\": \"Rep\"}, {\"Democrat\": false, \"Percentile\": \"40\", \"Growth\": -0.7637077928675406, \"Party\": \"Rep\"}, {\"Democrat\": false, \"Percentile\": \"40\", \"Growth\": -0.8029295168984762, \"Party\": \"Rep\"}, {\"Democrat\": false, \"Percentile\": \"40\", \"Growth\": -2.0855263157894766, \"Party\": \"Rep\"}, {\"Democrat\": true, \"Percentile\": \"40\", \"Growth\": 0.019740738303619665, \"Party\": \"Dem\"}, {\"Democrat\": true, \"Percentile\": \"40\", \"Growth\": 2.5905861306600553, \"Party\": \"Dem\"}, {\"Democrat\": true, \"Percentile\": \"40\", \"Growth\": 3.3020101466204155, \"Party\": \"Dem\"}, {\"Democrat\": true, \"Percentile\": \"40\", \"Growth\": 2.690847894586068, \"Party\": \"Dem\"}, {\"Democrat\": true, \"Percentile\": \"40\", \"Growth\": 1.3334300901652663, \"Party\": \"Dem\"}, {\"Democrat\": true, \"Percentile\": \"40\", \"Growth\": 2.902960833364454, \"Party\": \"Dem\"}, {\"Democrat\": true, \"Percentile\": \"40\", \"Growth\": 2.1998359185698257, \"Party\": \"Dem\"}, {\"Democrat\": true, \"Percentile\": \"40\", \"Growth\": -1.38849692385844, \"Party\": \"Dem\"}, {\"Democrat\": false, \"Percentile\": \"40\", \"Growth\": -0.5389322404985131, \"Party\": \"Rep\"}, {\"Democrat\": false, \"Percentile\": \"40\", \"Growth\": -3.2883306790212785, \"Party\": \"Rep\"}, {\"Democrat\": false, \"Percentile\": \"40\", \"Growth\": -1.1449835408615994, \"Party\": \"Rep\"}, {\"Democrat\": false, \"Percentile\": \"40\", \"Growth\": 2.4637043554773363, \"Party\": \"Rep\"}, {\"Democrat\": false, \"Percentile\": \"40\", \"Growth\": 0.3458170848355424, \"Party\": \"Rep\"}, {\"Democrat\": false, \"Percentile\": \"40\", \"Growth\": 1.0145304544947775, \"Party\": \"Rep\"}, {\"Democrat\": false, \"Percentile\": \"40\", \"Growth\": 3.4941635737774313, \"Party\": \"Rep\"}, {\"Democrat\": false, \"Percentile\": \"40\", \"Growth\": 1.153516962340495, \"Party\": \"Rep\"}, {\"Democrat\": false, \"Percentile\": \"40\", \"Growth\": 3.597122302158273, \"Party\": \"Rep\"}, {\"Democrat\": false, \"Percentile\": \"40\", \"Growth\": -0.417410848668498, \"Party\": \"Rep\"}, {\"Democrat\": false, \"Percentile\": \"40\", \"Growth\": -1.8108374384236403, \"Party\": \"Rep\"}, {\"Democrat\": false, \"Percentile\": \"40\", \"Growth\": -2.157357959474826, \"Party\": \"Rep\"}, {\"Democrat\": true, \"Percentile\": \"40\", \"Growth\": -2.888863925709584, \"Party\": \"Dem\"}, {\"Democrat\": true, \"Percentile\": \"40\", \"Growth\": 0.07119571326863472, \"Party\": \"Dem\"}, {\"Democrat\": true, \"Percentile\": \"40\", \"Growth\": 3.383888275514746, \"Party\": \"Dem\"}, {\"Democrat\": true, \"Percentile\": \"40\", \"Growth\": 0.822169277037843, \"Party\": \"Dem\"}, {\"Democrat\": false, \"Percentile\": \"40\", \"Growth\": 2.7284034827268044, \"Party\": \"Rep\"}, {\"Democrat\": false, \"Percentile\": \"40\", \"Growth\": -2.9818210128848888, \"Party\": \"Rep\"}, {\"Democrat\": false, \"Percentile\": \"40\", \"Growth\": -0.7207590191493862, \"Party\": \"Rep\"}, {\"Democrat\": false, \"Percentile\": \"40\", \"Growth\": 1.5382502403515907, \"Party\": \"Rep\"}, {\"Democrat\": false, \"Percentile\": \"40\", \"Growth\": 4.650733029444365, \"Party\": \"Rep\"}, {\"Democrat\": false, \"Percentile\": \"40\", \"Growth\": -0.6527681449145284, \"Party\": \"Rep\"}, {\"Democrat\": false, \"Percentile\": \"40\", \"Growth\": -0.8815560677746803, \"Party\": \"Rep\"}, {\"Democrat\": false, \"Percentile\": \"40\", \"Growth\": 4.910591180026724, \"Party\": \"Rep\"}, {\"Democrat\": true, \"Percentile\": \"40\", \"Growth\": 4.144299379238747, \"Party\": \"Dem\"}, {\"Democrat\": true, \"Percentile\": \"40\", \"Growth\": 2.2289972899729005, \"Party\": \"Dem\"}, {\"Democrat\": true, \"Percentile\": \"40\", \"Growth\": 6.11579754601228, \"Party\": \"Dem\"}, {\"Democrat\": true, \"Percentile\": \"40\", \"Growth\": 4.986665324812556, \"Party\": \"Dem\"}, {\"Democrat\": true, \"Percentile\": \"40\", \"Growth\": 4.350337367743973, \"Party\": \"Dem\"}, {\"Democrat\": true, \"Percentile\": \"40\", \"Growth\": 2.5828171290061874, \"Party\": \"Dem\"}, {\"Democrat\": true, \"Percentile\": \"40\", \"Growth\": 2.7109266943291743, \"Party\": \"Dem\"}, {\"Democrat\": true, \"Percentile\": \"40\", \"Growth\": -0.5830262361806282, \"Party\": \"Dem\"}, {\"Democrat\": false, \"Percentile\": \"40\", \"Growth\": 3.4539660862638044, \"Party\": \"Rep\"}, {\"Democrat\": false, \"Percentile\": \"40\", \"Growth\": 5.5146948455465195, \"Party\": \"Rep\"}, {\"Democrat\": false, \"Percentile\": \"40\", \"Growth\": -1.3679566517632469, \"Party\": \"Rep\"}, {\"Democrat\": false, \"Percentile\": \"40\", \"Growth\": -0.08874951927343444, \"Party\": \"Rep\"}, {\"Democrat\": false, \"Percentile\": \"40\", \"Growth\": 6.88357680389553, \"Party\": \"Rep\"}, {\"Democrat\": false, \"Percentile\": \"40\", \"Growth\": 7.283150717459885, \"Party\": \"Rep\"}, {\"Democrat\": false, \"Percentile\": \"40\", \"Growth\": -3.3697184252794443, \"Party\": \"Rep\"}, {\"Democrat\": false, \"Percentile\": \"40\", \"Growth\": 8.57356395472988, \"Party\": \"Rep\"}, {\"Democrat\": true, \"Percentile\": \"40\", \"Growth\": 2.4278215223097144, \"Party\": \"Dem\"}, {\"Democrat\": true, \"Percentile\": \"40\", \"Growth\": 3.322033898305077, \"Party\": \"Dem\"}, {\"Democrat\": true, \"Percentile\": \"40\", \"Growth\": 7.008987948893641, \"Party\": \"Dem\"}, {\"Democrat\": true, \"Percentile\": \"40\", \"Growth\": -1.9134216248270386, \"Party\": \"Dem\"}, {\"Democrat\": true, \"Percentile\": \"40\", \"Growth\": -1.4301301535344035, \"Party\": \"Dem\"}, {\"Democrat\": true, \"Percentile\": \"40\", \"Growth\": null, \"Party\": \"Dem\"}, {\"Democrat\": false, \"Percentile\": \"60\", \"Growth\": 7.088749553958307, \"Party\": \"Rep\"}, {\"Democrat\": false, \"Percentile\": \"60\", \"Growth\": 1.198367784902521, \"Party\": \"Rep\"}, {\"Democrat\": false, \"Percentile\": \"60\", \"Growth\": 1.3451906688833892, \"Party\": \"Rep\"}, {\"Democrat\": true, \"Percentile\": \"60\", \"Growth\": 2.6831153771822436, \"Party\": \"Dem\"}, {\"Democrat\": true, \"Percentile\": \"60\", \"Growth\": 5.034170106231817, \"Party\": \"Dem\"}, {\"Democrat\": true, \"Percentile\": \"60\", \"Growth\": 2.0831294717635007, \"Party\": \"Dem\"}, {\"Democrat\": true, \"Percentile\": \"60\", \"Growth\": 1.7363144456677082, \"Party\": \"Dem\"}, {\"Democrat\": true, \"Percentile\": \"60\", \"Growth\": -0.06671426397780733, \"Party\": \"Dem\"}, {\"Democrat\": true, \"Percentile\": \"60\", \"Growth\": -1.7456903987028038, \"Party\": \"Dem\"}, {\"Democrat\": true, \"Percentile\": \"60\", \"Growth\": -0.7351514252120439, \"Party\": \"Dem\"}, {\"Democrat\": true, \"Percentile\": \"60\", \"Growth\": -1.8740058695700834, \"Party\": \"Dem\"}, {\"Democrat\": false, \"Percentile\": \"60\", \"Growth\": -3.699948222298932, \"Party\": \"Rep\"}, {\"Democrat\": false, \"Percentile\": \"60\", \"Growth\": 2.4330954012065975, \"Party\": \"Rep\"}, {\"Democrat\": false, \"Percentile\": \"60\", \"Growth\": 0.9661296800392627, \"Party\": \"Rep\"}, {\"Democrat\": false, \"Percentile\": \"60\", \"Growth\": 0.3773838452838296, \"Party\": \"Rep\"}, {\"Democrat\": false, \"Percentile\": \"60\", \"Growth\": -1.4055116371505583, \"Party\": \"Rep\"}, {\"Democrat\": false, \"Percentile\": \"60\", \"Growth\": 0.8832800543556951, \"Party\": \"Rep\"}, {\"Democrat\": false, \"Percentile\": \"60\", \"Growth\": -0.7637891013595688, \"Party\": \"Rep\"}, {\"Democrat\": false, \"Percentile\": \"60\", \"Growth\": -0.9047493866105816, \"Party\": \"Rep\"}, {\"Democrat\": true, \"Percentile\": \"60\", \"Growth\": 0.07124771185234025, \"Party\": \"Dem\"}, {\"Democrat\": true, \"Percentile\": \"60\", \"Growth\": 3.5950718219496913, \"Party\": \"Dem\"}, {\"Democrat\": true, \"Percentile\": \"60\", \"Growth\": 3.088016669202953, \"Party\": \"Dem\"}, {\"Democrat\": true, \"Percentile\": \"60\", \"Growth\": 2.731011592669197, \"Party\": \"Dem\"}, {\"Democrat\": true, \"Percentile\": \"60\", \"Growth\": 1.5844317668185504, \"Party\": \"Dem\"}, {\"Democrat\": true, \"Percentile\": \"60\", \"Growth\": 1.7716388591888954, \"Party\": \"Dem\"}, {\"Democrat\": true, \"Percentile\": \"60\", \"Growth\": 2.239678665853173, \"Party\": \"Dem\"}, {\"Democrat\": true, \"Percentile\": \"60\", \"Growth\": -0.17637131872454415, \"Party\": \"Dem\"}, {\"Democrat\": false, \"Percentile\": \"60\", \"Growth\": -0.15709127763349207, \"Party\": \"Rep\"}, {\"Democrat\": false, \"Percentile\": \"60\", \"Growth\": -1.3065766441610394, \"Party\": \"Rep\"}, {\"Democrat\": false, \"Percentile\": \"60\", \"Growth\": -1.8035826099767949, \"Party\": \"Rep\"}, {\"Democrat\": false, \"Percentile\": \"60\", \"Growth\": 1.5358340501389955, \"Party\": \"Rep\"}, {\"Democrat\": false, \"Percentile\": \"60\", \"Growth\": 0.9691995921809582, \"Party\": \"Rep\"}, {\"Democrat\": false, \"Percentile\": \"60\", \"Growth\": 1.301864177696177, \"Party\": \"Rep\"}, {\"Democrat\": false, \"Percentile\": \"60\", \"Growth\": 4.11406268668606, \"Party\": \"Rep\"}, {\"Democrat\": false, \"Percentile\": \"60\", \"Growth\": 1.1603078038757486, \"Party\": \"Rep\"}, {\"Democrat\": false, \"Percentile\": \"60\", \"Growth\": 3.2000997865676117, \"Party\": \"Rep\"}, {\"Democrat\": false, \"Percentile\": \"60\", \"Growth\": 1.1353442475891429, \"Party\": \"Rep\"}, {\"Democrat\": false, \"Percentile\": \"60\", \"Growth\": -1.4925785295132887, \"Party\": \"Rep\"}, {\"Democrat\": false, \"Percentile\": \"60\", \"Growth\": -1.4129561820236058, \"Party\": \"Rep\"}, {\"Democrat\": true, \"Percentile\": \"60\", \"Growth\": -2.9153286022016944, \"Party\": \"Dem\"}, {\"Democrat\": true, \"Percentile\": \"60\", \"Growth\": 1.2660091270425333, \"Party\": \"Dem\"}, {\"Democrat\": true, \"Percentile\": \"60\", \"Growth\": 2.377103085438703, \"Party\": \"Dem\"}, {\"Democrat\": true, \"Percentile\": \"60\", \"Growth\": 2.4709383950132002, \"Party\": \"Dem\"}, {\"Democrat\": false, \"Percentile\": \"60\", \"Growth\": 2.7509701244933016, \"Party\": \"Rep\"}, {\"Democrat\": false, \"Percentile\": \"60\", \"Growth\": -1.9449473803326955, \"Party\": \"Rep\"}, {\"Democrat\": false, \"Percentile\": \"60\", \"Growth\": -2.0898829720933487, \"Party\": \"Rep\"}, {\"Democrat\": false, \"Percentile\": \"60\", \"Growth\": 2.491128459900649, \"Party\": \"Rep\"}, {\"Democrat\": false, \"Percentile\": \"60\", \"Growth\": 5.536746861611297, \"Party\": \"Rep\"}, {\"Democrat\": false, \"Percentile\": \"60\", \"Growth\": 0.27037582239313185, \"Party\": \"Rep\"}, {\"Democrat\": false, \"Percentile\": \"60\", \"Growth\": -0.29055835130601393, \"Party\": \"Rep\"}, {\"Democrat\": false, \"Percentile\": \"60\", \"Growth\": 3.8043562755554206, \"Party\": \"Rep\"}, {\"Democrat\": true, \"Percentile\": \"60\", \"Growth\": 5.960166713342008, \"Party\": \"Dem\"}, {\"Democrat\": true, \"Percentile\": \"60\", \"Growth\": 2.428118250539968, \"Party\": \"Dem\"}, {\"Democrat\": true, \"Percentile\": \"60\", \"Growth\": 5.27026306908005, \"Party\": \"Dem\"}, {\"Democrat\": true, \"Percentile\": \"60\", \"Growth\": 3.870920127677624, \"Party\": \"Dem\"}, {\"Democrat\": true, \"Percentile\": \"60\", \"Growth\": 3.7182333129210043, \"Party\": \"Dem\"}, {\"Democrat\": true, \"Percentile\": \"60\", \"Growth\": 3.483375250014853, \"Party\": \"Dem\"}, {\"Democrat\": true, \"Percentile\": \"60\", \"Growth\": 2.6361788617886184, \"Party\": \"Dem\"}, {\"Democrat\": true, \"Percentile\": \"60\", \"Growth\": 2.0535158680771604, \"Party\": \"Dem\"}, {\"Democrat\": false, \"Percentile\": \"60\", \"Growth\": 2.9688167449807734, \"Party\": \"Rep\"}, {\"Democrat\": false, \"Percentile\": \"60\", \"Growth\": 5.440951265651739, \"Party\": \"Rep\"}, {\"Democrat\": false, \"Percentile\": \"60\", \"Growth\": -0.48854824974228217, \"Party\": \"Rep\"}, {\"Democrat\": false, \"Percentile\": \"60\", \"Growth\": -0.49061148030864477, \"Party\": \"Rep\"}, {\"Democrat\": false, \"Percentile\": \"60\", \"Growth\": 5.4634398739387136, \"Party\": \"Rep\"}, {\"Democrat\": false, \"Percentile\": \"60\", \"Growth\": 6.545217630992051, \"Party\": \"Rep\"}, {\"Democrat\": false, \"Percentile\": \"60\", \"Growth\": -2.5136798905608715, \"Party\": \"Rep\"}, {\"Democrat\": false, \"Percentile\": \"60\", \"Growth\": 7.6866417635607975, \"Party\": \"Rep\"}, {\"Democrat\": true, \"Percentile\": \"60\", \"Growth\": 4.753506572239519, \"Party\": \"Dem\"}, {\"Democrat\": true, \"Percentile\": \"60\", \"Growth\": 2.6998726475166324, \"Party\": \"Dem\"}, {\"Democrat\": true, \"Percentile\": \"60\", \"Growth\": 5.569000029876614, \"Party\": \"Dem\"}, {\"Democrat\": true, \"Percentile\": \"60\", \"Growth\": -0.8942054303733737, \"Party\": \"Dem\"}, {\"Democrat\": true, \"Percentile\": \"60\", \"Growth\": -2.9483605850742833, \"Party\": \"Dem\"}, {\"Democrat\": true, \"Percentile\": \"60\", \"Growth\": null, \"Party\": \"Dem\"}, {\"Democrat\": false, \"Percentile\": \"80\", \"Growth\": 7.91235106682282, \"Party\": \"Rep\"}, {\"Democrat\": false, \"Percentile\": \"80\", \"Growth\": 0.023887356389540315, \"Party\": \"Rep\"}, {\"Democrat\": false, \"Percentile\": \"80\", \"Growth\": 2.7637852997155266, \"Party\": \"Rep\"}, {\"Democrat\": true, \"Percentile\": \"80\", \"Growth\": 3.194575537171729, \"Party\": \"Dem\"}, {\"Democrat\": true, \"Percentile\": \"80\", \"Growth\": 3.3251823221059684, \"Party\": \"Dem\"}, {\"Democrat\": true, \"Percentile\": \"80\", \"Growth\": 2.5518270934909992, \"Party\": \"Dem\"}, {\"Democrat\": true, \"Percentile\": \"80\", \"Growth\": 2.432355068096892, \"Party\": \"Dem\"}, {\"Democrat\": true, \"Percentile\": \"80\", \"Growth\": 0.5750304940413509, \"Party\": \"Dem\"}, {\"Democrat\": true, \"Percentile\": \"80\", \"Growth\": -0.9827235696120873, \"Party\": \"Dem\"}, {\"Democrat\": true, \"Percentile\": \"80\", \"Growth\": -0.8361415489447799, \"Party\": \"Dem\"}, {\"Democrat\": true, \"Percentile\": \"80\", \"Growth\": -0.2404434846494663, \"Party\": \"Dem\"}, {\"Democrat\": false, \"Percentile\": \"80\", \"Growth\": -3.2141984974070947, \"Party\": \"Rep\"}, {\"Democrat\": false, \"Percentile\": \"80\", \"Growth\": 0.3495722245046462, \"Party\": \"Rep\"}, {\"Democrat\": false, \"Percentile\": \"80\", \"Growth\": 2.543995151479317, \"Party\": \"Rep\"}, {\"Democrat\": false, \"Percentile\": \"80\", \"Growth\": -0.2778678616704555, \"Party\": \"Rep\"}, {\"Democrat\": false, \"Percentile\": \"80\", \"Growth\": -0.8455562620128143, \"Party\": \"Rep\"}, {\"Democrat\": false, \"Percentile\": \"80\", \"Growth\": 1.6408664131209783, \"Party\": \"Rep\"}, {\"Democrat\": false, \"Percentile\": \"80\", \"Growth\": -1.2180446714214477, \"Party\": \"Rep\"}, {\"Democrat\": false, \"Percentile\": \"80\", \"Growth\": 0.18598701766510128, \"Party\": \"Rep\"}, {\"Democrat\": true, \"Percentile\": \"80\", \"Growth\": 0.3881775580236946, \"Party\": \"Dem\"}, {\"Democrat\": true, \"Percentile\": \"80\", \"Growth\": 2.9931517781814687, \"Party\": \"Dem\"}, {\"Democrat\": true, \"Percentile\": \"80\", \"Growth\": 3.218138312477925, \"Party\": \"Dem\"}, {\"Democrat\": true, \"Percentile\": \"80\", \"Growth\": 3.9715814545335792, \"Party\": \"Dem\"}, {\"Democrat\": true, \"Percentile\": \"80\", \"Growth\": 1.5254153071533771, \"Party\": \"Dem\"}, {\"Democrat\": true, \"Percentile\": \"80\", \"Growth\": 0.8030586349672797, \"Party\": \"Dem\"}, {\"Democrat\": true, \"Percentile\": \"80\", \"Growth\": 2.653047233838346, \"Party\": \"Dem\"}, {\"Democrat\": true, \"Percentile\": \"80\", \"Growth\": 1.719794635774874, \"Party\": \"Dem\"}, {\"Democrat\": false, \"Percentile\": \"80\", \"Growth\": -0.7861145703611405, \"Party\": \"Rep\"}, {\"Democrat\": false, \"Percentile\": \"80\", \"Growth\": -1.1548686561295263, \"Party\": \"Rep\"}, {\"Democrat\": false, \"Percentile\": \"80\", \"Growth\": -1.5948990149648012, \"Party\": \"Rep\"}, {\"Democrat\": false, \"Percentile\": \"80\", \"Growth\": 2.0560763710037344, \"Party\": \"Rep\"}, {\"Democrat\": false, \"Percentile\": \"80\", \"Growth\": 1.1760618431338576, \"Party\": \"Rep\"}, {\"Democrat\": false, \"Percentile\": \"80\", \"Growth\": 1.9499149900821688, \"Party\": \"Rep\"}, {\"Democrat\": false, \"Percentile\": \"80\", \"Growth\": 3.0505999908746695, \"Party\": \"Rep\"}, {\"Democrat\": false, \"Percentile\": \"80\", \"Growth\": 2.3374610111876803, \"Party\": \"Rep\"}, {\"Democrat\": false, \"Percentile\": \"80\", \"Growth\": 3.7867700508844138, \"Party\": \"Rep\"}, {\"Democrat\": false, \"Percentile\": \"80\", \"Growth\": 0.7942400500185576, \"Party\": \"Rep\"}, {\"Democrat\": false, \"Percentile\": \"80\", \"Growth\": 0.04789225220647175, \"Party\": \"Rep\"}, {\"Democrat\": false, \"Percentile\": \"80\", \"Growth\": -0.7498593407446186, \"Party\": \"Rep\"}, {\"Democrat\": true, \"Percentile\": \"80\", \"Growth\": -1.064350496664912, \"Party\": \"Dem\"}, {\"Democrat\": true, \"Percentile\": \"80\", \"Growth\": 0.3206177427740764, \"Party\": \"Dem\"}, {\"Democrat\": true, \"Percentile\": \"80\", \"Growth\": 3.2795035996977084, \"Party\": \"Dem\"}, {\"Democrat\": true, \"Percentile\": \"80\", \"Growth\": 2.2272371484045372, \"Party\": \"Dem\"}, {\"Democrat\": false, \"Percentile\": \"80\", \"Growth\": 2.4942956271684524, \"Party\": \"Rep\"}, {\"Democrat\": false, \"Percentile\": \"80\", \"Growth\": -1.7172523961661357, \"Party\": \"Rep\"}, {\"Democrat\": false, \"Percentile\": \"80\", \"Growth\": -1.653608330479972, \"Party\": \"Rep\"}, {\"Democrat\": false, \"Percentile\": \"80\", \"Growth\": 2.020938858123311, \"Party\": \"Rep\"}, {\"Democrat\": false, \"Percentile\": \"80\", \"Growth\": 6.320388879785899, \"Party\": \"Rep\"}, {\"Democrat\": false, \"Percentile\": \"80\", \"Growth\": 0.03934039274824386, \"Party\": \"Rep\"}, {\"Democrat\": false, \"Percentile\": \"80\", \"Growth\": 0.3443171226492625, \"Party\": \"Rep\"}, {\"Democrat\": false, \"Percentile\": \"80\", \"Growth\": 5.382668685071135, \"Party\": \"Rep\"}, {\"Democrat\": true, \"Percentile\": \"80\", \"Growth\": 3.987070260397263, \"Party\": \"Dem\"}, {\"Democrat\": true, \"Percentile\": \"80\", \"Growth\": 3.3006454816286057, \"Party\": \"Dem\"}, {\"Democrat\": true, \"Percentile\": \"80\", \"Growth\": 4.805765878281676, \"Party\": \"Dem\"}, {\"Democrat\": true, \"Percentile\": \"80\", \"Growth\": 4.27174193198312, \"Party\": \"Dem\"}, {\"Democrat\": true, \"Percentile\": \"80\", \"Growth\": 0.9517679603407103, \"Party\": \"Dem\"}, {\"Democrat\": true, \"Percentile\": \"80\", \"Growth\": 3.508299431584616, \"Party\": \"Dem\"}, {\"Democrat\": true, \"Percentile\": \"80\", \"Growth\": 4.109973141288625, \"Party\": \"Dem\"}, {\"Democrat\": true, \"Percentile\": \"80\", \"Growth\": 1.6470658826353013, \"Party\": \"Dem\"}, {\"Democrat\": false, \"Percentile\": \"80\", \"Growth\": 3.3213992343578136, \"Party\": \"Rep\"}, {\"Democrat\": false, \"Percentile\": \"80\", \"Growth\": 6.556456540767286, \"Party\": \"Rep\"}, {\"Democrat\": false, \"Percentile\": \"80\", \"Growth\": 1.1459116345109877, \"Party\": \"Rep\"}, {\"Democrat\": false, \"Percentile\": \"80\", \"Growth\": -1.5378289473684248, \"Party\": \"Rep\"}, {\"Democrat\": false, \"Percentile\": \"80\", \"Growth\": 5.57755087865528, \"Party\": \"Rep\"}, {\"Democrat\": false, \"Percentile\": \"80\", \"Growth\": 5.325919964884052, \"Party\": \"Rep\"}, {\"Democrat\": false, \"Percentile\": \"80\", \"Growth\": -0.8235080718302146, \"Party\": \"Rep\"}, {\"Democrat\": false, \"Percentile\": \"80\", \"Growth\": 7.2234323945853385, \"Party\": \"Rep\"}, {\"Democrat\": true, \"Percentile\": \"80\", \"Growth\": 3.770081537095349, \"Party\": \"Dem\"}, {\"Democrat\": true, \"Percentile\": \"80\", \"Growth\": 0.8877667372536147, \"Party\": \"Dem\"}, {\"Democrat\": true, \"Percentile\": \"80\", \"Growth\": 3.835257304748607, \"Party\": \"Dem\"}, {\"Democrat\": true, \"Percentile\": \"80\", \"Growth\": 0.3905420894001699, \"Party\": \"Dem\"}, {\"Democrat\": true, \"Percentile\": \"80\", \"Growth\": -4.583105494460982, \"Party\": \"Dem\"}, {\"Democrat\": true, \"Percentile\": \"80\", \"Growth\": null, \"Party\": \"Dem\"}, {\"Democrat\": false, \"Percentile\": \"95\", \"Growth\": 6.983492731244212, \"Party\": \"Rep\"}, {\"Democrat\": false, \"Percentile\": \"95\", \"Growth\": 2.085891773492765, \"Party\": \"Rep\"}, {\"Democrat\": false, \"Percentile\": \"95\", \"Growth\": 4.068728933266574, \"Party\": \"Rep\"}, {\"Democrat\": true, \"Percentile\": \"95\", \"Growth\": 3.67790352138051, \"Party\": \"Dem\"}, {\"Democrat\": true, \"Percentile\": \"95\", \"Growth\": 3.8024725120046288, \"Party\": \"Dem\"}, {\"Democrat\": true, \"Percentile\": \"95\", \"Growth\": 2.2217928505505746, \"Party\": \"Dem\"}, {\"Democrat\": true, \"Percentile\": \"95\", \"Growth\": 3.834300178855754, \"Party\": \"Dem\"}, {\"Democrat\": true, \"Percentile\": \"95\", \"Growth\": 0.21688911704311753, \"Party\": \"Dem\"}, {\"Democrat\": true, \"Percentile\": \"95\", \"Growth\": -0.6350582774363067, \"Party\": \"Dem\"}, {\"Democrat\": true, \"Percentile\": \"95\", \"Growth\": -1.5245127586899776, \"Party\": \"Dem\"}, {\"Democrat\": true, \"Percentile\": \"95\", \"Growth\": 0.349064331170057, \"Party\": \"Dem\"}, {\"Democrat\": false, \"Percentile\": \"95\", \"Growth\": -2.339519543172197, \"Party\": \"Rep\"}, {\"Democrat\": false, \"Percentile\": \"95\", \"Growth\": 0.37553117897024535, \"Party\": \"Rep\"}, {\"Democrat\": false, \"Percentile\": \"95\", \"Growth\": 0.3039814967784604, \"Party\": \"Rep\"}, {\"Democrat\": false, \"Percentile\": \"95\", \"Growth\": 2.773073217112998, \"Party\": \"Rep\"}, {\"Democrat\": false, \"Percentile\": \"95\", \"Growth\": -0.5936859160991403, \"Party\": \"Rep\"}, {\"Democrat\": false, \"Percentile\": \"95\", \"Growth\": 1.2059614809753594, \"Party\": \"Rep\"}, {\"Democrat\": false, \"Percentile\": \"95\", \"Growth\": -1.4203684370053593, \"Party\": \"Rep\"}, {\"Democrat\": false, \"Percentile\": \"95\", \"Growth\": -0.3490284256804421, \"Party\": \"Rep\"}, {\"Democrat\": true, \"Percentile\": \"95\", \"Growth\": -0.09974268064740777, \"Party\": \"Dem\"}, {\"Democrat\": true, \"Percentile\": \"95\", \"Growth\": 4.537887284452546, \"Party\": \"Dem\"}, {\"Democrat\": true, \"Percentile\": \"95\", \"Growth\": 4.5075568538214705, \"Party\": \"Dem\"}, {\"Democrat\": true, \"Percentile\": \"95\", \"Growth\": 4.827384294922554, \"Party\": \"Dem\"}, {\"Democrat\": true, \"Percentile\": \"95\", \"Growth\": 0.8280020518578013, \"Party\": \"Dem\"}, {\"Democrat\": true, \"Percentile\": \"95\", \"Growth\": 0.5865545154962293, \"Party\": \"Dem\"}, {\"Democrat\": true, \"Percentile\": \"95\", \"Growth\": 3.8924850814200385, \"Party\": \"Dem\"}, {\"Democrat\": true, \"Percentile\": \"95\", \"Growth\": 4.137262749889414, \"Party\": \"Dem\"}, {\"Democrat\": false, \"Percentile\": \"95\", \"Growth\": 0.5991957743717968, \"Party\": \"Rep\"}, {\"Democrat\": false, \"Percentile\": \"95\", \"Growth\": -3.071369149711911, \"Party\": \"Rep\"}, {\"Democrat\": false, \"Percentile\": \"95\", \"Growth\": -1.4299525711306549, \"Party\": \"Rep\"}, {\"Democrat\": false, \"Percentile\": \"95\", \"Growth\": 3.0617142260942254, \"Party\": \"Rep\"}, {\"Democrat\": false, \"Percentile\": \"95\", \"Growth\": 2.121380015769181, \"Party\": \"Rep\"}, {\"Democrat\": false, \"Percentile\": \"95\", \"Growth\": 0.7882302405498365, \"Party\": \"Rep\"}, {\"Democrat\": false, \"Percentile\": \"95\", \"Growth\": 3.7994014145343646, \"Party\": \"Rep\"}, {\"Democrat\": false, \"Percentile\": \"95\", \"Growth\": 2.3379571536127353, \"Party\": \"Rep\"}, {\"Democrat\": false, \"Percentile\": \"95\", \"Growth\": 3.2532391048292197, \"Party\": \"Rep\"}, {\"Democrat\": false, \"Percentile\": \"95\", \"Growth\": 1.8510742949002568, \"Party\": \"Rep\"}, {\"Democrat\": false, \"Percentile\": \"95\", \"Growth\": 2.669680192635737, \"Party\": \"Rep\"}, {\"Democrat\": false, \"Percentile\": \"95\", \"Growth\": -0.3339000632200495, \"Party\": \"Rep\"}, {\"Democrat\": true, \"Percentile\": \"95\", \"Growth\": -2.5317818790942526, \"Party\": \"Dem\"}, {\"Democrat\": true, \"Percentile\": \"95\", \"Growth\": 1.5121610542616848, \"Party\": \"Dem\"}, {\"Democrat\": true, \"Percentile\": \"95\", \"Growth\": 3.3367221427316407, \"Party\": \"Dem\"}, {\"Democrat\": true, \"Percentile\": \"95\", \"Growth\": 3.0611518934126725, \"Party\": \"Dem\"}, {\"Democrat\": false, \"Percentile\": \"95\", \"Growth\": 2.8435546095516795, \"Party\": \"Rep\"}, {\"Democrat\": false, \"Percentile\": \"95\", \"Growth\": -1.9852006389151522, \"Party\": \"Rep\"}, {\"Democrat\": false, \"Percentile\": \"95\", \"Growth\": -0.9160029198400532, \"Party\": \"Rep\"}, {\"Democrat\": false, \"Percentile\": \"95\", \"Growth\": 1.4762276222378024, \"Party\": \"Rep\"}, {\"Democrat\": false, \"Percentile\": \"95\", \"Growth\": 6.715587858776773, \"Party\": \"Rep\"}, {\"Democrat\": false, \"Percentile\": \"95\", \"Growth\": 0.04899181836632849, \"Party\": \"Rep\"}, {\"Democrat\": false, \"Percentile\": \"95\", \"Growth\": 1.798996836615463, \"Party\": \"Rep\"}, {\"Democrat\": false, \"Percentile\": \"95\", \"Growth\": 5.554636384146794, \"Party\": \"Rep\"}, {\"Democrat\": true, \"Percentile\": \"95\", \"Growth\": -0.5571551434020106, \"Party\": \"Dem\"}, {\"Democrat\": true, \"Percentile\": \"95\", \"Growth\": 7.335222392576468, \"Party\": \"Dem\"}, {\"Democrat\": true, \"Percentile\": \"95\", \"Growth\": 4.843379172207163, \"Party\": \"Dem\"}, {\"Democrat\": true, \"Percentile\": \"95\", \"Growth\": 4.145777092171232, \"Party\": \"Dem\"}, {\"Democrat\": true, \"Percentile\": \"95\", \"Growth\": 2.852300591374579, \"Party\": \"Dem\"}, {\"Democrat\": true, \"Percentile\": \"95\", \"Growth\": 0.25305473212349217, \"Party\": \"Dem\"}, {\"Democrat\": true, \"Percentile\": \"95\", \"Growth\": 1.0484018264840245, \"Party\": \"Dem\"}, {\"Democrat\": true, \"Percentile\": \"95\", \"Growth\": 6.786553671214435, \"Party\": \"Dem\"}, {\"Democrat\": false, \"Percentile\": \"95\", \"Growth\": 4.047609383878559, \"Party\": \"Rep\"}, {\"Democrat\": false, \"Percentile\": \"95\", \"Growth\": 5.793569856690461, \"Party\": \"Rep\"}, {\"Democrat\": false, \"Percentile\": \"95\", \"Growth\": 1.6044238907552133, \"Party\": \"Rep\"}, {\"Democrat\": false, \"Percentile\": \"95\", \"Growth\": -2.703964682910265, \"Party\": \"Rep\"}, {\"Democrat\": false, \"Percentile\": \"95\", \"Growth\": 6.203227842394732, \"Party\": \"Rep\"}, {\"Democrat\": false, \"Percentile\": \"95\", \"Growth\": 2.4040625541000615, \"Party\": \"Rep\"}, {\"Democrat\": false, \"Percentile\": \"95\", \"Growth\": 1.0578739881965893, \"Party\": \"Rep\"}, {\"Democrat\": false, \"Percentile\": \"95\", \"Growth\": 7.177858892944644, \"Party\": \"Rep\"}, {\"Democrat\": true, \"Percentile\": \"95\", \"Growth\": 3.0185957863287483, \"Party\": \"Dem\"}, {\"Democrat\": true, \"Percentile\": \"95\", \"Growth\": -3.041654180401554, \"Party\": \"Dem\"}, {\"Democrat\": true, \"Percentile\": \"95\", \"Growth\": 5.488599992097054, \"Party\": \"Dem\"}, {\"Democrat\": true, \"Percentile\": \"95\", \"Growth\": -1.0440290920466055, \"Party\": \"Dem\"}, {\"Democrat\": true, \"Percentile\": \"95\", \"Growth\": -5.3317374726996825, \"Party\": \"Dem\"}, {\"Democrat\": true, \"Percentile\": \"95\", \"Growth\": null, \"Party\": \"Dem\"}]}}, {\"mode\": \"vega-lite\"});\n",
       "</script>"
      ],
      "text/plain": [
       "alt.Chart(...)"
      ]
     },
     "execution_count": 20,
     "metadata": {},
     "output_type": "execute_result"
    }
   ],
   "source": [
    "#Unlagged chart\n",
    "chart = alt.Chart(df).mark_bar().encode(\n",
    "    alt.X('Party', title = \"\"),\n",
    "    alt.Y('mean(Growth)', title = \"Percent Growth\"),\n",
    "    color = alt.Color('Party', scale = alt.Scale(domain = domain, range = range_)),\n",
    "    column = 'Percentile'\n",
    ").properties(\n",
    "    title = 'Avg Annual Income Growth, 1947-2019'\n",
    ")\n",
    "\n",
    "# I could save the chart out as a .html file\n",
    "# chart.save(\"pres.html\")\n",
    "\n",
    "# Or just print it inside the notebook\n",
    "chart"
   ]
  },
  {
   "cell_type": "markdown",
   "metadata": {},
   "source": [
    "And here's the lagged version"
   ]
  },
  {
   "cell_type": "code",
   "execution_count": 21,
   "metadata": {},
   "outputs": [
    {
     "data": {
      "text/html": [
       "\n",
       "<div id=\"altair-viz-c500e3ea326045d4a8441bab74449005\"></div>\n",
       "<script type=\"text/javascript\">\n",
       "  (function(spec, embedOpt){\n",
       "    let outputDiv = document.currentScript.previousElementSibling;\n",
       "    if (outputDiv.id !== \"altair-viz-c500e3ea326045d4a8441bab74449005\") {\n",
       "      outputDiv = document.getElementById(\"altair-viz-c500e3ea326045d4a8441bab74449005\");\n",
       "    }\n",
       "    const paths = {\n",
       "      \"vega\": \"https://cdn.jsdelivr.net/npm//vega@5?noext\",\n",
       "      \"vega-lib\": \"https://cdn.jsdelivr.net/npm//vega-lib?noext\",\n",
       "      \"vega-lite\": \"https://cdn.jsdelivr.net/npm//vega-lite@4.8.1?noext\",\n",
       "      \"vega-embed\": \"https://cdn.jsdelivr.net/npm//vega-embed@6?noext\",\n",
       "    };\n",
       "\n",
       "    function loadScript(lib) {\n",
       "      return new Promise(function(resolve, reject) {\n",
       "        var s = document.createElement('script');\n",
       "        s.src = paths[lib];\n",
       "        s.async = true;\n",
       "        s.onload = () => resolve(paths[lib]);\n",
       "        s.onerror = () => reject(`Error loading script: ${paths[lib]}`);\n",
       "        document.getElementsByTagName(\"head\")[0].appendChild(s);\n",
       "      });\n",
       "    }\n",
       "\n",
       "    function showError(err) {\n",
       "      outputDiv.innerHTML = `<div class=\"error\" style=\"color:red;\">${err}</div>`;\n",
       "      throw err;\n",
       "    }\n",
       "\n",
       "    function displayChart(vegaEmbed) {\n",
       "      vegaEmbed(outputDiv, spec, embedOpt)\n",
       "        .catch(err => showError(`Javascript Error: ${err.message}<br>This usually means there's a typo in your chart specification. See the javascript console for the full traceback.`));\n",
       "    }\n",
       "\n",
       "    if(typeof define === \"function\" && define.amd) {\n",
       "      requirejs.config({paths});\n",
       "      require([\"vega-embed\"], displayChart, err => showError(`Error loading script: ${err.message}`));\n",
       "    } else if (typeof vegaEmbed === \"function\") {\n",
       "      displayChart(vegaEmbed);\n",
       "    } else {\n",
       "      loadScript(\"vega\")\n",
       "        .then(() => loadScript(\"vega-lite\"))\n",
       "        .then(() => loadScript(\"vega-embed\"))\n",
       "        .catch(showError)\n",
       "        .then(() => displayChart(vegaEmbed));\n",
       "    }\n",
       "  })({\"config\": {\"view\": {\"continuousWidth\": 400, \"continuousHeight\": 300}}, \"data\": {\"name\": \"data-806e813c4711bac34b9a28a456c7720e\"}, \"mark\": \"bar\", \"encoding\": {\"color\": {\"type\": \"nominal\", \"field\": \"Party\", \"scale\": {\"domain\": [\"Dem\", \"Rep\"], \"range\": [\"blue\", \"red\"]}}, \"column\": {\"type\": \"nominal\", \"field\": \"Percentile\"}, \"x\": {\"type\": \"nominal\", \"field\": \"Party\", \"title\": \"\"}, \"y\": {\"type\": \"quantitative\", \"aggregate\": \"mean\", \"field\": \"Growth\", \"title\": \"Percent Growth\"}}, \"title\": \"Avg Annual Income Growth, 1947-2019, 1 year lag\", \"$schema\": \"https://vega.github.io/schema/vega-lite/v4.8.1.json\", \"datasets\": {\"data-806e813c4711bac34b9a28a456c7720e\": [{\"Democrat\": false, \"Percentile\": \"20\", \"Growth\": 9.547023059648364, \"Party\": \"Rep\"}, {\"Democrat\": false, \"Percentile\": \"20\", \"Growth\": 3.9633278287113383, \"Party\": \"Rep\"}, {\"Democrat\": true, \"Percentile\": \"20\", \"Growth\": 1.7498116924503204, \"Party\": \"Dem\"}, {\"Democrat\": true, \"Percentile\": \"20\", \"Growth\": 5.530587911583962, \"Party\": \"Dem\"}, {\"Democrat\": true, \"Percentile\": \"20\", \"Growth\": 3.983341810783325, \"Party\": \"Dem\"}, {\"Democrat\": true, \"Percentile\": \"20\", \"Growth\": -0.8713464114078584, \"Party\": \"Dem\"}, {\"Democrat\": true, \"Percentile\": \"20\", \"Growth\": 2.3430948848609967, \"Party\": \"Dem\"}, {\"Democrat\": true, \"Percentile\": \"20\", \"Growth\": 0.0, \"Party\": \"Dem\"}, {\"Democrat\": true, \"Percentile\": \"20\", \"Growth\": -0.5038025864005369, \"Party\": \"Dem\"}, {\"Democrat\": true, \"Percentile\": \"20\", \"Growth\": -3.136267561855033, \"Party\": \"Dem\"}, {\"Democrat\": false, \"Percentile\": \"20\", \"Growth\": -2.7771901725544668, \"Party\": \"Rep\"}, {\"Democrat\": false, \"Percentile\": \"20\", \"Growth\": -3.919746813391012, \"Party\": \"Rep\"}, {\"Democrat\": false, \"Percentile\": \"20\", \"Growth\": 0.3525641025641013, \"Party\": \"Rep\"}, {\"Democrat\": false, \"Percentile\": \"20\", \"Growth\": 2.0942408376963373, \"Party\": \"Rep\"}, {\"Democrat\": false, \"Percentile\": \"20\", \"Growth\": 0.017851829812554065, \"Party\": \"Rep\"}, {\"Democrat\": false, \"Percentile\": \"20\", \"Growth\": 0.014878738282986248, \"Party\": \"Rep\"}, {\"Democrat\": false, \"Percentile\": \"20\", \"Growth\": -1.7426391041197586, \"Party\": \"Rep\"}, {\"Democrat\": false, \"Percentile\": \"20\", \"Growth\": -1.5515256188831317, \"Party\": \"Rep\"}, {\"Democrat\": true, \"Percentile\": \"20\", \"Growth\": -2.7707808564231717, \"Party\": \"Dem\"}, {\"Democrat\": true, \"Percentile\": \"20\", \"Growth\": 1.8267833224087315, \"Party\": \"Dem\"}, {\"Democrat\": true, \"Percentile\": \"20\", \"Growth\": 3.336670985981849, \"Party\": \"Dem\"}, {\"Democrat\": true, \"Percentile\": \"20\", \"Growth\": 3.524390243902431, \"Party\": \"Dem\"}, {\"Democrat\": true, \"Percentile\": \"20\", \"Growth\": 2.3912093400761725, \"Party\": \"Dem\"}, {\"Democrat\": true, \"Percentile\": \"20\", \"Growth\": 0.5208987071670723, \"Party\": \"Dem\"}, {\"Democrat\": true, \"Percentile\": \"20\", \"Growth\": 3.7977981890430668, \"Party\": \"Dem\"}, {\"Democrat\": true, \"Percentile\": \"20\", \"Growth\": 3.5550458715596367, \"Party\": \"Dem\"}, {\"Democrat\": false, \"Percentile\": \"20\", \"Growth\": -0.9620523784072743, \"Party\": \"Rep\"}, {\"Democrat\": false, \"Percentile\": \"20\", \"Growth\": -4.072804178549683, \"Party\": \"Rep\"}, {\"Democrat\": false, \"Percentile\": \"20\", \"Growth\": -2.6272270585665725, \"Party\": \"Rep\"}, {\"Democrat\": false, \"Percentile\": \"20\", \"Growth\": 0.31927880552165, \"Party\": \"Rep\"}, {\"Democrat\": false, \"Percentile\": \"20\", \"Growth\": 1.52863408123054, \"Party\": \"Rep\"}, {\"Democrat\": false, \"Percentile\": \"20\", \"Growth\": -0.1554815167380652, \"Party\": \"Rep\"}, {\"Democrat\": false, \"Percentile\": \"20\", \"Growth\": 0.8060646770943203, \"Party\": \"Rep\"}, {\"Democrat\": false, \"Percentile\": \"20\", \"Growth\": 3.5678791492745, \"Party\": \"Rep\"}, {\"Democrat\": false, \"Percentile\": \"20\", \"Growth\": 2.1384584151045605, \"Party\": \"Rep\"}, {\"Democrat\": false, \"Percentile\": \"20\", \"Growth\": 2.008836117630808, \"Party\": \"Rep\"}, {\"Democrat\": false, \"Percentile\": \"20\", \"Growth\": -0.42617541930162206, \"Party\": \"Rep\"}, {\"Democrat\": false, \"Percentile\": \"20\", \"Growth\": -2.408264573690211, \"Party\": \"Rep\"}, {\"Democrat\": true, \"Percentile\": \"20\", \"Growth\": -3.223293407342487, \"Party\": \"Dem\"}, {\"Democrat\": true, \"Percentile\": \"20\", \"Growth\": -5.156702173511485, \"Party\": \"Dem\"}, {\"Democrat\": true, \"Percentile\": \"20\", \"Growth\": 2.2604206019392947, \"Party\": \"Dem\"}, {\"Democrat\": true, \"Percentile\": \"20\", \"Growth\": 3.0328586720295814, \"Party\": \"Dem\"}, {\"Democrat\": false, \"Percentile\": \"20\", \"Growth\": 0.26669268546524183, \"Party\": \"Rep\"}, {\"Democrat\": false, \"Percentile\": \"20\", \"Growth\": 1.569106765327688, \"Party\": \"Rep\"}, {\"Democrat\": false, \"Percentile\": \"20\", \"Growth\": -3.7364454478964637, \"Party\": \"Rep\"}, {\"Democrat\": false, \"Percentile\": \"20\", \"Growth\": 0.267831521219275, \"Party\": \"Rep\"}, {\"Democrat\": false, \"Percentile\": \"20\", \"Growth\": 1.9735986474183953, \"Party\": \"Rep\"}, {\"Democrat\": false, \"Percentile\": \"20\", \"Growth\": 4.562453253552734, \"Party\": \"Rep\"}, {\"Democrat\": false, \"Percentile\": \"20\", \"Growth\": -2.1132150820326823, \"Party\": \"Rep\"}, {\"Democrat\": false, \"Percentile\": \"20\", \"Growth\": -2.7886512891850845, \"Party\": \"Rep\"}, {\"Democrat\": true, \"Percentile\": \"20\", \"Growth\": 5.336513886522409, \"Party\": \"Dem\"}, {\"Democrat\": true, \"Percentile\": \"20\", \"Growth\": 6.414998549463302, \"Party\": \"Dem\"}, {\"Democrat\": true, \"Percentile\": \"20\", \"Growth\": 1.2557832121612655, \"Party\": \"Dem\"}, {\"Democrat\": true, \"Percentile\": \"20\", \"Growth\": 9.329586511441178, \"Party\": \"Dem\"}, {\"Democrat\": true, \"Percentile\": \"20\", \"Growth\": 6.0631865792387, \"Party\": \"Dem\"}, {\"Democrat\": true, \"Percentile\": \"20\", \"Growth\": 3.5629244201428767, \"Party\": \"Dem\"}, {\"Democrat\": true, \"Percentile\": \"20\", \"Growth\": 1.7954933117874106, \"Party\": \"Dem\"}, {\"Democrat\": true, \"Percentile\": \"20\", \"Growth\": 6.085714285714294, \"Party\": \"Dem\"}, {\"Democrat\": false, \"Percentile\": \"20\", \"Growth\": -0.4267425320056861, \"Party\": \"Rep\"}, {\"Democrat\": false, \"Percentile\": \"20\", \"Growth\": 2.3240017466401364, \"Party\": \"Rep\"}, {\"Democrat\": false, \"Percentile\": \"20\", \"Growth\": 4.9439918533604965, \"Party\": \"Rep\"}, {\"Democrat\": false, \"Percentile\": \"20\", \"Growth\": -1.037992542577848, \"Party\": \"Rep\"}, {\"Democrat\": false, \"Percentile\": \"20\", \"Growth\": -1.1899427433407994, \"Party\": \"Rep\"}, {\"Democrat\": false, \"Percentile\": \"20\", \"Growth\": 8.08847271553117, \"Party\": \"Rep\"}, {\"Democrat\": false, \"Percentile\": \"20\", \"Growth\": 10.877737335163197, \"Party\": \"Rep\"}, {\"Democrat\": false, \"Percentile\": \"20\", \"Growth\": -6.770137961726752, \"Party\": \"Rep\"}, {\"Democrat\": true, \"Percentile\": \"20\", \"Growth\": 3.488773747841112, \"Party\": \"Dem\"}, {\"Democrat\": true, \"Percentile\": \"20\", \"Growth\": 3.233091643884456, \"Party\": \"Dem\"}, {\"Democrat\": true, \"Percentile\": \"20\", \"Growth\": 8.969626319538882, \"Party\": \"Dem\"}, {\"Democrat\": true, \"Percentile\": \"20\", \"Growth\": 6.321008056186739, \"Party\": \"Dem\"}, {\"Democrat\": true, \"Percentile\": \"20\", \"Growth\": -5.6028599285017915, \"Party\": \"Dem\"}, {\"Democrat\": true, \"Percentile\": \"20\", \"Growth\": -3.2572470603030923, \"Party\": \"Dem\"}, {\"Democrat\": null, \"Percentile\": \"20\", \"Growth\": null, \"Party\": \"Rep\"}, {\"Democrat\": false, \"Percentile\": \"40\", \"Growth\": 7.5352606561209345, \"Party\": \"Rep\"}, {\"Democrat\": false, \"Percentile\": \"40\", \"Growth\": 2.1979772238591933, \"Party\": \"Rep\"}, {\"Democrat\": true, \"Percentile\": \"40\", \"Growth\": 1.705760383593602, \"Party\": \"Dem\"}, {\"Democrat\": true, \"Percentile\": \"40\", \"Growth\": 3.3050521277842027, \"Party\": \"Dem\"}, {\"Democrat\": true, \"Percentile\": \"40\", \"Growth\": 4.90309669264799, \"Party\": \"Dem\"}, {\"Democrat\": true, \"Percentile\": \"40\", \"Growth\": 1.051959340795805, \"Party\": \"Dem\"}, {\"Democrat\": true, \"Percentile\": \"40\", \"Growth\": 1.4943915305810185, \"Party\": \"Dem\"}, {\"Democrat\": true, \"Percentile\": \"40\", \"Growth\": 0.5212386657738044, \"Party\": \"Dem\"}, {\"Democrat\": true, \"Percentile\": \"40\", \"Growth\": -2.0406354159279494, \"Party\": \"Dem\"}, {\"Democrat\": true, \"Percentile\": \"40\", \"Growth\": -1.4467430807939663, \"Party\": \"Dem\"}, {\"Democrat\": false, \"Percentile\": \"40\", \"Growth\": -2.522439664128895, \"Party\": \"Rep\"}, {\"Democrat\": false, \"Percentile\": \"40\", \"Growth\": -4.0590225011029935, \"Party\": \"Rep\"}, {\"Democrat\": false, \"Percentile\": \"40\", \"Growth\": 2.4354725318871173, \"Party\": \"Rep\"}, {\"Democrat\": false, \"Percentile\": \"40\", \"Growth\": 1.1188029992721837, \"Party\": \"Rep\"}, {\"Democrat\": false, \"Percentile\": \"40\", \"Growth\": 0.3362600410984573, \"Party\": \"Rep\"}, {\"Democrat\": false, \"Percentile\": \"40\", \"Growth\": 0.47779123935633994, \"Party\": \"Rep\"}, {\"Democrat\": false, \"Percentile\": \"40\", \"Growth\": -0.7637077928675406, \"Party\": \"Rep\"}, {\"Democrat\": false, \"Percentile\": \"40\", \"Growth\": -0.8029295168984762, \"Party\": \"Rep\"}, {\"Democrat\": true, \"Percentile\": \"40\", \"Growth\": -2.0855263157894766, \"Party\": \"Dem\"}, {\"Democrat\": true, \"Percentile\": \"40\", \"Growth\": 0.019740738303619665, \"Party\": \"Dem\"}, {\"Democrat\": true, \"Percentile\": \"40\", \"Growth\": 2.5905861306600553, \"Party\": \"Dem\"}, {\"Democrat\": true, \"Percentile\": \"40\", \"Growth\": 3.3020101466204155, \"Party\": \"Dem\"}, {\"Democrat\": true, \"Percentile\": \"40\", \"Growth\": 2.690847894586068, \"Party\": \"Dem\"}, {\"Democrat\": true, \"Percentile\": \"40\", \"Growth\": 1.3334300901652663, \"Party\": \"Dem\"}, {\"Democrat\": true, \"Percentile\": \"40\", \"Growth\": 2.902960833364454, \"Party\": \"Dem\"}, {\"Democrat\": true, \"Percentile\": \"40\", \"Growth\": 2.1998359185698257, \"Party\": \"Dem\"}, {\"Democrat\": false, \"Percentile\": \"40\", \"Growth\": -1.38849692385844, \"Party\": \"Rep\"}, {\"Democrat\": false, \"Percentile\": \"40\", \"Growth\": -0.5389322404985131, \"Party\": \"Rep\"}, {\"Democrat\": false, \"Percentile\": \"40\", \"Growth\": -3.2883306790212785, \"Party\": \"Rep\"}, {\"Democrat\": false, \"Percentile\": \"40\", \"Growth\": -1.1449835408615994, \"Party\": \"Rep\"}, {\"Democrat\": false, \"Percentile\": \"40\", \"Growth\": 2.4637043554773363, \"Party\": \"Rep\"}, {\"Democrat\": false, \"Percentile\": \"40\", \"Growth\": 0.3458170848355424, \"Party\": \"Rep\"}, {\"Democrat\": false, \"Percentile\": \"40\", \"Growth\": 1.0145304544947775, \"Party\": \"Rep\"}, {\"Democrat\": false, \"Percentile\": \"40\", \"Growth\": 3.4941635737774313, \"Party\": \"Rep\"}, {\"Democrat\": false, \"Percentile\": \"40\", \"Growth\": 1.153516962340495, \"Party\": \"Rep\"}, {\"Democrat\": false, \"Percentile\": \"40\", \"Growth\": 3.597122302158273, \"Party\": \"Rep\"}, {\"Democrat\": false, \"Percentile\": \"40\", \"Growth\": -0.417410848668498, \"Party\": \"Rep\"}, {\"Democrat\": false, \"Percentile\": \"40\", \"Growth\": -1.8108374384236403, \"Party\": \"Rep\"}, {\"Democrat\": true, \"Percentile\": \"40\", \"Growth\": -2.157357959474826, \"Party\": \"Dem\"}, {\"Democrat\": true, \"Percentile\": \"40\", \"Growth\": -2.888863925709584, \"Party\": \"Dem\"}, {\"Democrat\": true, \"Percentile\": \"40\", \"Growth\": 0.07119571326863472, \"Party\": \"Dem\"}, {\"Democrat\": true, \"Percentile\": \"40\", \"Growth\": 3.383888275514746, \"Party\": \"Dem\"}, {\"Democrat\": false, \"Percentile\": \"40\", \"Growth\": 0.822169277037843, \"Party\": \"Rep\"}, {\"Democrat\": false, \"Percentile\": \"40\", \"Growth\": 2.7284034827268044, \"Party\": \"Rep\"}, {\"Democrat\": false, \"Percentile\": \"40\", \"Growth\": -2.9818210128848888, \"Party\": \"Rep\"}, {\"Democrat\": false, \"Percentile\": \"40\", \"Growth\": -0.7207590191493862, \"Party\": \"Rep\"}, {\"Democrat\": false, \"Percentile\": \"40\", \"Growth\": 1.5382502403515907, \"Party\": \"Rep\"}, {\"Democrat\": false, \"Percentile\": \"40\", \"Growth\": 4.650733029444365, \"Party\": \"Rep\"}, {\"Democrat\": false, \"Percentile\": \"40\", \"Growth\": -0.6527681449145284, \"Party\": \"Rep\"}, {\"Democrat\": false, \"Percentile\": \"40\", \"Growth\": -0.8815560677746803, \"Party\": \"Rep\"}, {\"Democrat\": true, \"Percentile\": \"40\", \"Growth\": 4.910591180026724, \"Party\": \"Dem\"}, {\"Democrat\": true, \"Percentile\": \"40\", \"Growth\": 4.144299379238747, \"Party\": \"Dem\"}, {\"Democrat\": true, \"Percentile\": \"40\", \"Growth\": 2.2289972899729005, \"Party\": \"Dem\"}, {\"Democrat\": true, \"Percentile\": \"40\", \"Growth\": 6.11579754601228, \"Party\": \"Dem\"}, {\"Democrat\": true, \"Percentile\": \"40\", \"Growth\": 4.986665324812556, \"Party\": \"Dem\"}, {\"Democrat\": true, \"Percentile\": \"40\", \"Growth\": 4.350337367743973, \"Party\": \"Dem\"}, {\"Democrat\": true, \"Percentile\": \"40\", \"Growth\": 2.5828171290061874, \"Party\": \"Dem\"}, {\"Democrat\": true, \"Percentile\": \"40\", \"Growth\": 2.7109266943291743, \"Party\": \"Dem\"}, {\"Democrat\": false, \"Percentile\": \"40\", \"Growth\": -0.5830262361806282, \"Party\": \"Rep\"}, {\"Democrat\": false, \"Percentile\": \"40\", \"Growth\": 3.4539660862638044, \"Party\": \"Rep\"}, {\"Democrat\": false, \"Percentile\": \"40\", \"Growth\": 5.5146948455465195, \"Party\": \"Rep\"}, {\"Democrat\": false, \"Percentile\": \"40\", \"Growth\": -1.3679566517632469, \"Party\": \"Rep\"}, {\"Democrat\": false, \"Percentile\": \"40\", \"Growth\": -0.08874951927343444, \"Party\": \"Rep\"}, {\"Democrat\": false, \"Percentile\": \"40\", \"Growth\": 6.88357680389553, \"Party\": \"Rep\"}, {\"Democrat\": false, \"Percentile\": \"40\", \"Growth\": 7.283150717459885, \"Party\": \"Rep\"}, {\"Democrat\": false, \"Percentile\": \"40\", \"Growth\": -3.3697184252794443, \"Party\": \"Rep\"}, {\"Democrat\": true, \"Percentile\": \"40\", \"Growth\": 8.57356395472988, \"Party\": \"Dem\"}, {\"Democrat\": true, \"Percentile\": \"40\", \"Growth\": 2.4278215223097144, \"Party\": \"Dem\"}, {\"Democrat\": true, \"Percentile\": \"40\", \"Growth\": 3.322033898305077, \"Party\": \"Dem\"}, {\"Democrat\": true, \"Percentile\": \"40\", \"Growth\": 7.008987948893641, \"Party\": \"Dem\"}, {\"Democrat\": true, \"Percentile\": \"40\", \"Growth\": -1.9134216248270386, \"Party\": \"Dem\"}, {\"Democrat\": true, \"Percentile\": \"40\", \"Growth\": -1.4301301535344035, \"Party\": \"Dem\"}, {\"Democrat\": null, \"Percentile\": \"40\", \"Growth\": null, \"Party\": \"Rep\"}, {\"Democrat\": false, \"Percentile\": \"60\", \"Growth\": 7.088749553958307, \"Party\": \"Rep\"}, {\"Democrat\": false, \"Percentile\": \"60\", \"Growth\": 1.198367784902521, \"Party\": \"Rep\"}, {\"Democrat\": true, \"Percentile\": \"60\", \"Growth\": 1.3451906688833892, \"Party\": \"Dem\"}, {\"Democrat\": true, \"Percentile\": \"60\", \"Growth\": 2.6831153771822436, \"Party\": \"Dem\"}, {\"Democrat\": true, \"Percentile\": \"60\", \"Growth\": 5.034170106231817, \"Party\": \"Dem\"}, {\"Democrat\": true, \"Percentile\": \"60\", \"Growth\": 2.0831294717635007, \"Party\": \"Dem\"}, {\"Democrat\": true, \"Percentile\": \"60\", \"Growth\": 1.7363144456677082, \"Party\": \"Dem\"}, {\"Democrat\": true, \"Percentile\": \"60\", \"Growth\": -0.06671426397780733, \"Party\": \"Dem\"}, {\"Democrat\": true, \"Percentile\": \"60\", \"Growth\": -1.7456903987028038, \"Party\": \"Dem\"}, {\"Democrat\": true, \"Percentile\": \"60\", \"Growth\": -0.7351514252120439, \"Party\": \"Dem\"}, {\"Democrat\": false, \"Percentile\": \"60\", \"Growth\": -1.8740058695700834, \"Party\": \"Rep\"}, {\"Democrat\": false, \"Percentile\": \"60\", \"Growth\": -3.699948222298932, \"Party\": \"Rep\"}, {\"Democrat\": false, \"Percentile\": \"60\", \"Growth\": 2.4330954012065975, \"Party\": \"Rep\"}, {\"Democrat\": false, \"Percentile\": \"60\", \"Growth\": 0.9661296800392627, \"Party\": \"Rep\"}, {\"Democrat\": false, \"Percentile\": \"60\", \"Growth\": 0.3773838452838296, \"Party\": \"Rep\"}, {\"Democrat\": false, \"Percentile\": \"60\", \"Growth\": -1.4055116371505583, \"Party\": \"Rep\"}, {\"Democrat\": false, \"Percentile\": \"60\", \"Growth\": 0.8832800543556951, \"Party\": \"Rep\"}, {\"Democrat\": false, \"Percentile\": \"60\", \"Growth\": -0.7637891013595688, \"Party\": \"Rep\"}, {\"Democrat\": true, \"Percentile\": \"60\", \"Growth\": -0.9047493866105816, \"Party\": \"Dem\"}, {\"Democrat\": true, \"Percentile\": \"60\", \"Growth\": 0.07124771185234025, \"Party\": \"Dem\"}, {\"Democrat\": true, \"Percentile\": \"60\", \"Growth\": 3.5950718219496913, \"Party\": \"Dem\"}, {\"Democrat\": true, \"Percentile\": \"60\", \"Growth\": 3.088016669202953, \"Party\": \"Dem\"}, {\"Democrat\": true, \"Percentile\": \"60\", \"Growth\": 2.731011592669197, \"Party\": \"Dem\"}, {\"Democrat\": true, \"Percentile\": \"60\", \"Growth\": 1.5844317668185504, \"Party\": \"Dem\"}, {\"Democrat\": true, \"Percentile\": \"60\", \"Growth\": 1.7716388591888954, \"Party\": \"Dem\"}, {\"Democrat\": true, \"Percentile\": \"60\", \"Growth\": 2.239678665853173, \"Party\": \"Dem\"}, {\"Democrat\": false, \"Percentile\": \"60\", \"Growth\": -0.17637131872454415, \"Party\": \"Rep\"}, {\"Democrat\": false, \"Percentile\": \"60\", \"Growth\": -0.15709127763349207, \"Party\": \"Rep\"}, {\"Democrat\": false, \"Percentile\": \"60\", \"Growth\": -1.3065766441610394, \"Party\": \"Rep\"}, {\"Democrat\": false, \"Percentile\": \"60\", \"Growth\": -1.8035826099767949, \"Party\": \"Rep\"}, {\"Democrat\": false, \"Percentile\": \"60\", \"Growth\": 1.5358340501389955, \"Party\": \"Rep\"}, {\"Democrat\": false, \"Percentile\": \"60\", \"Growth\": 0.9691995921809582, \"Party\": \"Rep\"}, {\"Democrat\": false, \"Percentile\": \"60\", \"Growth\": 1.301864177696177, \"Party\": \"Rep\"}, {\"Democrat\": false, \"Percentile\": \"60\", \"Growth\": 4.11406268668606, \"Party\": \"Rep\"}, {\"Democrat\": false, \"Percentile\": \"60\", \"Growth\": 1.1603078038757486, \"Party\": \"Rep\"}, {\"Democrat\": false, \"Percentile\": \"60\", \"Growth\": 3.2000997865676117, \"Party\": \"Rep\"}, {\"Democrat\": false, \"Percentile\": \"60\", \"Growth\": 1.1353442475891429, \"Party\": \"Rep\"}, {\"Democrat\": false, \"Percentile\": \"60\", \"Growth\": -1.4925785295132887, \"Party\": \"Rep\"}, {\"Democrat\": true, \"Percentile\": \"60\", \"Growth\": -1.4129561820236058, \"Party\": \"Dem\"}, {\"Democrat\": true, \"Percentile\": \"60\", \"Growth\": -2.9153286022016944, \"Party\": \"Dem\"}, {\"Democrat\": true, \"Percentile\": \"60\", \"Growth\": 1.2660091270425333, \"Party\": \"Dem\"}, {\"Democrat\": true, \"Percentile\": \"60\", \"Growth\": 2.377103085438703, \"Party\": \"Dem\"}, {\"Democrat\": false, \"Percentile\": \"60\", \"Growth\": 2.4709383950132002, \"Party\": \"Rep\"}, {\"Democrat\": false, \"Percentile\": \"60\", \"Growth\": 2.7509701244933016, \"Party\": \"Rep\"}, {\"Democrat\": false, \"Percentile\": \"60\", \"Growth\": -1.9449473803326955, \"Party\": \"Rep\"}, {\"Democrat\": false, \"Percentile\": \"60\", \"Growth\": -2.0898829720933487, \"Party\": \"Rep\"}, {\"Democrat\": false, \"Percentile\": \"60\", \"Growth\": 2.491128459900649, \"Party\": \"Rep\"}, {\"Democrat\": false, \"Percentile\": \"60\", \"Growth\": 5.536746861611297, \"Party\": \"Rep\"}, {\"Democrat\": false, \"Percentile\": \"60\", \"Growth\": 0.27037582239313185, \"Party\": \"Rep\"}, {\"Democrat\": false, \"Percentile\": \"60\", \"Growth\": -0.29055835130601393, \"Party\": \"Rep\"}, {\"Democrat\": true, \"Percentile\": \"60\", \"Growth\": 3.8043562755554206, \"Party\": \"Dem\"}, {\"Democrat\": true, \"Percentile\": \"60\", \"Growth\": 5.960166713342008, \"Party\": \"Dem\"}, {\"Democrat\": true, \"Percentile\": \"60\", \"Growth\": 2.428118250539968, \"Party\": \"Dem\"}, {\"Democrat\": true, \"Percentile\": \"60\", \"Growth\": 5.27026306908005, \"Party\": \"Dem\"}, {\"Democrat\": true, \"Percentile\": \"60\", \"Growth\": 3.870920127677624, \"Party\": \"Dem\"}, {\"Democrat\": true, \"Percentile\": \"60\", \"Growth\": 3.7182333129210043, \"Party\": \"Dem\"}, {\"Democrat\": true, \"Percentile\": \"60\", \"Growth\": 3.483375250014853, \"Party\": \"Dem\"}, {\"Democrat\": true, \"Percentile\": \"60\", \"Growth\": 2.6361788617886184, \"Party\": \"Dem\"}, {\"Democrat\": false, \"Percentile\": \"60\", \"Growth\": 2.0535158680771604, \"Party\": \"Rep\"}, {\"Democrat\": false, \"Percentile\": \"60\", \"Growth\": 2.9688167449807734, \"Party\": \"Rep\"}, {\"Democrat\": false, \"Percentile\": \"60\", \"Growth\": 5.440951265651739, \"Party\": \"Rep\"}, {\"Democrat\": false, \"Percentile\": \"60\", \"Growth\": -0.48854824974228217, \"Party\": \"Rep\"}, {\"Democrat\": false, \"Percentile\": \"60\", \"Growth\": -0.49061148030864477, \"Party\": \"Rep\"}, {\"Democrat\": false, \"Percentile\": \"60\", \"Growth\": 5.4634398739387136, \"Party\": \"Rep\"}, {\"Democrat\": false, \"Percentile\": \"60\", \"Growth\": 6.545217630992051, \"Party\": \"Rep\"}, {\"Democrat\": false, \"Percentile\": \"60\", \"Growth\": -2.5136798905608715, \"Party\": \"Rep\"}, {\"Democrat\": true, \"Percentile\": \"60\", \"Growth\": 7.6866417635607975, \"Party\": \"Dem\"}, {\"Democrat\": true, \"Percentile\": \"60\", \"Growth\": 4.753506572239519, \"Party\": \"Dem\"}, {\"Democrat\": true, \"Percentile\": \"60\", \"Growth\": 2.6998726475166324, \"Party\": \"Dem\"}, {\"Democrat\": true, \"Percentile\": \"60\", \"Growth\": 5.569000029876614, \"Party\": \"Dem\"}, {\"Democrat\": true, \"Percentile\": \"60\", \"Growth\": -0.8942054303733737, \"Party\": \"Dem\"}, {\"Democrat\": true, \"Percentile\": \"60\", \"Growth\": -2.9483605850742833, \"Party\": \"Dem\"}, {\"Democrat\": null, \"Percentile\": \"60\", \"Growth\": null, \"Party\": \"Rep\"}, {\"Democrat\": false, \"Percentile\": \"80\", \"Growth\": 7.91235106682282, \"Party\": \"Rep\"}, {\"Democrat\": false, \"Percentile\": \"80\", \"Growth\": 0.023887356389540315, \"Party\": \"Rep\"}, {\"Democrat\": true, \"Percentile\": \"80\", \"Growth\": 2.7637852997155266, \"Party\": \"Dem\"}, {\"Democrat\": true, \"Percentile\": \"80\", \"Growth\": 3.194575537171729, \"Party\": \"Dem\"}, {\"Democrat\": true, \"Percentile\": \"80\", \"Growth\": 3.3251823221059684, \"Party\": \"Dem\"}, {\"Democrat\": true, \"Percentile\": \"80\", \"Growth\": 2.5518270934909992, \"Party\": \"Dem\"}, {\"Democrat\": true, \"Percentile\": \"80\", \"Growth\": 2.432355068096892, \"Party\": \"Dem\"}, {\"Democrat\": true, \"Percentile\": \"80\", \"Growth\": 0.5750304940413509, \"Party\": \"Dem\"}, {\"Democrat\": true, \"Percentile\": \"80\", \"Growth\": -0.9827235696120873, \"Party\": \"Dem\"}, {\"Democrat\": true, \"Percentile\": \"80\", \"Growth\": -0.8361415489447799, \"Party\": \"Dem\"}, {\"Democrat\": false, \"Percentile\": \"80\", \"Growth\": -0.2404434846494663, \"Party\": \"Rep\"}, {\"Democrat\": false, \"Percentile\": \"80\", \"Growth\": -3.2141984974070947, \"Party\": \"Rep\"}, {\"Democrat\": false, \"Percentile\": \"80\", \"Growth\": 0.3495722245046462, \"Party\": \"Rep\"}, {\"Democrat\": false, \"Percentile\": \"80\", \"Growth\": 2.543995151479317, \"Party\": \"Rep\"}, {\"Democrat\": false, \"Percentile\": \"80\", \"Growth\": -0.2778678616704555, \"Party\": \"Rep\"}, {\"Democrat\": false, \"Percentile\": \"80\", \"Growth\": -0.8455562620128143, \"Party\": \"Rep\"}, {\"Democrat\": false, \"Percentile\": \"80\", \"Growth\": 1.6408664131209783, \"Party\": \"Rep\"}, {\"Democrat\": false, \"Percentile\": \"80\", \"Growth\": -1.2180446714214477, \"Party\": \"Rep\"}, {\"Democrat\": true, \"Percentile\": \"80\", \"Growth\": 0.18598701766510128, \"Party\": \"Dem\"}, {\"Democrat\": true, \"Percentile\": \"80\", \"Growth\": 0.3881775580236946, \"Party\": \"Dem\"}, {\"Democrat\": true, \"Percentile\": \"80\", \"Growth\": 2.9931517781814687, \"Party\": \"Dem\"}, {\"Democrat\": true, \"Percentile\": \"80\", \"Growth\": 3.218138312477925, \"Party\": \"Dem\"}, {\"Democrat\": true, \"Percentile\": \"80\", \"Growth\": 3.9715814545335792, \"Party\": \"Dem\"}, {\"Democrat\": true, \"Percentile\": \"80\", \"Growth\": 1.5254153071533771, \"Party\": \"Dem\"}, {\"Democrat\": true, \"Percentile\": \"80\", \"Growth\": 0.8030586349672797, \"Party\": \"Dem\"}, {\"Democrat\": true, \"Percentile\": \"80\", \"Growth\": 2.653047233838346, \"Party\": \"Dem\"}, {\"Democrat\": false, \"Percentile\": \"80\", \"Growth\": 1.719794635774874, \"Party\": \"Rep\"}, {\"Democrat\": false, \"Percentile\": \"80\", \"Growth\": -0.7861145703611405, \"Party\": \"Rep\"}, {\"Democrat\": false, \"Percentile\": \"80\", \"Growth\": -1.1548686561295263, \"Party\": \"Rep\"}, {\"Democrat\": false, \"Percentile\": \"80\", \"Growth\": -1.5948990149648012, \"Party\": \"Rep\"}, {\"Democrat\": false, \"Percentile\": \"80\", \"Growth\": 2.0560763710037344, \"Party\": \"Rep\"}, {\"Democrat\": false, \"Percentile\": \"80\", \"Growth\": 1.1760618431338576, \"Party\": \"Rep\"}, {\"Democrat\": false, \"Percentile\": \"80\", \"Growth\": 1.9499149900821688, \"Party\": \"Rep\"}, {\"Democrat\": false, \"Percentile\": \"80\", \"Growth\": 3.0505999908746695, \"Party\": \"Rep\"}, {\"Democrat\": false, \"Percentile\": \"80\", \"Growth\": 2.3374610111876803, \"Party\": \"Rep\"}, {\"Democrat\": false, \"Percentile\": \"80\", \"Growth\": 3.7867700508844138, \"Party\": \"Rep\"}, {\"Democrat\": false, \"Percentile\": \"80\", \"Growth\": 0.7942400500185576, \"Party\": \"Rep\"}, {\"Democrat\": false, \"Percentile\": \"80\", \"Growth\": 0.04789225220647175, \"Party\": \"Rep\"}, {\"Democrat\": true, \"Percentile\": \"80\", \"Growth\": -0.7498593407446186, \"Party\": \"Dem\"}, {\"Democrat\": true, \"Percentile\": \"80\", \"Growth\": -1.064350496664912, \"Party\": \"Dem\"}, {\"Democrat\": true, \"Percentile\": \"80\", \"Growth\": 0.3206177427740764, \"Party\": \"Dem\"}, {\"Democrat\": true, \"Percentile\": \"80\", \"Growth\": 3.2795035996977084, \"Party\": \"Dem\"}, {\"Democrat\": false, \"Percentile\": \"80\", \"Growth\": 2.2272371484045372, \"Party\": \"Rep\"}, {\"Democrat\": false, \"Percentile\": \"80\", \"Growth\": 2.4942956271684524, \"Party\": \"Rep\"}, {\"Democrat\": false, \"Percentile\": \"80\", \"Growth\": -1.7172523961661357, \"Party\": \"Rep\"}, {\"Democrat\": false, \"Percentile\": \"80\", \"Growth\": -1.653608330479972, \"Party\": \"Rep\"}, {\"Democrat\": false, \"Percentile\": \"80\", \"Growth\": 2.020938858123311, \"Party\": \"Rep\"}, {\"Democrat\": false, \"Percentile\": \"80\", \"Growth\": 6.320388879785899, \"Party\": \"Rep\"}, {\"Democrat\": false, \"Percentile\": \"80\", \"Growth\": 0.03934039274824386, \"Party\": \"Rep\"}, {\"Democrat\": false, \"Percentile\": \"80\", \"Growth\": 0.3443171226492625, \"Party\": \"Rep\"}, {\"Democrat\": true, \"Percentile\": \"80\", \"Growth\": 5.382668685071135, \"Party\": \"Dem\"}, {\"Democrat\": true, \"Percentile\": \"80\", \"Growth\": 3.987070260397263, \"Party\": \"Dem\"}, {\"Democrat\": true, \"Percentile\": \"80\", \"Growth\": 3.3006454816286057, \"Party\": \"Dem\"}, {\"Democrat\": true, \"Percentile\": \"80\", \"Growth\": 4.805765878281676, \"Party\": \"Dem\"}, {\"Democrat\": true, \"Percentile\": \"80\", \"Growth\": 4.27174193198312, \"Party\": \"Dem\"}, {\"Democrat\": true, \"Percentile\": \"80\", \"Growth\": 0.9517679603407103, \"Party\": \"Dem\"}, {\"Democrat\": true, \"Percentile\": \"80\", \"Growth\": 3.508299431584616, \"Party\": \"Dem\"}, {\"Democrat\": true, \"Percentile\": \"80\", \"Growth\": 4.109973141288625, \"Party\": \"Dem\"}, {\"Democrat\": false, \"Percentile\": \"80\", \"Growth\": 1.6470658826353013, \"Party\": \"Rep\"}, {\"Democrat\": false, \"Percentile\": \"80\", \"Growth\": 3.3213992343578136, \"Party\": \"Rep\"}, {\"Democrat\": false, \"Percentile\": \"80\", \"Growth\": 6.556456540767286, \"Party\": \"Rep\"}, {\"Democrat\": false, \"Percentile\": \"80\", \"Growth\": 1.1459116345109877, \"Party\": \"Rep\"}, {\"Democrat\": false, \"Percentile\": \"80\", \"Growth\": -1.5378289473684248, \"Party\": \"Rep\"}, {\"Democrat\": false, \"Percentile\": \"80\", \"Growth\": 5.57755087865528, \"Party\": \"Rep\"}, {\"Democrat\": false, \"Percentile\": \"80\", \"Growth\": 5.325919964884052, \"Party\": \"Rep\"}, {\"Democrat\": false, \"Percentile\": \"80\", \"Growth\": -0.8235080718302146, \"Party\": \"Rep\"}, {\"Democrat\": true, \"Percentile\": \"80\", \"Growth\": 7.2234323945853385, \"Party\": \"Dem\"}, {\"Democrat\": true, \"Percentile\": \"80\", \"Growth\": 3.770081537095349, \"Party\": \"Dem\"}, {\"Democrat\": true, \"Percentile\": \"80\", \"Growth\": 0.8877667372536147, \"Party\": \"Dem\"}, {\"Democrat\": true, \"Percentile\": \"80\", \"Growth\": 3.835257304748607, \"Party\": \"Dem\"}, {\"Democrat\": true, \"Percentile\": \"80\", \"Growth\": 0.3905420894001699, \"Party\": \"Dem\"}, {\"Democrat\": true, \"Percentile\": \"80\", \"Growth\": -4.583105494460982, \"Party\": \"Dem\"}, {\"Democrat\": null, \"Percentile\": \"80\", \"Growth\": null, \"Party\": \"Rep\"}, {\"Democrat\": false, \"Percentile\": \"95\", \"Growth\": 6.983492731244212, \"Party\": \"Rep\"}, {\"Democrat\": false, \"Percentile\": \"95\", \"Growth\": 2.085891773492765, \"Party\": \"Rep\"}, {\"Democrat\": true, \"Percentile\": \"95\", \"Growth\": 4.068728933266574, \"Party\": \"Dem\"}, {\"Democrat\": true, \"Percentile\": \"95\", \"Growth\": 3.67790352138051, \"Party\": \"Dem\"}, {\"Democrat\": true, \"Percentile\": \"95\", \"Growth\": 3.8024725120046288, \"Party\": \"Dem\"}, {\"Democrat\": true, \"Percentile\": \"95\", \"Growth\": 2.2217928505505746, \"Party\": \"Dem\"}, {\"Democrat\": true, \"Percentile\": \"95\", \"Growth\": 3.834300178855754, \"Party\": \"Dem\"}, {\"Democrat\": true, \"Percentile\": \"95\", \"Growth\": 0.21688911704311753, \"Party\": \"Dem\"}, {\"Democrat\": true, \"Percentile\": \"95\", \"Growth\": -0.6350582774363067, \"Party\": \"Dem\"}, {\"Democrat\": true, \"Percentile\": \"95\", \"Growth\": -1.5245127586899776, \"Party\": \"Dem\"}, {\"Democrat\": false, \"Percentile\": \"95\", \"Growth\": 0.349064331170057, \"Party\": \"Rep\"}, {\"Democrat\": false, \"Percentile\": \"95\", \"Growth\": -2.339519543172197, \"Party\": \"Rep\"}, {\"Democrat\": false, \"Percentile\": \"95\", \"Growth\": 0.37553117897024535, \"Party\": \"Rep\"}, {\"Democrat\": false, \"Percentile\": \"95\", \"Growth\": 0.3039814967784604, \"Party\": \"Rep\"}, {\"Democrat\": false, \"Percentile\": \"95\", \"Growth\": 2.773073217112998, \"Party\": \"Rep\"}, {\"Democrat\": false, \"Percentile\": \"95\", \"Growth\": -0.5936859160991403, \"Party\": \"Rep\"}, {\"Democrat\": false, \"Percentile\": \"95\", \"Growth\": 1.2059614809753594, \"Party\": \"Rep\"}, {\"Democrat\": false, \"Percentile\": \"95\", \"Growth\": -1.4203684370053593, \"Party\": \"Rep\"}, {\"Democrat\": true, \"Percentile\": \"95\", \"Growth\": -0.3490284256804421, \"Party\": \"Dem\"}, {\"Democrat\": true, \"Percentile\": \"95\", \"Growth\": -0.09974268064740777, \"Party\": \"Dem\"}, {\"Democrat\": true, \"Percentile\": \"95\", \"Growth\": 4.537887284452546, \"Party\": \"Dem\"}, {\"Democrat\": true, \"Percentile\": \"95\", \"Growth\": 4.5075568538214705, \"Party\": \"Dem\"}, {\"Democrat\": true, \"Percentile\": \"95\", \"Growth\": 4.827384294922554, \"Party\": \"Dem\"}, {\"Democrat\": true, \"Percentile\": \"95\", \"Growth\": 0.8280020518578013, \"Party\": \"Dem\"}, {\"Democrat\": true, \"Percentile\": \"95\", \"Growth\": 0.5865545154962293, \"Party\": \"Dem\"}, {\"Democrat\": true, \"Percentile\": \"95\", \"Growth\": 3.8924850814200385, \"Party\": \"Dem\"}, {\"Democrat\": false, \"Percentile\": \"95\", \"Growth\": 4.137262749889414, \"Party\": \"Rep\"}, {\"Democrat\": false, \"Percentile\": \"95\", \"Growth\": 0.5991957743717968, \"Party\": \"Rep\"}, {\"Democrat\": false, \"Percentile\": \"95\", \"Growth\": -3.071369149711911, \"Party\": \"Rep\"}, {\"Democrat\": false, \"Percentile\": \"95\", \"Growth\": -1.4299525711306549, \"Party\": \"Rep\"}, {\"Democrat\": false, \"Percentile\": \"95\", \"Growth\": 3.0617142260942254, \"Party\": \"Rep\"}, {\"Democrat\": false, \"Percentile\": \"95\", \"Growth\": 2.121380015769181, \"Party\": \"Rep\"}, {\"Democrat\": false, \"Percentile\": \"95\", \"Growth\": 0.7882302405498365, \"Party\": \"Rep\"}, {\"Democrat\": false, \"Percentile\": \"95\", \"Growth\": 3.7994014145343646, \"Party\": \"Rep\"}, {\"Democrat\": false, \"Percentile\": \"95\", \"Growth\": 2.3379571536127353, \"Party\": \"Rep\"}, {\"Democrat\": false, \"Percentile\": \"95\", \"Growth\": 3.2532391048292197, \"Party\": \"Rep\"}, {\"Democrat\": false, \"Percentile\": \"95\", \"Growth\": 1.8510742949002568, \"Party\": \"Rep\"}, {\"Democrat\": false, \"Percentile\": \"95\", \"Growth\": 2.669680192635737, \"Party\": \"Rep\"}, {\"Democrat\": true, \"Percentile\": \"95\", \"Growth\": -0.3339000632200495, \"Party\": \"Dem\"}, {\"Democrat\": true, \"Percentile\": \"95\", \"Growth\": -2.5317818790942526, \"Party\": \"Dem\"}, {\"Democrat\": true, \"Percentile\": \"95\", \"Growth\": 1.5121610542616848, \"Party\": \"Dem\"}, {\"Democrat\": true, \"Percentile\": \"95\", \"Growth\": 3.3367221427316407, \"Party\": \"Dem\"}, {\"Democrat\": false, \"Percentile\": \"95\", \"Growth\": 3.0611518934126725, \"Party\": \"Rep\"}, {\"Democrat\": false, \"Percentile\": \"95\", \"Growth\": 2.8435546095516795, \"Party\": \"Rep\"}, {\"Democrat\": false, \"Percentile\": \"95\", \"Growth\": -1.9852006389151522, \"Party\": \"Rep\"}, {\"Democrat\": false, \"Percentile\": \"95\", \"Growth\": -0.9160029198400532, \"Party\": \"Rep\"}, {\"Democrat\": false, \"Percentile\": \"95\", \"Growth\": 1.4762276222378024, \"Party\": \"Rep\"}, {\"Democrat\": false, \"Percentile\": \"95\", \"Growth\": 6.715587858776773, \"Party\": \"Rep\"}, {\"Democrat\": false, \"Percentile\": \"95\", \"Growth\": 0.04899181836632849, \"Party\": \"Rep\"}, {\"Democrat\": false, \"Percentile\": \"95\", \"Growth\": 1.798996836615463, \"Party\": \"Rep\"}, {\"Democrat\": true, \"Percentile\": \"95\", \"Growth\": 5.554636384146794, \"Party\": \"Dem\"}, {\"Democrat\": true, \"Percentile\": \"95\", \"Growth\": -0.5571551434020106, \"Party\": \"Dem\"}, {\"Democrat\": true, \"Percentile\": \"95\", \"Growth\": 7.335222392576468, \"Party\": \"Dem\"}, {\"Democrat\": true, \"Percentile\": \"95\", \"Growth\": 4.843379172207163, \"Party\": \"Dem\"}, {\"Democrat\": true, \"Percentile\": \"95\", \"Growth\": 4.145777092171232, \"Party\": \"Dem\"}, {\"Democrat\": true, \"Percentile\": \"95\", \"Growth\": 2.852300591374579, \"Party\": \"Dem\"}, {\"Democrat\": true, \"Percentile\": \"95\", \"Growth\": 0.25305473212349217, \"Party\": \"Dem\"}, {\"Democrat\": true, \"Percentile\": \"95\", \"Growth\": 1.0484018264840245, \"Party\": \"Dem\"}, {\"Democrat\": false, \"Percentile\": \"95\", \"Growth\": 6.786553671214435, \"Party\": \"Rep\"}, {\"Democrat\": false, \"Percentile\": \"95\", \"Growth\": 4.047609383878559, \"Party\": \"Rep\"}, {\"Democrat\": false, \"Percentile\": \"95\", \"Growth\": 5.793569856690461, \"Party\": \"Rep\"}, {\"Democrat\": false, \"Percentile\": \"95\", \"Growth\": 1.6044238907552133, \"Party\": \"Rep\"}, {\"Democrat\": false, \"Percentile\": \"95\", \"Growth\": -2.703964682910265, \"Party\": \"Rep\"}, {\"Democrat\": false, \"Percentile\": \"95\", \"Growth\": 6.203227842394732, \"Party\": \"Rep\"}, {\"Democrat\": false, \"Percentile\": \"95\", \"Growth\": 2.4040625541000615, \"Party\": \"Rep\"}, {\"Democrat\": false, \"Percentile\": \"95\", \"Growth\": 1.0578739881965893, \"Party\": \"Rep\"}, {\"Democrat\": true, \"Percentile\": \"95\", \"Growth\": 7.177858892944644, \"Party\": \"Dem\"}, {\"Democrat\": true, \"Percentile\": \"95\", \"Growth\": 3.0185957863287483, \"Party\": \"Dem\"}, {\"Democrat\": true, \"Percentile\": \"95\", \"Growth\": -3.041654180401554, \"Party\": \"Dem\"}, {\"Democrat\": true, \"Percentile\": \"95\", \"Growth\": 5.488599992097054, \"Party\": \"Dem\"}, {\"Democrat\": true, \"Percentile\": \"95\", \"Growth\": -1.0440290920466055, \"Party\": \"Dem\"}, {\"Democrat\": true, \"Percentile\": \"95\", \"Growth\": -5.3317374726996825, \"Party\": \"Dem\"}, {\"Democrat\": null, \"Percentile\": \"95\", \"Growth\": null, \"Party\": \"Rep\"}]}}, {\"mode\": \"vega-lite\"});\n",
       "</script>"
      ],
      "text/plain": [
       "alt.Chart(...)"
      ]
     },
     "execution_count": 21,
     "metadata": {},
     "output_type": "execute_result"
    }
   ],
   "source": [
    "chart_lag = alt.Chart(df_lag).mark_bar().encode(\n",
    "    alt.X('Party', title = \"\"),\n",
    "    alt.Y('mean(Growth)', title = \"Percent Growth\"),\n",
    "    color = alt.Color('Party', scale = alt.Scale(domain = domain, range = range_)),\n",
    "    column = 'Percentile'\n",
    ").properties(\n",
    "    title = 'Avg Annual Income Growth, 1947-2019, 1 year lag'\n",
    ")\n",
    "chart_lag"
   ]
  },
  {
   "cell_type": "markdown",
   "metadata": {},
   "source": [
    "I got the idea for this analysis from Larry Bartel's book _Unequal Democracy_. If you're interested, it's also worth checking out Blinder and Watson's paper on how economic performance has varied by president. https://www.princeton.edu/~mwatson/papers/Presidents_Blinder_Watson_Nov2013.pdf"
   ]
  },
  {
   "cell_type": "markdown",
   "metadata": {},
   "source": [
    "# Graphing with Plotly\n",
    "\n",
    "Plotly is a popular graphing library, and while I like Altair, Plotly is probably more widely used, so I'm going to recreate the above graphs using Plotly. (Working with it a little more though, the Python interface to Plotly is not as good as the R one. I'll leave this here, but I think I recommend learning Altair. "
   ]
  },
  {
   "cell_type": "code",
   "execution_count": 22,
   "metadata": {},
   "outputs": [],
   "source": [
    "import plotly.express as px"
   ]
  },
  {
   "cell_type": "code",
   "execution_count": 28,
   "metadata": {},
   "outputs": [
    {
     "data": {
      "text/html": [
       "<div>\n",
       "<style scoped>\n",
       "    .dataframe tbody tr th:only-of-type {\n",
       "        vertical-align: middle;\n",
       "    }\n",
       "\n",
       "    .dataframe tbody tr th {\n",
       "        vertical-align: top;\n",
       "    }\n",
       "\n",
       "    .dataframe thead th {\n",
       "        text-align: right;\n",
       "    }\n",
       "</style>\n",
       "<table border=\"1\" class=\"dataframe\">\n",
       "  <thead>\n",
       "    <tr style=\"text-align: right;\">\n",
       "      <th></th>\n",
       "      <th>Party</th>\n",
       "      <th>Percentile</th>\n",
       "      <th>Democrat</th>\n",
       "      <th>Growth</th>\n",
       "    </tr>\n",
       "  </thead>\n",
       "  <tbody>\n",
       "    <tr>\n",
       "      <th>0</th>\n",
       "      <td>Dem</td>\n",
       "      <td>20</td>\n",
       "      <td>1.0</td>\n",
       "      <td>2.021424</td>\n",
       "    </tr>\n",
       "    <tr>\n",
       "      <th>1</th>\n",
       "      <td>Dem</td>\n",
       "      <td>40</td>\n",
       "      <td>1.0</td>\n",
       "      <td>1.704768</td>\n",
       "    </tr>\n",
       "    <tr>\n",
       "      <th>2</th>\n",
       "      <td>Dem</td>\n",
       "      <td>60</td>\n",
       "      <td>1.0</td>\n",
       "      <td>1.933915</td>\n",
       "    </tr>\n",
       "    <tr>\n",
       "      <th>3</th>\n",
       "      <td>Dem</td>\n",
       "      <td>80</td>\n",
       "      <td>1.0</td>\n",
       "      <td>1.907209</td>\n",
       "    </tr>\n",
       "    <tr>\n",
       "      <th>4</th>\n",
       "      <td>Dem</td>\n",
       "      <td>95</td>\n",
       "      <td>1.0</td>\n",
       "      <td>2.010176</td>\n",
       "    </tr>\n",
       "  </tbody>\n",
       "</table>\n",
       "</div>"
      ],
      "text/plain": [
       "  Party Percentile  Democrat    Growth\n",
       "0   Dem         20       1.0  2.021424\n",
       "1   Dem         40       1.0  1.704768\n",
       "2   Dem         60       1.0  1.933915\n",
       "3   Dem         80       1.0  1.907209\n",
       "4   Dem         95       1.0  2.010176"
      ]
     },
     "execution_count": 28,
     "metadata": {},
     "output_type": "execute_result"
    }
   ],
   "source": [
    "# Altair let us take the mean of growth within the plot itself. For Plotly We'll need to set up a bit more first. \n",
    "df_plot = df.groupby(['Party', 'Percentile']).mean()\n",
    "df_plot = df_plot.reset_index() #Essentially undoing the groupby and gettig us back to the type of dataframe plotly expects. \n",
    "df_plot.head()"
   ]
  },
  {
   "cell_type": "code",
   "execution_count": 29,
   "metadata": {},
   "outputs": [
    {
     "data": {
      "application/vnd.plotly.v1+json": {
       "config": {
        "plotlyServerURL": "https://plot.ly"
       },
       "data": [
        {
         "alignmentgroup": "True",
         "hovertemplate": "Party=Dem<br>Percentile=%{x}<br>Growth=%{y}<extra></extra>",
         "legendgroup": "Dem",
         "marker": {
          "color": "#636efa",
          "pattern": {
           "shape": ""
          }
         },
         "name": "Dem",
         "offsetgroup": "Dem",
         "orientation": "v",
         "showlegend": true,
         "textposition": "auto",
         "type": "bar",
         "x": [
          "20",
          "40",
          "60",
          "80",
          "95"
         ],
         "xaxis": "x",
         "y": [
          2.0214241003458557,
          1.7047675894344574,
          1.9339151486397552,
          1.90720930191028,
          2.0101758850130333
         ],
         "yaxis": "y"
        },
        {
         "alignmentgroup": "True",
         "hovertemplate": "Party=Rep<br>Percentile=%{x}<br>Growth=%{y}<extra></extra>",
         "legendgroup": "Rep",
         "marker": {
          "color": "#EF553B",
          "pattern": {
           "shape": ""
          }
         },
         "name": "Rep",
         "offsetgroup": "Rep",
         "orientation": "v",
         "showlegend": true,
         "textposition": "auto",
         "type": "bar",
         "x": [
          "20",
          "40",
          "60",
          "80",
          "95"
         ],
         "xaxis": "x",
         "y": [
          0.7950514665085552,
          1.1866857044633419,
          1.279552365163345,
          1.5589352482523051,
          1.791337497951483
         ],
         "yaxis": "y"
        }
       ],
       "layout": {
        "autosize": true,
        "barmode": "group",
        "legend": {
         "title": {
          "text": "Party"
         },
         "tracegroupgap": 0
        },
        "margin": {
         "t": 60
        },
        "template": {
         "data": {
          "bar": [
           {
            "error_x": {
             "color": "#2a3f5f"
            },
            "error_y": {
             "color": "#2a3f5f"
            },
            "marker": {
             "line": {
              "color": "#E5ECF6",
              "width": 0.5
             },
             "pattern": {
              "fillmode": "overlay",
              "size": 10,
              "solidity": 0.2
             }
            },
            "type": "bar"
           }
          ],
          "barpolar": [
           {
            "marker": {
             "line": {
              "color": "#E5ECF6",
              "width": 0.5
             },
             "pattern": {
              "fillmode": "overlay",
              "size": 10,
              "solidity": 0.2
             }
            },
            "type": "barpolar"
           }
          ],
          "carpet": [
           {
            "aaxis": {
             "endlinecolor": "#2a3f5f",
             "gridcolor": "white",
             "linecolor": "white",
             "minorgridcolor": "white",
             "startlinecolor": "#2a3f5f"
            },
            "baxis": {
             "endlinecolor": "#2a3f5f",
             "gridcolor": "white",
             "linecolor": "white",
             "minorgridcolor": "white",
             "startlinecolor": "#2a3f5f"
            },
            "type": "carpet"
           }
          ],
          "choropleth": [
           {
            "colorbar": {
             "outlinewidth": 0,
             "ticks": ""
            },
            "type": "choropleth"
           }
          ],
          "contour": [
           {
            "colorbar": {
             "outlinewidth": 0,
             "ticks": ""
            },
            "colorscale": [
             [
              0,
              "#0d0887"
             ],
             [
              0.1111111111111111,
              "#46039f"
             ],
             [
              0.2222222222222222,
              "#7201a8"
             ],
             [
              0.3333333333333333,
              "#9c179e"
             ],
             [
              0.4444444444444444,
              "#bd3786"
             ],
             [
              0.5555555555555556,
              "#d8576b"
             ],
             [
              0.6666666666666666,
              "#ed7953"
             ],
             [
              0.7777777777777778,
              "#fb9f3a"
             ],
             [
              0.8888888888888888,
              "#fdca26"
             ],
             [
              1,
              "#f0f921"
             ]
            ],
            "type": "contour"
           }
          ],
          "contourcarpet": [
           {
            "colorbar": {
             "outlinewidth": 0,
             "ticks": ""
            },
            "type": "contourcarpet"
           }
          ],
          "heatmap": [
           {
            "colorbar": {
             "outlinewidth": 0,
             "ticks": ""
            },
            "colorscale": [
             [
              0,
              "#0d0887"
             ],
             [
              0.1111111111111111,
              "#46039f"
             ],
             [
              0.2222222222222222,
              "#7201a8"
             ],
             [
              0.3333333333333333,
              "#9c179e"
             ],
             [
              0.4444444444444444,
              "#bd3786"
             ],
             [
              0.5555555555555556,
              "#d8576b"
             ],
             [
              0.6666666666666666,
              "#ed7953"
             ],
             [
              0.7777777777777778,
              "#fb9f3a"
             ],
             [
              0.8888888888888888,
              "#fdca26"
             ],
             [
              1,
              "#f0f921"
             ]
            ],
            "type": "heatmap"
           }
          ],
          "heatmapgl": [
           {
            "colorbar": {
             "outlinewidth": 0,
             "ticks": ""
            },
            "colorscale": [
             [
              0,
              "#0d0887"
             ],
             [
              0.1111111111111111,
              "#46039f"
             ],
             [
              0.2222222222222222,
              "#7201a8"
             ],
             [
              0.3333333333333333,
              "#9c179e"
             ],
             [
              0.4444444444444444,
              "#bd3786"
             ],
             [
              0.5555555555555556,
              "#d8576b"
             ],
             [
              0.6666666666666666,
              "#ed7953"
             ],
             [
              0.7777777777777778,
              "#fb9f3a"
             ],
             [
              0.8888888888888888,
              "#fdca26"
             ],
             [
              1,
              "#f0f921"
             ]
            ],
            "type": "heatmapgl"
           }
          ],
          "histogram": [
           {
            "marker": {
             "pattern": {
              "fillmode": "overlay",
              "size": 10,
              "solidity": 0.2
             }
            },
            "type": "histogram"
           }
          ],
          "histogram2d": [
           {
            "colorbar": {
             "outlinewidth": 0,
             "ticks": ""
            },
            "colorscale": [
             [
              0,
              "#0d0887"
             ],
             [
              0.1111111111111111,
              "#46039f"
             ],
             [
              0.2222222222222222,
              "#7201a8"
             ],
             [
              0.3333333333333333,
              "#9c179e"
             ],
             [
              0.4444444444444444,
              "#bd3786"
             ],
             [
              0.5555555555555556,
              "#d8576b"
             ],
             [
              0.6666666666666666,
              "#ed7953"
             ],
             [
              0.7777777777777778,
              "#fb9f3a"
             ],
             [
              0.8888888888888888,
              "#fdca26"
             ],
             [
              1,
              "#f0f921"
             ]
            ],
            "type": "histogram2d"
           }
          ],
          "histogram2dcontour": [
           {
            "colorbar": {
             "outlinewidth": 0,
             "ticks": ""
            },
            "colorscale": [
             [
              0,
              "#0d0887"
             ],
             [
              0.1111111111111111,
              "#46039f"
             ],
             [
              0.2222222222222222,
              "#7201a8"
             ],
             [
              0.3333333333333333,
              "#9c179e"
             ],
             [
              0.4444444444444444,
              "#bd3786"
             ],
             [
              0.5555555555555556,
              "#d8576b"
             ],
             [
              0.6666666666666666,
              "#ed7953"
             ],
             [
              0.7777777777777778,
              "#fb9f3a"
             ],
             [
              0.8888888888888888,
              "#fdca26"
             ],
             [
              1,
              "#f0f921"
             ]
            ],
            "type": "histogram2dcontour"
           }
          ],
          "mesh3d": [
           {
            "colorbar": {
             "outlinewidth": 0,
             "ticks": ""
            },
            "type": "mesh3d"
           }
          ],
          "parcoords": [
           {
            "line": {
             "colorbar": {
              "outlinewidth": 0,
              "ticks": ""
             }
            },
            "type": "parcoords"
           }
          ],
          "pie": [
           {
            "automargin": true,
            "type": "pie"
           }
          ],
          "scatter": [
           {
            "marker": {
             "colorbar": {
              "outlinewidth": 0,
              "ticks": ""
             }
            },
            "type": "scatter"
           }
          ],
          "scatter3d": [
           {
            "line": {
             "colorbar": {
              "outlinewidth": 0,
              "ticks": ""
             }
            },
            "marker": {
             "colorbar": {
              "outlinewidth": 0,
              "ticks": ""
             }
            },
            "type": "scatter3d"
           }
          ],
          "scattercarpet": [
           {
            "marker": {
             "colorbar": {
              "outlinewidth": 0,
              "ticks": ""
             }
            },
            "type": "scattercarpet"
           }
          ],
          "scattergeo": [
           {
            "marker": {
             "colorbar": {
              "outlinewidth": 0,
              "ticks": ""
             }
            },
            "type": "scattergeo"
           }
          ],
          "scattergl": [
           {
            "marker": {
             "colorbar": {
              "outlinewidth": 0,
              "ticks": ""
             }
            },
            "type": "scattergl"
           }
          ],
          "scattermapbox": [
           {
            "marker": {
             "colorbar": {
              "outlinewidth": 0,
              "ticks": ""
             }
            },
            "type": "scattermapbox"
           }
          ],
          "scatterpolar": [
           {
            "marker": {
             "colorbar": {
              "outlinewidth": 0,
              "ticks": ""
             }
            },
            "type": "scatterpolar"
           }
          ],
          "scatterpolargl": [
           {
            "marker": {
             "colorbar": {
              "outlinewidth": 0,
              "ticks": ""
             }
            },
            "type": "scatterpolargl"
           }
          ],
          "scatterternary": [
           {
            "marker": {
             "colorbar": {
              "outlinewidth": 0,
              "ticks": ""
             }
            },
            "type": "scatterternary"
           }
          ],
          "surface": [
           {
            "colorbar": {
             "outlinewidth": 0,
             "ticks": ""
            },
            "colorscale": [
             [
              0,
              "#0d0887"
             ],
             [
              0.1111111111111111,
              "#46039f"
             ],
             [
              0.2222222222222222,
              "#7201a8"
             ],
             [
              0.3333333333333333,
              "#9c179e"
             ],
             [
              0.4444444444444444,
              "#bd3786"
             ],
             [
              0.5555555555555556,
              "#d8576b"
             ],
             [
              0.6666666666666666,
              "#ed7953"
             ],
             [
              0.7777777777777778,
              "#fb9f3a"
             ],
             [
              0.8888888888888888,
              "#fdca26"
             ],
             [
              1,
              "#f0f921"
             ]
            ],
            "type": "surface"
           }
          ],
          "table": [
           {
            "cells": {
             "fill": {
              "color": "#EBF0F8"
             },
             "line": {
              "color": "white"
             }
            },
            "header": {
             "fill": {
              "color": "#C8D4E3"
             },
             "line": {
              "color": "white"
             }
            },
            "type": "table"
           }
          ]
         },
         "layout": {
          "annotationdefaults": {
           "arrowcolor": "#2a3f5f",
           "arrowhead": 0,
           "arrowwidth": 1
          },
          "autotypenumbers": "strict",
          "coloraxis": {
           "colorbar": {
            "outlinewidth": 0,
            "ticks": ""
           }
          },
          "colorscale": {
           "diverging": [
            [
             0,
             "#8e0152"
            ],
            [
             0.1,
             "#c51b7d"
            ],
            [
             0.2,
             "#de77ae"
            ],
            [
             0.3,
             "#f1b6da"
            ],
            [
             0.4,
             "#fde0ef"
            ],
            [
             0.5,
             "#f7f7f7"
            ],
            [
             0.6,
             "#e6f5d0"
            ],
            [
             0.7,
             "#b8e186"
            ],
            [
             0.8,
             "#7fbc41"
            ],
            [
             0.9,
             "#4d9221"
            ],
            [
             1,
             "#276419"
            ]
           ],
           "sequential": [
            [
             0,
             "#0d0887"
            ],
            [
             0.1111111111111111,
             "#46039f"
            ],
            [
             0.2222222222222222,
             "#7201a8"
            ],
            [
             0.3333333333333333,
             "#9c179e"
            ],
            [
             0.4444444444444444,
             "#bd3786"
            ],
            [
             0.5555555555555556,
             "#d8576b"
            ],
            [
             0.6666666666666666,
             "#ed7953"
            ],
            [
             0.7777777777777778,
             "#fb9f3a"
            ],
            [
             0.8888888888888888,
             "#fdca26"
            ],
            [
             1,
             "#f0f921"
            ]
           ],
           "sequentialminus": [
            [
             0,
             "#0d0887"
            ],
            [
             0.1111111111111111,
             "#46039f"
            ],
            [
             0.2222222222222222,
             "#7201a8"
            ],
            [
             0.3333333333333333,
             "#9c179e"
            ],
            [
             0.4444444444444444,
             "#bd3786"
            ],
            [
             0.5555555555555556,
             "#d8576b"
            ],
            [
             0.6666666666666666,
             "#ed7953"
            ],
            [
             0.7777777777777778,
             "#fb9f3a"
            ],
            [
             0.8888888888888888,
             "#fdca26"
            ],
            [
             1,
             "#f0f921"
            ]
           ]
          },
          "colorway": [
           "#636efa",
           "#EF553B",
           "#00cc96",
           "#ab63fa",
           "#FFA15A",
           "#19d3f3",
           "#FF6692",
           "#B6E880",
           "#FF97FF",
           "#FECB52"
          ],
          "font": {
           "color": "#2a3f5f"
          },
          "geo": {
           "bgcolor": "white",
           "lakecolor": "white",
           "landcolor": "#E5ECF6",
           "showlakes": true,
           "showland": true,
           "subunitcolor": "white"
          },
          "hoverlabel": {
           "align": "left"
          },
          "hovermode": "closest",
          "mapbox": {
           "style": "light"
          },
          "paper_bgcolor": "white",
          "plot_bgcolor": "#E5ECF6",
          "polar": {
           "angularaxis": {
            "gridcolor": "white",
            "linecolor": "white",
            "ticks": ""
           },
           "bgcolor": "#E5ECF6",
           "radialaxis": {
            "gridcolor": "white",
            "linecolor": "white",
            "ticks": ""
           }
          },
          "scene": {
           "xaxis": {
            "backgroundcolor": "#E5ECF6",
            "gridcolor": "white",
            "gridwidth": 2,
            "linecolor": "white",
            "showbackground": true,
            "ticks": "",
            "zerolinecolor": "white"
           },
           "yaxis": {
            "backgroundcolor": "#E5ECF6",
            "gridcolor": "white",
            "gridwidth": 2,
            "linecolor": "white",
            "showbackground": true,
            "ticks": "",
            "zerolinecolor": "white"
           },
           "zaxis": {
            "backgroundcolor": "#E5ECF6",
            "gridcolor": "white",
            "gridwidth": 2,
            "linecolor": "white",
            "showbackground": true,
            "ticks": "",
            "zerolinecolor": "white"
           }
          },
          "shapedefaults": {
           "line": {
            "color": "#2a3f5f"
           }
          },
          "ternary": {
           "aaxis": {
            "gridcolor": "white",
            "linecolor": "white",
            "ticks": ""
           },
           "baxis": {
            "gridcolor": "white",
            "linecolor": "white",
            "ticks": ""
           },
           "bgcolor": "#E5ECF6",
           "caxis": {
            "gridcolor": "white",
            "linecolor": "white",
            "ticks": ""
           }
          },
          "title": {
           "x": 0.05
          },
          "xaxis": {
           "automargin": true,
           "gridcolor": "white",
           "linecolor": "white",
           "ticks": "",
           "title": {
            "standoff": 15
           },
           "zerolinecolor": "white",
           "zerolinewidth": 2
          },
          "yaxis": {
           "automargin": true,
           "gridcolor": "white",
           "linecolor": "white",
           "ticks": "",
           "title": {
            "standoff": 15
           },
           "zerolinecolor": "white",
           "zerolinewidth": 2
          }
         }
        },
        "xaxis": {
         "anchor": "y",
         "autorange": true,
         "domain": [
          0,
          1
         ],
         "range": [
          -0.5,
          4.5
         ],
         "title": {
          "text": "Percentile"
         },
         "type": "category"
        },
        "yaxis": {
         "anchor": "x",
         "autorange": true,
         "domain": [
          0,
          1
         ],
         "range": [
          0,
          2.1278148424693217
         ],
         "title": {
          "text": "Growth"
         },
         "type": "linear"
        }
       }
      },
      "image/png": "[encoded data removed]",
      "text/html": [
       "<div>                            <div id=\"b0044603-5c5c-4f39-9254-7afba5023401\" class=\"plotly-graph-div\" style=\"height:525px; width:100%;\"></div>            <script type=\"text/javascript\">                require([\"plotly\"], function(Plotly) {                    window.PLOTLYENV=window.PLOTLYENV || {};                                    if (document.getElementById(\"b0044603-5c5c-4f39-9254-7afba5023401\")) {                    Plotly.newPlot(                        \"b0044603-5c5c-4f39-9254-7afba5023401\",                        [{\"alignmentgroup\":\"True\",\"hovertemplate\":\"Party=Dem<br>Percentile=%{x}<br>Growth=%{y}<extra></extra>\",\"legendgroup\":\"Dem\",\"marker\":{\"color\":\"#636efa\",\"pattern\":{\"shape\":\"\"}},\"name\":\"Dem\",\"offsetgroup\":\"Dem\",\"orientation\":\"v\",\"showlegend\":true,\"textposition\":\"auto\",\"type\":\"bar\",\"x\":[\"20\",\"40\",\"60\",\"80\",\"95\"],\"xaxis\":\"x\",\"y\":[2.0214241003458557,1.7047675894344574,1.9339151486397552,1.90720930191028,2.0101758850130333],\"yaxis\":\"y\"},{\"alignmentgroup\":\"True\",\"hovertemplate\":\"Party=Rep<br>Percentile=%{x}<br>Growth=%{y}<extra></extra>\",\"legendgroup\":\"Rep\",\"marker\":{\"color\":\"#EF553B\",\"pattern\":{\"shape\":\"\"}},\"name\":\"Rep\",\"offsetgroup\":\"Rep\",\"orientation\":\"v\",\"showlegend\":true,\"textposition\":\"auto\",\"type\":\"bar\",\"x\":[\"20\",\"40\",\"60\",\"80\",\"95\"],\"xaxis\":\"x\",\"y\":[0.7950514665085552,1.1866857044633419,1.279552365163345,1.5589352482523051,1.791337497951483],\"yaxis\":\"y\"}],                        {\"barmode\":\"group\",\"legend\":{\"title\":{\"text\":\"Party\"},\"tracegroupgap\":0},\"margin\":{\"t\":60},\"template\":{\"data\":{\"bar\":[{\"error_x\":{\"color\":\"#2a3f5f\"},\"error_y\":{\"color\":\"#2a3f5f\"},\"marker\":{\"line\":{\"color\":\"#E5ECF6\",\"width\":0.5},\"pattern\":{\"fillmode\":\"overlay\",\"size\":10,\"solidity\":0.2}},\"type\":\"bar\"}],\"barpolar\":[{\"marker\":{\"line\":{\"color\":\"#E5ECF6\",\"width\":0.5},\"pattern\":{\"fillmode\":\"overlay\",\"size\":10,\"solidity\":0.2}},\"type\":\"barpolar\"}],\"carpet\":[{\"aaxis\":{\"endlinecolor\":\"#2a3f5f\",\"gridcolor\":\"white\",\"linecolor\":\"white\",\"minorgridcolor\":\"white\",\"startlinecolor\":\"#2a3f5f\"},\"baxis\":{\"endlinecolor\":\"#2a3f5f\",\"gridcolor\":\"white\",\"linecolor\":\"white\",\"minorgridcolor\":\"white\",\"startlinecolor\":\"#2a3f5f\"},\"type\":\"carpet\"}],\"choropleth\":[{\"colorbar\":{\"outlinewidth\":0,\"ticks\":\"\"},\"type\":\"choropleth\"}],\"contour\":[{\"colorbar\":{\"outlinewidth\":0,\"ticks\":\"\"},\"colorscale\":[[0.0,\"#0d0887\"],[0.1111111111111111,\"#46039f\"],[0.2222222222222222,\"#7201a8\"],[0.3333333333333333,\"#9c179e\"],[0.4444444444444444,\"#bd3786\"],[0.5555555555555556,\"#d8576b\"],[0.6666666666666666,\"#ed7953\"],[0.7777777777777778,\"#fb9f3a\"],[0.8888888888888888,\"#fdca26\"],[1.0,\"#f0f921\"]],\"type\":\"contour\"}],\"contourcarpet\":[{\"colorbar\":{\"outlinewidth\":0,\"ticks\":\"\"},\"type\":\"contourcarpet\"}],\"heatmap\":[{\"colorbar\":{\"outlinewidth\":0,\"ticks\":\"\"},\"colorscale\":[[0.0,\"#0d0887\"],[0.1111111111111111,\"#46039f\"],[0.2222222222222222,\"#7201a8\"],[0.3333333333333333,\"#9c179e\"],[0.4444444444444444,\"#bd3786\"],[0.5555555555555556,\"#d8576b\"],[0.6666666666666666,\"#ed7953\"],[0.7777777777777778,\"#fb9f3a\"],[0.8888888888888888,\"#fdca26\"],[1.0,\"#f0f921\"]],\"type\":\"heatmap\"}],\"heatmapgl\":[{\"colorbar\":{\"outlinewidth\":0,\"ticks\":\"\"},\"colorscale\":[[0.0,\"#0d0887\"],[0.1111111111111111,\"#46039f\"],[0.2222222222222222,\"#7201a8\"],[0.3333333333333333,\"#9c179e\"],[0.4444444444444444,\"#bd3786\"],[0.5555555555555556,\"#d8576b\"],[0.6666666666666666,\"#ed7953\"],[0.7777777777777778,\"#fb9f3a\"],[0.8888888888888888,\"#fdca26\"],[1.0,\"#f0f921\"]],\"type\":\"heatmapgl\"}],\"histogram\":[{\"marker\":{\"pattern\":{\"fillmode\":\"overlay\",\"size\":10,\"solidity\":0.2}},\"type\":\"histogram\"}],\"histogram2d\":[{\"colorbar\":{\"outlinewidth\":0,\"ticks\":\"\"},\"colorscale\":[[0.0,\"#0d0887\"],[0.1111111111111111,\"#46039f\"],[0.2222222222222222,\"#7201a8\"],[0.3333333333333333,\"#9c179e\"],[0.4444444444444444,\"#bd3786\"],[0.5555555555555556,\"#d8576b\"],[0.6666666666666666,\"#ed7953\"],[0.7777777777777778,\"#fb9f3a\"],[0.8888888888888888,\"#fdca26\"],[1.0,\"#f0f921\"]],\"type\":\"histogram2d\"}],\"histogram2dcontour\":[{\"colorbar\":{\"outlinewidth\":0,\"ticks\":\"\"},\"colorscale\":[[0.0,\"#0d0887\"],[0.1111111111111111,\"#46039f\"],[0.2222222222222222,\"#7201a8\"],[0.3333333333333333,\"#9c179e\"],[0.4444444444444444,\"#bd3786\"],[0.5555555555555556,\"#d8576b\"],[0.6666666666666666,\"#ed7953\"],[0.7777777777777778,\"#fb9f3a\"],[0.8888888888888888,\"#fdca26\"],[1.0,\"#f0f921\"]],\"type\":\"histogram2dcontour\"}],\"mesh3d\":[{\"colorbar\":{\"outlinewidth\":0,\"ticks\":\"\"},\"type\":\"mesh3d\"}],\"parcoords\":[{\"line\":{\"colorbar\":{\"outlinewidth\":0,\"ticks\":\"\"}},\"type\":\"parcoords\"}],\"pie\":[{\"automargin\":true,\"type\":\"pie\"}],\"scatter\":[{\"marker\":{\"colorbar\":{\"outlinewidth\":0,\"ticks\":\"\"}},\"type\":\"scatter\"}],\"scatter3d\":[{\"line\":{\"colorbar\":{\"outlinewidth\":0,\"ticks\":\"\"}},\"marker\":{\"colorbar\":{\"outlinewidth\":0,\"ticks\":\"\"}},\"type\":\"scatter3d\"}],\"scattercarpet\":[{\"marker\":{\"colorbar\":{\"outlinewidth\":0,\"ticks\":\"\"}},\"type\":\"scattercarpet\"}],\"scattergeo\":[{\"marker\":{\"colorbar\":{\"outlinewidth\":0,\"ticks\":\"\"}},\"type\":\"scattergeo\"}],\"scattergl\":[{\"marker\":{\"colorbar\":{\"outlinewidth\":0,\"ticks\":\"\"}},\"type\":\"scattergl\"}],\"scattermapbox\":[{\"marker\":{\"colorbar\":{\"outlinewidth\":0,\"ticks\":\"\"}},\"type\":\"scattermapbox\"}],\"scatterpolar\":[{\"marker\":{\"colorbar\":{\"outlinewidth\":0,\"ticks\":\"\"}},\"type\":\"scatterpolar\"}],\"scatterpolargl\":[{\"marker\":{\"colorbar\":{\"outlinewidth\":0,\"ticks\":\"\"}},\"type\":\"scatterpolargl\"}],\"scatterternary\":[{\"marker\":{\"colorbar\":{\"outlinewidth\":0,\"ticks\":\"\"}},\"type\":\"scatterternary\"}],\"surface\":[{\"colorbar\":{\"outlinewidth\":0,\"ticks\":\"\"},\"colorscale\":[[0.0,\"#0d0887\"],[0.1111111111111111,\"#46039f\"],[0.2222222222222222,\"#7201a8\"],[0.3333333333333333,\"#9c179e\"],[0.4444444444444444,\"#bd3786\"],[0.5555555555555556,\"#d8576b\"],[0.6666666666666666,\"#ed7953\"],[0.7777777777777778,\"#fb9f3a\"],[0.8888888888888888,\"#fdca26\"],[1.0,\"#f0f921\"]],\"type\":\"surface\"}],\"table\":[{\"cells\":{\"fill\":{\"color\":\"#EBF0F8\"},\"line\":{\"color\":\"white\"}},\"header\":{\"fill\":{\"color\":\"#C8D4E3\"},\"line\":{\"color\":\"white\"}},\"type\":\"table\"}]},\"layout\":{\"annotationdefaults\":{\"arrowcolor\":\"#2a3f5f\",\"arrowhead\":0,\"arrowwidth\":1},\"autotypenumbers\":\"strict\",\"coloraxis\":{\"colorbar\":{\"outlinewidth\":0,\"ticks\":\"\"}},\"colorscale\":{\"diverging\":[[0,\"#8e0152\"],[0.1,\"#c51b7d\"],[0.2,\"#de77ae\"],[0.3,\"#f1b6da\"],[0.4,\"#fde0ef\"],[0.5,\"#f7f7f7\"],[0.6,\"#e6f5d0\"],[0.7,\"#b8e186\"],[0.8,\"#7fbc41\"],[0.9,\"#4d9221\"],[1,\"#276419\"]],\"sequential\":[[0.0,\"#0d0887\"],[0.1111111111111111,\"#46039f\"],[0.2222222222222222,\"#7201a8\"],[0.3333333333333333,\"#9c179e\"],[0.4444444444444444,\"#bd3786\"],[0.5555555555555556,\"#d8576b\"],[0.6666666666666666,\"#ed7953\"],[0.7777777777777778,\"#fb9f3a\"],[0.8888888888888888,\"#fdca26\"],[1.0,\"#f0f921\"]],\"sequentialminus\":[[0.0,\"#0d0887\"],[0.1111111111111111,\"#46039f\"],[0.2222222222222222,\"#7201a8\"],[0.3333333333333333,\"#9c179e\"],[0.4444444444444444,\"#bd3786\"],[0.5555555555555556,\"#d8576b\"],[0.6666666666666666,\"#ed7953\"],[0.7777777777777778,\"#fb9f3a\"],[0.8888888888888888,\"#fdca26\"],[1.0,\"#f0f921\"]]},\"colorway\":[\"#636efa\",\"#EF553B\",\"#00cc96\",\"#ab63fa\",\"#FFA15A\",\"#19d3f3\",\"#FF6692\",\"#B6E880\",\"#FF97FF\",\"#FECB52\"],\"font\":{\"color\":\"#2a3f5f\"},\"geo\":{\"bgcolor\":\"white\",\"lakecolor\":\"white\",\"landcolor\":\"#E5ECF6\",\"showlakes\":true,\"showland\":true,\"subunitcolor\":\"white\"},\"hoverlabel\":{\"align\":\"left\"},\"hovermode\":\"closest\",\"mapbox\":{\"style\":\"light\"},\"paper_bgcolor\":\"white\",\"plot_bgcolor\":\"#E5ECF6\",\"polar\":{\"angularaxis\":{\"gridcolor\":\"white\",\"linecolor\":\"white\",\"ticks\":\"\"},\"bgcolor\":\"#E5ECF6\",\"radialaxis\":{\"gridcolor\":\"white\",\"linecolor\":\"white\",\"ticks\":\"\"}},\"scene\":{\"xaxis\":{\"backgroundcolor\":\"#E5ECF6\",\"gridcolor\":\"white\",\"gridwidth\":2,\"linecolor\":\"white\",\"showbackground\":true,\"ticks\":\"\",\"zerolinecolor\":\"white\"},\"yaxis\":{\"backgroundcolor\":\"#E5ECF6\",\"gridcolor\":\"white\",\"gridwidth\":2,\"linecolor\":\"white\",\"showbackground\":true,\"ticks\":\"\",\"zerolinecolor\":\"white\"},\"zaxis\":{\"backgroundcolor\":\"#E5ECF6\",\"gridcolor\":\"white\",\"gridwidth\":2,\"linecolor\":\"white\",\"showbackground\":true,\"ticks\":\"\",\"zerolinecolor\":\"white\"}},\"shapedefaults\":{\"line\":{\"color\":\"#2a3f5f\"}},\"ternary\":{\"aaxis\":{\"gridcolor\":\"white\",\"linecolor\":\"white\",\"ticks\":\"\"},\"baxis\":{\"gridcolor\":\"white\",\"linecolor\":\"white\",\"ticks\":\"\"},\"bgcolor\":\"#E5ECF6\",\"caxis\":{\"gridcolor\":\"white\",\"linecolor\":\"white\",\"ticks\":\"\"}},\"title\":{\"x\":0.05},\"xaxis\":{\"automargin\":true,\"gridcolor\":\"white\",\"linecolor\":\"white\",\"ticks\":\"\",\"title\":{\"standoff\":15},\"zerolinecolor\":\"white\",\"zerolinewidth\":2},\"yaxis\":{\"automargin\":true,\"gridcolor\":\"white\",\"linecolor\":\"white\",\"ticks\":\"\",\"title\":{\"standoff\":15},\"zerolinecolor\":\"white\",\"zerolinewidth\":2}}},\"xaxis\":{\"anchor\":\"y\",\"domain\":[0.0,1.0],\"title\":{\"text\":\"Percentile\"}},\"yaxis\":{\"anchor\":\"x\",\"domain\":[0.0,1.0],\"title\":{\"text\":\"Growth\"}}},                        {\"responsive\": true}                    ).then(function(){\n",
       "                            \n",
       "var gd = document.getElementById('b0044603-5c5c-4f39-9254-7afba5023401');\n",
       "var x = new MutationObserver(function (mutations, observer) {{\n",
       "        var display = window.getComputedStyle(gd).display;\n",
       "        if (!display || display === 'none') {{\n",
       "            console.log([gd, 'removed!']);\n",
       "            Plotly.purge(gd);\n",
       "            observer.disconnect();\n",
       "        }}\n",
       "}});\n",
       "\n",
       "// Listen for the removal of the full notebook cells\n",
       "var notebookContainer = gd.closest('#notebook-container');\n",
       "if (notebookContainer) {{\n",
       "    x.observe(notebookContainer, {childList: true});\n",
       "}}\n",
       "\n",
       "// Listen for the clearing of the current output cell\n",
       "var outputEl = gd.closest('.output');\n",
       "if (outputEl) {{\n",
       "    x.observe(outputEl, {childList: true});\n",
       "}}\n",
       "\n",
       "                        })                };                });            </script>        </div>"
      ]
     },
     "metadata": {},
     "output_type": "display_data"
    }
   ],
   "source": [
    "fig = px.bar(df_plot, x = \"Percentile\", y = \"Growth\", color = \"Party\", barmode = 'group')\n",
    "fig.show()"
   ]
  },
  {
   "cell_type": "code",
   "execution_count": null,
   "metadata": {},
   "outputs": [],
   "source": [
    "fig = px.bar(df_plot, x = \"Percentile\", y = \"Growth\", color = \"Party\", barmode = 'group')"
   ]
  }
 ],
 "metadata": {
  "kernelspec": {
   "display_name": "py_study",
   "language": "python",
   "name": "py_study"
  },
  "language_info": {
   "codemirror_mode": {
    "name": "ipython",
    "version": 3
   },
   "file_extension": ".py",
   "mimetype": "text/x-python",
   "name": "python",
   "nbconvert_exporter": "python",
   "pygments_lexer": "ipython3",
   "version": "3.8.10"
  }
 },
 "nbformat": 4,
 "nbformat_minor": 4
}
