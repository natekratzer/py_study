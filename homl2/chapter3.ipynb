{
 "cells": [
  {
   "cell_type": "markdown",
   "metadata": {},
   "source": [
    "# Chapter 3 of HOML 2nd edition"
   ]
  },
  {
   "cell_type": "code",
   "execution_count": 9,
   "metadata": {},
   "outputs": [],
   "source": [
    "import numpy as np\n",
    "import pandas as pd"
   ]
  },
  {
   "cell_type": "code",
   "execution_count": 1,
   "metadata": {},
   "outputs": [
    {
     "data": {
      "text/plain": [
       "dict_keys(['data', 'target', 'frame', 'categories', 'feature_names', 'target_names', 'DESCR', 'details', 'url'])"
      ]
     },
     "execution_count": 1,
     "metadata": {},
     "output_type": "execute_result"
    }
   ],
   "source": [
    "from sklearn.datasets import fetch_openml\n",
    "mnist = fetch_openml('mnist_784', version = 1)\n",
    "mnist.keys()"
   ]
  },
  {
   "cell_type": "code",
   "execution_count": 10,
   "metadata": {},
   "outputs": [],
   "source": [
    "X, y = mnist[\"data\"], mnist[\"target\"]\n",
    "y = y.astype(np.uint8) #make it an integer, not a string\n",
    "X_train, X_test, y_train, y_test = X[:60000], X[60000: ], y[:60000], y[60000:]"
   ]
  },
  {
   "cell_type": "code",
   "execution_count": 11,
   "metadata": {},
   "outputs": [],
   "source": [
    "y_train_5 = (y_train == 5)\n",
    "y_test_5 = (y_test == 5)"
   ]
  },
  {
   "cell_type": "code",
   "execution_count": 12,
   "metadata": {},
   "outputs": [
    {
     "data": {
      "text/plain": [
       "SGDClassifier(random_state=42)"
      ]
     },
     "execution_count": 12,
     "metadata": {},
     "output_type": "execute_result"
    }
   ],
   "source": [
    "from sklearn.linear_model import SGDClassifier\n",
    "\n",
    "sgd_clf = SGDClassifier(random_state=42)\n",
    "sgd_clf.fit(X_train, y_train_5)"
   ]
  },
  {
   "cell_type": "code",
   "execution_count": 13,
   "metadata": {},
   "outputs": [
    {
     "data": {
      "text/plain": [
       "array([0.95035, 0.96035, 0.9604 ])"
      ]
     },
     "execution_count": 13,
     "metadata": {},
     "output_type": "execute_result"
    }
   ],
   "source": [
    "from sklearn.model_selection import cross_val_score\n",
    "cross_val_score(sgd_clf, X_train, y_train_5, cv=3, scoring = \"accuracy\")"
   ]
  },
  {
   "cell_type": "markdown",
   "metadata": {},
   "source": [
    "However, accuracy is not a great measure. Always guessing that a digit is not a 5 would be 90% accurate since only 10% of the data are 5s. To set up for a confusion matrix requires two steps"
   ]
  },
  {
   "cell_type": "code",
   "execution_count": 15,
   "metadata": {},
   "outputs": [
    {
     "data": {
      "text/plain": [
       "array([[53892,   687],\n",
       "       [ 1891,  3530]])"
      ]
     },
     "execution_count": 15,
     "metadata": {},
     "output_type": "execute_result"
    }
   ],
   "source": [
    "from sklearn.model_selection import cross_val_predict\n",
    "y_train_pred = cross_val_predict(sgd_clf, X_train, y_train_5, cv=3)\n",
    "\n",
    "from sklearn.metrics import confusion_matrix\n",
    "confusion_matrix(y_train_5, y_train_pred)"
   ]
  },
  {
   "cell_type": "code",
   "execution_count": 16,
   "metadata": {},
   "outputs": [],
   "source": [
    "sk_matrix = confusion_matrix(y_train_5, y_train_pred)"
   ]
  },
  {
   "cell_type": "code",
   "execution_count": 22,
   "metadata": {},
   "outputs": [
    {
     "data": {
      "text/plain": [
       "687"
      ]
     },
     "execution_count": 22,
     "metadata": {},
     "output_type": "execute_result"
    }
   ],
   "source": []
  },
  {
   "cell_type": "code",
   "execution_count": 25,
   "metadata": {},
   "outputs": [
    {
     "data": {
      "text/html": [
       "<div>\n",
       "<style scoped>\n",
       "    .dataframe tbody tr th:only-of-type {\n",
       "        vertical-align: middle;\n",
       "    }\n",
       "\n",
       "    .dataframe tbody tr th {\n",
       "        vertical-align: top;\n",
       "    }\n",
       "\n",
       "    .dataframe thead th {\n",
       "        text-align: right;\n",
       "    }\n",
       "</style>\n",
       "<table border=\"1\" class=\"dataframe\">\n",
       "  <thead>\n",
       "    <tr style=\"text-align: right;\">\n",
       "      <th></th>\n",
       "      <th>Negative</th>\n",
       "      <th>Positive</th>\n",
       "    </tr>\n",
       "  </thead>\n",
       "  <tbody>\n",
       "    <tr>\n",
       "      <th>Negative</th>\n",
       "      <td>53892</td>\n",
       "      <td>687</td>\n",
       "    </tr>\n",
       "    <tr>\n",
       "      <th>Positive</th>\n",
       "      <td>1891</td>\n",
       "      <td>3530</td>\n",
       "    </tr>\n",
       "  </tbody>\n",
       "</table>\n",
       "</div>"
      ],
      "text/plain": [
       "          Negative  Positive\n",
       "Negative     53892       687\n",
       "Positive      1891      3530"
      ]
     },
     "execution_count": 25,
     "metadata": {},
     "output_type": "execute_result"
    }
   ],
   "source": [
    "pd.DataFrame(sk_matrix, columns = [\"Negative\", \"Positive\"], index = [\"Negative\", \"Positive\"])"
   ]
  },
  {
   "cell_type": "markdown",
   "metadata": {},
   "source": [
    "There are a lot of names for the metrics you can make from the confusion matrix. The two most important are\n",
    "- precision (true positives over those you think are positive)\n",
    "- recall (true positives over all actual positives)"
   ]
  },
  {
   "cell_type": "code",
   "execution_count": 27,
   "metadata": {},
   "outputs": [],
   "source": [
    "def format_confusion_matrix(sk_matrix):\n",
    "    labeled_df = pd.DataFrame(sk_matrix, columns = [\"Negative\", \"Positive\"], index = [\"Negative\", \"Positive\"])\n",
    "    \n",
    "    return labeled_df\n",
    "\n",
    "def confusion_metrics(sk_matrix):\n",
    "    tn = sk_matrix[0, 0]\n",
    "    fp = sk_matrix[0, 1]\n",
    "    fn = sk_matrix[1, 0]\n",
    "    tp = sk_matrix[1, 1]\n",
    "\n",
    "    precision = tp/(tp + fp) #out of those you think are positive, how often are you correct?\n",
    "    recall = tp/(tp + fn) #out of all positives in the population, how many are you catching? \n",
    "    # For recall, consider a quality assurance case where you need to recall faulty products. How many of those that should be recalled\n",
    "    # is your model actually catching\n",
    "    f_score = 2/ ((1/precision) + (1/recall)) #harmonic mean, weighs low scores more highly than an arithmetic mean\n",
    "    # In general you should not use an f_score uncritically. The actual situation determines if we care more about\n",
    "    # recall or precision, but it's generally bad to just put them together in one metric\n",
    "\n",
    "    metric_df = pd.DataFrame({'metric': [precision, recall, f_score]}, index = [\"Precision\", \"Recall\", \"F Score\"])\n",
    "\n",
    "    return metric_df\n"
   ]
  },
  {
   "cell_type": "code",
   "execution_count": 29,
   "metadata": {},
   "outputs": [
    {
     "data": {
      "text/html": [
       "<div>\n",
       "<style scoped>\n",
       "    .dataframe tbody tr th:only-of-type {\n",
       "        vertical-align: middle;\n",
       "    }\n",
       "\n",
       "    .dataframe tbody tr th {\n",
       "        vertical-align: top;\n",
       "    }\n",
       "\n",
       "    .dataframe thead th {\n",
       "        text-align: right;\n",
       "    }\n",
       "</style>\n",
       "<table border=\"1\" class=\"dataframe\">\n",
       "  <thead>\n",
       "    <tr style=\"text-align: right;\">\n",
       "      <th></th>\n",
       "      <th>metric</th>\n",
       "    </tr>\n",
       "  </thead>\n",
       "  <tbody>\n",
       "    <tr>\n",
       "      <th>Precision</th>\n",
       "      <td>0.837088</td>\n",
       "    </tr>\n",
       "    <tr>\n",
       "      <th>Recall</th>\n",
       "      <td>0.651171</td>\n",
       "    </tr>\n",
       "    <tr>\n",
       "      <th>F Score</th>\n",
       "      <td>0.732517</td>\n",
       "    </tr>\n",
       "  </tbody>\n",
       "</table>\n",
       "</div>"
      ],
      "text/plain": [
       "             metric\n",
       "Precision  0.837088\n",
       "Recall     0.651171\n",
       "F Score    0.732517"
      ]
     },
     "execution_count": 29,
     "metadata": {},
     "output_type": "execute_result"
    }
   ],
   "source": [
    "confusion_metrics(sk_matrix)"
   ]
  },
  {
   "cell_type": "markdown",
   "metadata": {},
   "source": [
    "You can also plot a curve of precision and recall. You can change the threshold at which something is classified as 'true'. \n",
    "- At a higher threshold, fewer things will be classified as true\n",
    "- So high thresholds have high precision and low recall\n",
    "\n",
    "We can use sklearn to look at precision and recall values at different thresholds"
   ]
  },
  {
   "cell_type": "code",
   "execution_count": 33,
   "metadata": {},
   "outputs": [
    {
     "data": {
      "image/png": "[encoded data removed]",
      "text/plain": [
       "<Figure size 576x288 with 1 Axes>"
      ]
     },
     "metadata": {
      "needs_background": "light"
     },
     "output_type": "display_data"
    }
   ],
   "source": [
    "# set up for matplotlib\n",
    "%matplotlib inline\n",
    "import matplotlib as mpl\n",
    "import matplotlib.pyplot as plt\n",
    "\n",
    "# model used to make classification decisions\n",
    "y_scores = cross_val_predict(sgd_clf, X_train, y_train_5, cv=3,\n",
    "                             method=\"decision_function\")\n",
    "\n",
    "from sklearn.metrics import precision_recall_curve\n",
    "precisions, recalls, thresholds = precision_recall_curve(y_train_5, y_scores)\n",
    "\n",
    "def plot_precision_recall_vs_threshold(precisions, recalls, thresholds):\n",
    "    plt.plot(thresholds, precisions[:-1], \"b--\", label=\"Precision\", linewidth=2)\n",
    "    plt.plot(thresholds, recalls[:-1], \"g-\", label=\"Recall\", linewidth=2)\n",
    "    plt.legend(loc=\"center right\", fontsize=16) \n",
    "    plt.xlabel(\"Threshold\", fontsize=16)        \n",
    "    plt.grid(True)                              \n",
    "    plt.axis([-50000, 50000, 0, 1])             \n",
    "\n",
    "plt.figure(figsize=(8, 4))                                                                  \n",
    "plot_precision_recall_vs_threshold(precisions, recalls, thresholds)\n",
    "plt.show()"
   ]
  },
  {
   "cell_type": "markdown",
   "metadata": {},
   "source": [
    "Another common way to consider the trade-offs is the reciever operating characteristic (ROC) curve. It is a plot of \n",
    "- true postive rate (recall) (sensitivity) (tp / tp + fn)\n",
    "- false positive rate (fall-out) (fp/ tn + fp)\n",
    "\n",
    "The True Negative Rate (TNR) is also known as _specificity_ and the False Positive Rate is equal to 1 - specificity."
   ]
  },
  {
   "cell_type": "code",
   "execution_count": 36,
   "metadata": {},
   "outputs": [
    {
     "data": {
      "image/png": "[encoded data removed]",
      "text/plain": [
       "<Figure size 576x432 with 1 Axes>"
      ]
     },
     "metadata": {
      "needs_background": "light"
     },
     "output_type": "display_data"
    }
   ],
   "source": [
    "from sklearn.metrics import roc_curve\n",
    "\n",
    "fpr, tpr, thresholds = roc_curve(y_train_5, y_scores)\n",
    "\n",
    "def plot_roc_curve(fpr, tpr, label=None):\n",
    "    plt.plot(fpr, tpr, linewidth=2, label=label)\n",
    "    plt.plot([0, 1], [0, 1], 'k--') # dashed diagonal\n",
    "    plt.axis([0, 1, 0, 1])                                    # Not shown in the book\n",
    "    plt.xlabel('False Positive Rate (Fall-Out)', fontsize=16) # Not shown\n",
    "    plt.ylabel('True Positive Rate (Recall)', fontsize=16)    # Not shown\n",
    "    plt.grid(True)                                            # Not shown\n",
    "\n",
    "plt.figure(figsize=(8, 6))                                    # Not shown\n",
    "plot_roc_curve(fpr, tpr)\n",
    "#fpr_90 = fpr[np.argmax(tpr >= recall_90_precision)]           # Not shown\n",
    "#plt.plot([fpr_90, fpr_90], [0., recall_90_precision], \"r:\")   # Not shown\n",
    "#plt.plot([0.0, fpr_90], [recall_90_precision, recall_90_precision], \"r:\")  # Not shown\n",
    "#plt.plot([fpr_90], [recall_90_precision], \"ro\")               # Not shown\n",
    "#save_fig(\"roc_curve_plot\")                                    # Not shown\n",
    "plt.show()\n"
   ]
  },
  {
   "cell_type": "markdown",
   "metadata": {},
   "source": [
    "One useful measure here can be the area under the curve, which gives an indication of how well the classifier performs across various thresholds. A perfect classifier has a 1, a random classifier has a 0.5"
   ]
  },
  {
   "cell_type": "code",
   "execution_count": 37,
   "metadata": {},
   "outputs": [
    {
     "data": {
      "text/plain": [
       "0.9604938554008616"
      ]
     },
     "execution_count": 37,
     "metadata": {},
     "output_type": "execute_result"
    }
   ],
   "source": [
    "from sklearn.metrics import roc_auc_score\n",
    "roc_auc_score(y_train_5, y_scores)"
   ]
  },
  {
   "cell_type": "markdown",
   "metadata": {},
   "source": [
    "Part of the usefulness of these metrics is to compare different classifiers, so let's train another and plot them both. "
   ]
  },
  {
   "cell_type": "code",
   "execution_count": 39,
   "metadata": {},
   "outputs": [],
   "source": [
    "from sklearn.ensemble import RandomForestClassifier\n",
    "\n",
    "forest_clf = RandomForestClassifier(random_state=42)\n",
    "y_probs_forest = cross_val_predict(forest_clf, X_train, y_train_5, cv = 3, method = \"predict_proba\")"
   ]
  },
  {
   "cell_type": "code",
   "execution_count": 43,
   "metadata": {},
   "outputs": [],
   "source": [
    "y_scores_forest = y_probs_forest[:, 1]\n",
    "fpr_forest, tpr_forest, thresholds_forest = roc_curve(y_train_5, y_scores_forest)"
   ]
  },
  {
   "cell_type": "code",
   "execution_count": 45,
   "metadata": {},
   "outputs": [
    {
     "name": "stdout",
     "output_type": "stream",
     "text": [
      "\u001b[0;31mSignature:\u001b[0m\n",
      "\u001b[0mroc_curve\u001b[0m\u001b[0;34m(\u001b[0m\u001b[0;34m\u001b[0m\n",
      "\u001b[0;34m\u001b[0m    \u001b[0my_true\u001b[0m\u001b[0;34m,\u001b[0m\u001b[0;34m\u001b[0m\n",
      "\u001b[0;34m\u001b[0m    \u001b[0my_score\u001b[0m\u001b[0;34m,\u001b[0m\u001b[0;34m\u001b[0m\n",
      "\u001b[0;34m\u001b[0m    \u001b[0;34m*\u001b[0m\u001b[0;34m,\u001b[0m\u001b[0;34m\u001b[0m\n",
      "\u001b[0;34m\u001b[0m    \u001b[0mpos_label\u001b[0m\u001b[0;34m=\u001b[0m\u001b[0;32mNone\u001b[0m\u001b[0;34m,\u001b[0m\u001b[0;34m\u001b[0m\n",
      "\u001b[0;34m\u001b[0m    \u001b[0msample_weight\u001b[0m\u001b[0;34m=\u001b[0m\u001b[0;32mNone\u001b[0m\u001b[0;34m,\u001b[0m\u001b[0;34m\u001b[0m\n",
      "\u001b[0;34m\u001b[0m    \u001b[0mdrop_intermediate\u001b[0m\u001b[0;34m=\u001b[0m\u001b[0;32mTrue\u001b[0m\u001b[0;34m,\u001b[0m\u001b[0;34m\u001b[0m\n",
      "\u001b[0;34m\u001b[0m\u001b[0;34m)\u001b[0m\u001b[0;34m\u001b[0m\u001b[0;34m\u001b[0m\u001b[0m\n",
      "\u001b[0;31mDocstring:\u001b[0m\n",
      "Compute Receiver operating characteristic (ROC).\n",
      "\n",
      "Note: this implementation is restricted to the binary classification task.\n",
      "\n",
      "Read more in the :ref:`User Guide <roc_metrics>`.\n",
      "\n",
      "Parameters\n",
      "----------\n",
      "y_true : ndarray of shape (n_samples,)\n",
      "    True binary labels. If labels are not either {-1, 1} or {0, 1}, then\n",
      "    pos_label should be explicitly given.\n",
      "\n",
      "y_score : ndarray of shape (n_samples,)\n",
      "    Target scores, can either be probability estimates of the positive\n",
      "    class, confidence values, or non-thresholded measure of decisions\n",
      "    (as returned by \"decision_function\" on some classifiers).\n",
      "\n",
      "pos_label : int or str, default=None\n",
      "    The label of the positive class.\n",
      "    When ``pos_label=None``, if `y_true` is in {-1, 1} or {0, 1},\n",
      "    ``pos_label`` is set to 1, otherwise an error will be raised.\n",
      "\n",
      "sample_weight : array-like of shape (n_samples,), default=None\n",
      "    Sample weights.\n",
      "\n",
      "drop_intermediate : bool, default=True\n",
      "    Whether to drop some suboptimal thresholds which would not appear\n",
      "    on a plotted ROC curve. This is useful in order to create lighter\n",
      "    ROC curves.\n",
      "\n",
      "    .. versionadded:: 0.17\n",
      "       parameter *drop_intermediate*.\n",
      "\n",
      "Returns\n",
      "-------\n",
      "fpr : ndarray of shape (>2,)\n",
      "    Increasing false positive rates such that element i is the false\n",
      "    positive rate of predictions with score >= `thresholds[i]`.\n",
      "\n",
      "tpr : ndarray of shape (>2,)\n",
      "    Increasing true positive rates such that element `i` is the true\n",
      "    positive rate of predictions with score >= `thresholds[i]`.\n",
      "\n",
      "thresholds : ndarray of shape = (n_thresholds,)\n",
      "    Decreasing thresholds on the decision function used to compute\n",
      "    fpr and tpr. `thresholds[0]` represents no instances being predicted\n",
      "    and is arbitrarily set to `max(y_score) + 1`.\n",
      "\n",
      "See Also\n",
      "--------\n",
      "RocCurveDisplay.from_estimator : Plot Receiver Operating Characteristic\n",
      "    (ROC) curve given an estimator and some data.\n",
      "RocCurveDisplay.from_predictions : Plot Receiver Operating Characteristic\n",
      "    (ROC) curve given the true and predicted values.\n",
      "det_curve: Compute error rates for different probability thresholds.\n",
      "roc_auc_score : Compute the area under the ROC curve.\n",
      "\n",
      "Notes\n",
      "-----\n",
      "Since the thresholds are sorted from low to high values, they\n",
      "are reversed upon returning them to ensure they correspond to both ``fpr``\n",
      "and ``tpr``, which are sorted in reversed order during their calculation.\n",
      "\n",
      "References\n",
      "----------\n",
      ".. [1] `Wikipedia entry for the Receiver operating characteristic\n",
      "        <https://en.wikipedia.org/wiki/Receiver_operating_characteristic>`_\n",
      "\n",
      ".. [2] Fawcett T. An introduction to ROC analysis[J]. Pattern Recognition\n",
      "       Letters, 2006, 27(8):861-874.\n",
      "\n",
      "Examples\n",
      "--------\n",
      ">>> import numpy as np\n",
      ">>> from sklearn import metrics\n",
      ">>> y = np.array([1, 1, 2, 2])\n",
      ">>> scores = np.array([0.1, 0.4, 0.35, 0.8])\n",
      ">>> fpr, tpr, thresholds = metrics.roc_curve(y, scores, pos_label=2)\n",
      ">>> fpr\n",
      "array([0. , 0. , 0.5, 0.5, 1. ])\n",
      ">>> tpr\n",
      "array([0. , 0.5, 0.5, 1. , 1. ])\n",
      ">>> thresholds\n",
      "array([1.8 , 0.8 , 0.4 , 0.35, 0.1 ])\n",
      "\u001b[0;31mFile:\u001b[0m      ~/py/homl2/lib/python3.8/site-packages/sklearn/metrics/_ranking.py\n",
      "\u001b[0;31mType:\u001b[0m      function\n"
     ]
    }
   ],
   "source": [
    "# you can find out what a function returns this way, and the list should be in order\n",
    "?roc_curve"
   ]
  },
  {
   "cell_type": "code",
   "execution_count": 46,
   "metadata": {},
   "outputs": [
    {
     "data": {
      "image/png": "[encoded data removed]",
      "text/plain": [
       "<Figure size 432x288 with 1 Axes>"
      ]
     },
     "metadata": {
      "needs_background": "light"
     },
     "output_type": "display_data"
    }
   ],
   "source": [
    "plt.plot(fpr, tpr, \"b:\", label = \"SGD\")\n",
    "plot_roc_curve(fpr_forest, tpr_forest, \"Random Forest\")\n",
    "plt.legend(loc = \"lower right\")\n",
    "plt.show()"
   ]
  },
  {
   "cell_type": "markdown",
   "metadata": {},
   "source": [
    "No matter where we choose to be along the ROC curve, the Random Forest classifier is better than the SGD one. For any Recall we choose we will still get a lower corresponding False Positive Rate"
   ]
  },
  {
   "cell_type": "code",
   "execution_count": 47,
   "metadata": {},
   "outputs": [
    {
     "data": {
      "text/plain": [
       "0.9983436731328145"
      ]
     },
     "execution_count": 47,
     "metadata": {},
     "output_type": "execute_result"
    }
   ],
   "source": [
    "roc_auc_score(y_train_5, y_scores_forest)"
   ]
  },
  {
   "cell_type": "markdown",
   "metadata": {},
   "source": [
    "# Multiclass Classification"
   ]
  },
  {
   "cell_type": "code",
   "execution_count": null,
   "metadata": {},
   "outputs": [],
   "source": []
  }
 ],
 "metadata": {
  "interpreter": {
   "hash": "fb8743189c260f05190e9858ccbf21174ca5d0a988203cbb84305ce64a12d11f"
  },
  "kernelspec": {
   "display_name": "Python 3.8.10 64-bit ('nlp': venv)",
   "name": "python3"
  },
  "language_info": {
   "codemirror_mode": {
    "name": "ipython",
    "version": 3
   },
   "file_extension": ".py",
   "mimetype": "text/x-python",
   "name": "python",
   "nbconvert_exporter": "python",
   "pygments_lexer": "ipython3",
   "version": "3.8.10"
  },
  "orig_nbformat": 4
 },
 "nbformat": 4,
 "nbformat_minor": 2
}
